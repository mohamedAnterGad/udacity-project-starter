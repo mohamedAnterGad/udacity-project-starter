{
 "cells": [
  {
   "cell_type": "markdown",
   "metadata": {
    "id": "AEvUC6rfH0bu"
   },
   "source": [
    "# Predict Bike Sharing Demand with AutoGluon Template"
   ]
  },
  {
   "cell_type": "markdown",
   "metadata": {
    "id": "HxTbaGrrH0b1"
   },
   "source": [
    "## Project: Predict Bike Sharing Demand with AutoGluon\n",
    "This notebook is a template with each step that you need to complete for the project.\n",
    "\n",
    "Please fill in your code where there are explicit `?` markers in the notebook. You are welcome to add more cells and code as you see fit.\n",
    "\n",
    "Once you have completed all the code implementations, please export your notebook as a HTML file so the reviews can view your code. Make sure you have all outputs correctly outputted.\n",
    "\n",
    "`File-> Export Notebook As... -> Export Notebook as HTML`\n",
    "\n",
    "There is a writeup to complete as well after all code implememtation is done. Please answer all questions and attach the necessary tables and charts. You can complete the writeup in either markdown or PDF.\n",
    "\n",
    "Completing the code template and writeup template will cover all of the rubric points for this project.\n",
    "\n",
    "The rubric contains \"Stand Out Suggestions\" for enhancing the project beyond the minimum requirements. The stand out suggestions are optional. If you decide to pursue the \"stand out suggestions\", you can include the code in this notebook and also discuss the results in the writeup file."
   ]
  },
  {
   "cell_type": "markdown",
   "metadata": {
    "id": "8XI8V6MXH0b2"
   },
   "source": [
    "## Step 1: Create an account with Kaggle"
   ]
  },
  {
   "cell_type": "markdown",
   "metadata": {
    "id": "SE8qViwRH0b3"
   },
   "source": [
    "### Create Kaggle Account and download API key\n",
    "Below is example of steps to get the API username and key. Each student will have their own username and key."
   ]
  },
  {
   "cell_type": "markdown",
   "metadata": {
    "id": "19eyFBg6H0b5"
   },
   "source": [
    "## Step 2: Download the Kaggle dataset using the kaggle python library"
   ]
  },
  {
   "cell_type": "markdown",
   "metadata": {
    "id": "W0nwsaoLH0b6"
   },
   "source": [
    "### Open up Sagemaker Studio and use starter template"
   ]
  },
  {
   "cell_type": "markdown",
   "metadata": {
    "id": "gU6sPqVUH0b7"
   },
   "source": [
    "1. Notebook should be using a `ml.t3.medium` instance (2 vCPU + 4 GiB)\n",
    "2. Notebook should be using kernal: `Python 3 (MXNet 1.8 Python 3.7 CPU Optimized)`"
   ]
  },
  {
   "cell_type": "markdown",
   "metadata": {
    "id": "W352EpT9H0b8"
   },
   "source": [
    "### Install packages"
   ]
  },
  {
   "cell_type": "code",
   "execution_count": 1,
   "metadata": {
    "colab": {
     "base_uri": "https://localhost:8080/"
    },
    "id": "4WYp-v_6J8jX",
    "outputId": "3788dbad-21b4-472b-f9fd-ee6b22df446a"
   },
   "outputs": [
    {
     "name": "stdout",
     "output_type": "stream",
     "text": [
      "Looking in indexes: https://pypi.org/simple, https://us-python.pkg.dev/colab-wheels/public/simple/\n",
      "Requirement already satisfied: folium==0.2.1 in /usr/local/lib/python3.7/dist-packages (0.2.1)\n",
      "Requirement already satisfied: Jinja2 in /usr/local/lib/python3.7/dist-packages (from folium==0.2.1) (2.11.3)\n",
      "Requirement already satisfied: MarkupSafe>=0.23 in /usr/local/lib/python3.7/dist-packages (from Jinja2->folium==0.2.1) (2.0.1)\n"
     ]
    }
   ],
   "source": [
    "!pip install folium==0.2.1"
   ]
  },
  {
   "cell_type": "code",
   "execution_count": 2,
   "metadata": {
    "colab": {
     "base_uri": "https://localhost:8080/"
    },
    "id": "i1oDE-k8JmR5",
    "outputId": "da6c955b-81b0-4fbc-c501-75af3c307990"
   },
   "outputs": [
    {
     "name": "stdout",
     "output_type": "stream",
     "text": [
      "Looking in indexes: https://pypi.org/simple, https://us-python.pkg.dev/colab-wheels/public/simple/\n",
      "Requirement already satisfied: mxnet<2.0.0,>=1.7.0 in /usr/local/lib/python3.7/dist-packages (1.9.1)\n",
      "Requirement already satisfied: numpy<2.0.0,>1.16.0 in /usr/local/lib/python3.7/dist-packages (from mxnet<2.0.0,>=1.7.0) (1.21.6)\n",
      "Requirement already satisfied: graphviz<0.9.0,>=0.8.1 in /usr/local/lib/python3.7/dist-packages (from mxnet<2.0.0,>=1.7.0) (0.8.4)\n",
      "Requirement already satisfied: requests<3,>=2.20.0 in /usr/local/lib/python3.7/dist-packages (from mxnet<2.0.0,>=1.7.0) (2.23.0)\n",
      "Requirement already satisfied: certifi>=2017.4.17 in /usr/local/lib/python3.7/dist-packages (from requests<3,>=2.20.0->mxnet<2.0.0,>=1.7.0) (2022.6.15)\n",
      "Requirement already satisfied: chardet<4,>=3.0.2 in /usr/local/lib/python3.7/dist-packages (from requests<3,>=2.20.0->mxnet<2.0.0,>=1.7.0) (3.0.4)\n",
      "Requirement already satisfied: urllib3!=1.25.0,!=1.25.1,<1.26,>=1.21.1 in /usr/local/lib/python3.7/dist-packages (from requests<3,>=2.20.0->mxnet<2.0.0,>=1.7.0) (1.25.11)\n",
      "Requirement already satisfied: idna<3,>=2.5 in /usr/local/lib/python3.7/dist-packages (from requests<3,>=2.20.0->mxnet<2.0.0,>=1.7.0) (2.10)\n",
      "Looking in indexes: https://pypi.org/simple, https://us-python.pkg.dev/colab-wheels/public/simple/, https://download.pytorch.org/whl/cu113\n",
      "Requirement already satisfied: torch==1.12.0+cu113 in /usr/local/lib/python3.7/dist-packages (1.12.0+cu113)\n",
      "Requirement already satisfied: torchvision==0.13.0+cu113 in /usr/local/lib/python3.7/dist-packages (0.13.0+cu113)\n",
      "Requirement already satisfied: torchtext==0.13.0 in /usr/local/lib/python3.7/dist-packages (0.13.0)\n",
      "Requirement already satisfied: typing-extensions in /usr/local/lib/python3.7/dist-packages (from torch==1.12.0+cu113) (4.1.1)\n",
      "Requirement already satisfied: pillow!=8.3.*,>=5.3.0 in /usr/local/lib/python3.7/dist-packages (from torchvision==0.13.0+cu113) (9.0.1)\n",
      "Requirement already satisfied: numpy in /usr/local/lib/python3.7/dist-packages (from torchvision==0.13.0+cu113) (1.21.6)\n",
      "Requirement already satisfied: requests in /usr/local/lib/python3.7/dist-packages (from torchvision==0.13.0+cu113) (2.23.0)\n",
      "Requirement already satisfied: tqdm in /usr/local/lib/python3.7/dist-packages (from torchtext==0.13.0) (4.64.0)\n",
      "Requirement already satisfied: chardet<4,>=3.0.2 in /usr/local/lib/python3.7/dist-packages (from requests->torchvision==0.13.0+cu113) (3.0.4)\n",
      "Requirement already satisfied: idna<3,>=2.5 in /usr/local/lib/python3.7/dist-packages (from requests->torchvision==0.13.0+cu113) (2.10)\n",
      "Requirement already satisfied: certifi>=2017.4.17 in /usr/local/lib/python3.7/dist-packages (from requests->torchvision==0.13.0+cu113) (2022.6.15)\n",
      "Requirement already satisfied: urllib3!=1.25.0,!=1.25.1,<1.26,>=1.21.1 in /usr/local/lib/python3.7/dist-packages (from requests->torchvision==0.13.0+cu113) (1.25.11)\n",
      "Looking in indexes: https://pypi.org/simple, https://us-python.pkg.dev/colab-wheels/public/simple/\n",
      "Requirement already satisfied: setuptools in /usr/local/lib/python3.7/dist-packages (63.2.0)\n",
      "Requirement already satisfied: wheel in /usr/local/lib/python3.7/dist-packages (0.37.1)\n",
      "Looking in indexes: https://pypi.org/simple, https://us-python.pkg.dev/colab-wheels/public/simple/\n",
      "Requirement already satisfied: autogluon in /usr/local/lib/python3.7/dist-packages (0.5.1)\n",
      "Requirement already satisfied: autogluon.tabular[all]==0.5.1 in /usr/local/lib/python3.7/dist-packages (from autogluon) (0.5.1)\n",
      "Requirement already satisfied: autogluon.core[all]==0.5.1 in /usr/local/lib/python3.7/dist-packages (from autogluon) (0.5.1)\n",
      "Requirement already satisfied: autogluon.text==0.5.1 in /usr/local/lib/python3.7/dist-packages (from autogluon) (0.5.1)\n",
      "Requirement already satisfied: autogluon.vision==0.5.1 in /usr/local/lib/python3.7/dist-packages (from autogluon) (0.5.1)\n",
      "Requirement already satisfied: autogluon.features==0.5.1 in /usr/local/lib/python3.7/dist-packages (from autogluon) (0.5.1)\n",
      "Requirement already satisfied: autogluon.multimodal==0.5.1 in /usr/local/lib/python3.7/dist-packages (from autogluon) (0.5.1)\n",
      "Requirement already satisfied: autogluon.timeseries[all]==0.5.1 in /usr/local/lib/python3.7/dist-packages (from autogluon) (0.5.1)\n",
      "Requirement already satisfied: autogluon.common==0.5.1 in /usr/local/lib/python3.7/dist-packages (from autogluon.core[all]==0.5.1->autogluon) (0.5.1)\n",
      "Requirement already satisfied: tqdm>=4.38.0 in /usr/local/lib/python3.7/dist-packages (from autogluon.core[all]==0.5.1->autogluon) (4.64.0)\n",
      "Requirement already satisfied: requests in /usr/local/lib/python3.7/dist-packages (from autogluon.core[all]==0.5.1->autogluon) (2.23.0)\n",
      "Requirement already satisfied: pandas!=1.4.0,<1.5,>=1.2.5 in /usr/local/lib/python3.7/dist-packages (from autogluon.core[all]==0.5.1->autogluon) (1.3.5)\n",
      "Requirement already satisfied: dask<=2021.11.2,>=2021.09.1 in /usr/local/lib/python3.7/dist-packages (from autogluon.core[all]==0.5.1->autogluon) (2021.11.2)\n",
      "Requirement already satisfied: boto3 in /usr/local/lib/python3.7/dist-packages (from autogluon.core[all]==0.5.1->autogluon) (1.24.39)\n",
      "Requirement already satisfied: scikit-learn<1.1,>=1.0.0 in /usr/local/lib/python3.7/dist-packages (from autogluon.core[all]==0.5.1->autogluon) (1.0.2)\n",
      "Requirement already satisfied: matplotlib in /usr/local/lib/python3.7/dist-packages (from autogluon.core[all]==0.5.1->autogluon) (3.2.2)\n",
      "Requirement already satisfied: distributed<=2021.11.2,>=2021.09.1 in /usr/local/lib/python3.7/dist-packages (from autogluon.core[all]==0.5.1->autogluon) (2021.11.2)\n",
      "Requirement already satisfied: scipy<1.8.0,>=1.5.4 in /usr/local/lib/python3.7/dist-packages (from autogluon.core[all]==0.5.1->autogluon) (1.7.3)\n",
      "Requirement already satisfied: numpy<1.23,>=1.21 in /usr/local/lib/python3.7/dist-packages (from autogluon.core[all]==0.5.1->autogluon) (1.21.6)\n",
      "Requirement already satisfied: hyperopt<0.2.8,>=0.2.7 in /usr/local/lib/python3.7/dist-packages (from autogluon.core[all]==0.5.1->autogluon) (0.2.7)\n",
      "Requirement already satisfied: ray[tune]<1.14,>=1.13 in /usr/local/lib/python3.7/dist-packages (from autogluon.core[all]==0.5.1->autogluon) (1.13.0)\n",
      "Requirement already satisfied: psutil<6,>=5.7.3 in /usr/local/lib/python3.7/dist-packages (from autogluon.features==0.5.1->autogluon) (5.8.0)\n",
      "Requirement already satisfied: torchmetrics<0.8.0,>=0.7.2 in /usr/local/lib/python3.7/dist-packages (from autogluon.multimodal==0.5.1->autogluon) (0.7.3)\n",
      "Requirement already satisfied: nptyping<1.5.0,>=1.4.4 in /usr/local/lib/python3.7/dist-packages (from autogluon.multimodal==0.5.1->autogluon) (1.4.4)\n",
      "Requirement already satisfied: nltk<4.0.0,>=3.4.5 in /usr/local/lib/python3.7/dist-packages (from autogluon.multimodal==0.5.1->autogluon) (3.7)\n",
      "Requirement already satisfied: Pillow<9.1.0,>=9.0.1 in /usr/local/lib/python3.7/dist-packages (from autogluon.multimodal==0.5.1->autogluon) (9.0.1)\n",
      "Requirement already satisfied: transformers<4.21.0,>=4.18.0 in /usr/local/lib/python3.7/dist-packages (from autogluon.multimodal==0.5.1->autogluon) (4.20.1)\n",
      "Requirement already satisfied: torch<1.13,>=1.9 in /usr/local/lib/python3.7/dist-packages (from autogluon.multimodal==0.5.1->autogluon) (1.12.0+cu113)\n",
      "Requirement already satisfied: protobuf<=3.18.1 in /usr/local/lib/python3.7/dist-packages (from autogluon.multimodal==0.5.1->autogluon) (3.17.3)\n",
      "Requirement already satisfied: pytorch-lightning<1.7.0,>=1.6.0 in /usr/local/lib/python3.7/dist-packages (from autogluon.multimodal==0.5.1->autogluon) (1.6.5)\n",
      "Requirement already satisfied: pytorch-metric-learning<1.4.0,>=1.3.0 in /usr/local/lib/python3.7/dist-packages (from autogluon.multimodal==0.5.1->autogluon) (1.3.2)\n",
      "Requirement already satisfied: fairscale<0.5.0,>=0.4.5 in /usr/local/lib/python3.7/dist-packages (from autogluon.multimodal==0.5.1->autogluon) (0.4.6)\n",
      "Requirement already satisfied: torchvision<0.14.0 in /usr/local/lib/python3.7/dist-packages (from autogluon.multimodal==0.5.1->autogluon) (0.13.0+cu113)\n",
      "Requirement already satisfied: torchtext<0.14.0 in /usr/local/lib/python3.7/dist-packages (from autogluon.multimodal==0.5.1->autogluon) (0.13.0)\n",
      "Requirement already satisfied: nlpaug<=1.1.10,>=1.1.10 in /usr/local/lib/python3.7/dist-packages (from autogluon.multimodal==0.5.1->autogluon) (1.1.10)\n",
      "Requirement already satisfied: omegaconf<2.2.0,>=2.1.1 in /usr/local/lib/python3.7/dist-packages (from autogluon.multimodal==0.5.1->autogluon) (2.1.2)\n",
      "Requirement already satisfied: smart-open<5.3.0,>=5.2.1 in /usr/local/lib/python3.7/dist-packages (from autogluon.multimodal==0.5.1->autogluon) (5.2.1)\n",
      "Requirement already satisfied: timm<0.6.0 in /usr/local/lib/python3.7/dist-packages (from autogluon.multimodal==0.5.1->autogluon) (0.5.4)\n",
      "Requirement already satisfied: sentencepiece<0.2.0,>=0.1.95 in /usr/local/lib/python3.7/dist-packages (from autogluon.multimodal==0.5.1->autogluon) (0.1.95)\n",
      "Requirement already satisfied: scikit-image<0.20.0,>=0.19.1 in /usr/local/lib/python3.7/dist-packages (from autogluon.multimodal==0.5.1->autogluon) (0.19.3)\n",
      "Requirement already satisfied: networkx<3.0,>=2.3 in /usr/local/lib/python3.7/dist-packages (from autogluon.tabular[all]==0.5.1->autogluon) (2.6.3)\n",
      "Requirement already satisfied: fastai<2.8,>=2.3.1 in /usr/local/lib/python3.7/dist-packages (from autogluon.tabular[all]==0.5.1->autogluon) (2.7.7)\n",
      "Requirement already satisfied: catboost<1.1,>=1.0 in /usr/local/lib/python3.7/dist-packages (from autogluon.tabular[all]==0.5.1->autogluon) (1.0.6)\n",
      "Requirement already satisfied: lightgbm<3.4,>=3.3 in /usr/local/lib/python3.7/dist-packages (from autogluon.tabular[all]==0.5.1->autogluon) (3.3.2)\n",
      "Requirement already satisfied: xgboost<1.5,>=1.4 in /usr/local/lib/python3.7/dist-packages (from autogluon.tabular[all]==0.5.1->autogluon) (1.4.2)\n",
      "Requirement already satisfied: autogluon-contrib-nlp==0.0.1b20220208 in /usr/local/lib/python3.7/dist-packages (from autogluon.text==0.5.1->autogluon) (0.0.1b20220208)\n",
      "Requirement already satisfied: sacremoses>=0.0.38 in /usr/local/lib/python3.7/dist-packages (from autogluon-contrib-nlp==0.0.1b20220208->autogluon.text==0.5.1->autogluon) (0.0.53)\n",
      "Requirement already satisfied: tokenizers>=0.9.4 in /usr/local/lib/python3.7/dist-packages (from autogluon-contrib-nlp==0.0.1b20220208->autogluon.text==0.5.1->autogluon) (0.12.1)\n",
      "Requirement already satisfied: pyarrow in /usr/local/lib/python3.7/dist-packages (from autogluon-contrib-nlp==0.0.1b20220208->autogluon.text==0.5.1->autogluon) (6.0.1)\n",
      "Requirement already satisfied: contextvars in /usr/local/lib/python3.7/dist-packages (from autogluon-contrib-nlp==0.0.1b20220208->autogluon.text==0.5.1->autogluon) (2.4)\n",
      "Requirement already satisfied: sacrebleu in /usr/local/lib/python3.7/dist-packages (from autogluon-contrib-nlp==0.0.1b20220208->autogluon.text==0.5.1->autogluon) (2.2.0)\n",
      "Requirement already satisfied: flake8 in /usr/local/lib/python3.7/dist-packages (from autogluon-contrib-nlp==0.0.1b20220208->autogluon.text==0.5.1->autogluon) (3.9.2)\n",
      "Requirement already satisfied: yacs>=0.1.6 in /usr/local/lib/python3.7/dist-packages (from autogluon-contrib-nlp==0.0.1b20220208->autogluon.text==0.5.1->autogluon) (0.1.8)\n",
      "Requirement already satisfied: regex in /usr/local/lib/python3.7/dist-packages (from autogluon-contrib-nlp==0.0.1b20220208->autogluon.text==0.5.1->autogluon) (2022.6.2)\n",
      "Requirement already satisfied: gluonts<0.10.0,>=0.8.0 in /usr/local/lib/python3.7/dist-packages (from autogluon.timeseries[all]==0.5.1->autogluon) (0.9.6)\n",
      "Requirement already satisfied: sktime~=0.11.4 in /usr/local/lib/python3.7/dist-packages (from autogluon.timeseries[all]==0.5.1->autogluon) (0.11.4)\n",
      "Requirement already satisfied: pmdarima~=1.8.2 in /usr/local/lib/python3.7/dist-packages (from autogluon.timeseries[all]==0.5.1->autogluon) (1.8.5)\n",
      "Requirement already satisfied: tbats~=1.1 in /usr/local/lib/python3.7/dist-packages (from autogluon.timeseries[all]==0.5.1->autogluon) (1.1.0)\n",
      "Requirement already satisfied: gluoncv<0.10.6,>=0.10.5 in /usr/local/lib/python3.7/dist-packages (from autogluon.vision==0.5.1->autogluon) (0.10.5.post0)\n",
      "Requirement already satisfied: plotly in /usr/local/lib/python3.7/dist-packages (from catboost<1.1,>=1.0->autogluon.tabular[all]==0.5.1->autogluon) (5.5.0)\n",
      "Requirement already satisfied: graphviz in /usr/local/lib/python3.7/dist-packages (from catboost<1.1,>=1.0->autogluon.tabular[all]==0.5.1->autogluon) (0.8.4)\n",
      "Requirement already satisfied: six in /usr/local/lib/python3.7/dist-packages (from catboost<1.1,>=1.0->autogluon.tabular[all]==0.5.1->autogluon) (1.15.0)\n",
      "Requirement already satisfied: pyyaml in /usr/local/lib/python3.7/dist-packages (from dask<=2021.11.2,>=2021.09.1->autogluon.core[all]==0.5.1->autogluon) (6.0)\n",
      "Requirement already satisfied: toolz>=0.8.2 in /usr/local/lib/python3.7/dist-packages (from dask<=2021.11.2,>=2021.09.1->autogluon.core[all]==0.5.1->autogluon) (0.12.0)\n",
      "Requirement already satisfied: packaging>=20.0 in /usr/local/lib/python3.7/dist-packages (from dask<=2021.11.2,>=2021.09.1->autogluon.core[all]==0.5.1->autogluon) (21.3)\n",
      "Requirement already satisfied: fsspec>=0.6.0 in /usr/local/lib/python3.7/dist-packages (from dask<=2021.11.2,>=2021.09.1->autogluon.core[all]==0.5.1->autogluon) (2022.7.0)\n",
      "Requirement already satisfied: partd>=0.3.10 in /usr/local/lib/python3.7/dist-packages (from dask<=2021.11.2,>=2021.09.1->autogluon.core[all]==0.5.1->autogluon) (1.2.0)\n",
      "Requirement already satisfied: cloudpickle>=1.1.1 in /usr/local/lib/python3.7/dist-packages (from dask<=2021.11.2,>=2021.09.1->autogluon.core[all]==0.5.1->autogluon) (2.1.0)\n",
      "Requirement already satisfied: setuptools in /usr/local/lib/python3.7/dist-packages (from distributed<=2021.11.2,>=2021.09.1->autogluon.core[all]==0.5.1->autogluon) (63.2.0)\n",
      "Requirement already satisfied: sortedcontainers!=2.0.0,!=2.0.1 in /usr/local/lib/python3.7/dist-packages (from distributed<=2021.11.2,>=2021.09.1->autogluon.core[all]==0.5.1->autogluon) (2.4.0)\n",
      "Requirement already satisfied: zict>=0.1.3 in /usr/local/lib/python3.7/dist-packages (from distributed<=2021.11.2,>=2021.09.1->autogluon.core[all]==0.5.1->autogluon) (2.2.0)\n",
      "Requirement already satisfied: msgpack>=0.6.0 in /usr/local/lib/python3.7/dist-packages (from distributed<=2021.11.2,>=2021.09.1->autogluon.core[all]==0.5.1->autogluon) (1.0.4)\n",
      "Requirement already satisfied: tblib>=1.6.0 in /usr/local/lib/python3.7/dist-packages (from distributed<=2021.11.2,>=2021.09.1->autogluon.core[all]==0.5.1->autogluon) (1.7.0)\n",
      "Requirement already satisfied: click>=6.6 in /usr/local/lib/python3.7/dist-packages (from distributed<=2021.11.2,>=2021.09.1->autogluon.core[all]==0.5.1->autogluon) (7.1.2)\n",
      "Requirement already satisfied: jinja2 in /usr/local/lib/python3.7/dist-packages (from distributed<=2021.11.2,>=2021.09.1->autogluon.core[all]==0.5.1->autogluon) (2.11.3)\n",
      "Requirement already satisfied: tornado>=5 in /usr/local/lib/python3.7/dist-packages (from distributed<=2021.11.2,>=2021.09.1->autogluon.core[all]==0.5.1->autogluon) (5.1.1)\n",
      "Requirement already satisfied: pip in /usr/local/lib/python3.7/dist-packages (from fastai<2.8,>=2.3.1->autogluon.tabular[all]==0.5.1->autogluon) (21.1.3)\n",
      "Requirement already satisfied: fastprogress>=0.2.4 in /usr/local/lib/python3.7/dist-packages (from fastai<2.8,>=2.3.1->autogluon.tabular[all]==0.5.1->autogluon) (1.0.3)\n",
      "Requirement already satisfied: fastdownload<2,>=0.0.5 in /usr/local/lib/python3.7/dist-packages (from fastai<2.8,>=2.3.1->autogluon.tabular[all]==0.5.1->autogluon) (0.0.7)\n",
      "Requirement already satisfied: spacy<4 in /usr/local/lib/python3.7/dist-packages (from fastai<2.8,>=2.3.1->autogluon.tabular[all]==0.5.1->autogluon) (3.4.0)\n",
      "Requirement already satisfied: fastcore<1.6,>=1.4.5 in /usr/local/lib/python3.7/dist-packages (from fastai<2.8,>=2.3.1->autogluon.tabular[all]==0.5.1->autogluon) (1.5.6)\n",
      "Requirement already satisfied: autocfg in /usr/local/lib/python3.7/dist-packages (from gluoncv<0.10.6,>=0.10.5->autogluon.vision==0.5.1->autogluon) (0.0.8)\n",
      "Requirement already satisfied: portalocker in /usr/local/lib/python3.7/dist-packages (from gluoncv<0.10.6,>=0.10.5->autogluon.vision==0.5.1->autogluon) (2.5.1)\n",
      "Requirement already satisfied: opencv-python in /usr/local/lib/python3.7/dist-packages (from gluoncv<0.10.6,>=0.10.5->autogluon.vision==0.5.1->autogluon) (4.6.0.66)\n",
      "Requirement already satisfied: typing-extensions~=4.0 in /usr/local/lib/python3.7/dist-packages (from gluonts<0.10.0,>=0.8.0->autogluon.timeseries[all]==0.5.1->autogluon) (4.1.1)\n",
      "Requirement already satisfied: holidays>=0.9 in /usr/local/lib/python3.7/dist-packages (from gluonts<0.10.0,>=0.8.0->autogluon.timeseries[all]==0.5.1->autogluon) (0.14.2)\n",
      "Requirement already satisfied: pydantic~=1.1 in /usr/local/lib/python3.7/dist-packages (from gluonts<0.10.0,>=0.8.0->autogluon.timeseries[all]==0.5.1->autogluon) (1.9.1)\n",
      "Requirement already satisfied: convertdate>=2.3.0 in /usr/local/lib/python3.7/dist-packages (from holidays>=0.9->gluonts<0.10.0,>=0.8.0->autogluon.timeseries[all]==0.5.1->autogluon) (2.4.0)\n",
      "Requirement already satisfied: korean-lunar-calendar in /usr/local/lib/python3.7/dist-packages (from holidays>=0.9->gluonts<0.10.0,>=0.8.0->autogluon.timeseries[all]==0.5.1->autogluon) (0.2.1)\n",
      "Requirement already satisfied: python-dateutil in /usr/local/lib/python3.7/dist-packages (from holidays>=0.9->gluonts<0.10.0,>=0.8.0->autogluon.timeseries[all]==0.5.1->autogluon) (2.8.2)\n",
      "Requirement already satisfied: hijri-converter in /usr/local/lib/python3.7/dist-packages (from holidays>=0.9->gluonts<0.10.0,>=0.8.0->autogluon.timeseries[all]==0.5.1->autogluon) (2.2.4)\n",
      "Requirement already satisfied: pymeeus<=1,>=0.3.13 in /usr/local/lib/python3.7/dist-packages (from convertdate>=2.3.0->holidays>=0.9->gluonts<0.10.0,>=0.8.0->autogluon.timeseries[all]==0.5.1->autogluon) (0.5.11)\n",
      "Requirement already satisfied: py4j in /usr/local/lib/python3.7/dist-packages (from hyperopt<0.2.8,>=0.2.7->autogluon.core[all]==0.5.1->autogluon) (0.10.9.5)\n",
      "Requirement already satisfied: future in /usr/local/lib/python3.7/dist-packages (from hyperopt<0.2.8,>=0.2.7->autogluon.core[all]==0.5.1->autogluon) (0.16.0)\n",
      "Requirement already satisfied: wheel in /usr/local/lib/python3.7/dist-packages (from lightgbm<3.4,>=3.3->autogluon.tabular[all]==0.5.1->autogluon) (0.37.1)\n",
      "Requirement already satisfied: cycler>=0.10 in /usr/local/lib/python3.7/dist-packages (from matplotlib->autogluon.core[all]==0.5.1->autogluon) (0.11.0)\n",
      "Requirement already satisfied: kiwisolver>=1.0.1 in /usr/local/lib/python3.7/dist-packages (from matplotlib->autogluon.core[all]==0.5.1->autogluon) (1.4.4)\n",
      "Requirement already satisfied: pyparsing!=2.0.4,!=2.1.2,!=2.1.6,>=2.0.1 in /usr/local/lib/python3.7/dist-packages (from matplotlib->autogluon.core[all]==0.5.1->autogluon) (3.0.9)\n",
      "Requirement already satisfied: joblib in /usr/local/lib/python3.7/dist-packages (from nltk<4.0.0,>=3.4.5->autogluon.multimodal==0.5.1->autogluon) (1.1.0)\n",
      "Requirement already satisfied: typish>=1.7.0 in /usr/local/lib/python3.7/dist-packages (from nptyping<1.5.0,>=1.4.4->autogluon.multimodal==0.5.1->autogluon) (1.9.3)\n",
      "Requirement already satisfied: antlr4-python3-runtime==4.8 in /usr/local/lib/python3.7/dist-packages (from omegaconf<2.2.0,>=2.1.1->autogluon.multimodal==0.5.1->autogluon) (4.8)\n",
      "Requirement already satisfied: pytz>=2017.3 in /usr/local/lib/python3.7/dist-packages (from pandas!=1.4.0,<1.5,>=1.2.5->autogluon.core[all]==0.5.1->autogluon) (2022.1)\n",
      "Requirement already satisfied: locket in /usr/local/lib/python3.7/dist-packages (from partd>=0.3.10->dask<=2021.11.2,>=2021.09.1->autogluon.core[all]==0.5.1->autogluon) (1.0.0)\n",
      "Requirement already satisfied: statsmodels!=0.12.0,>=0.11 in /usr/local/lib/python3.7/dist-packages (from pmdarima~=1.8.2->autogluon.timeseries[all]==0.5.1->autogluon) (0.13.2)\n",
      "Requirement already satisfied: urllib3 in /usr/local/lib/python3.7/dist-packages (from pmdarima~=1.8.2->autogluon.timeseries[all]==0.5.1->autogluon) (1.25.11)\n",
      "Requirement already satisfied: Cython!=0.29.18,>=0.29 in /usr/local/lib/python3.7/dist-packages (from pmdarima~=1.8.2->autogluon.timeseries[all]==0.5.1->autogluon) (0.29.30)\n",
      "Requirement already satisfied: pyDeprecate>=0.3.1 in /usr/local/lib/python3.7/dist-packages (from pytorch-lightning<1.7.0,>=1.6.0->autogluon.multimodal==0.5.1->autogluon) (0.3.2)\n",
      "Requirement already satisfied: tensorboard>=2.2.0 in /usr/local/lib/python3.7/dist-packages (from pytorch-lightning<1.7.0,>=1.6.0->autogluon.multimodal==0.5.1->autogluon) (2.8.0)\n",
      "Requirement already satisfied: aiohttp in /usr/local/lib/python3.7/dist-packages (from fsspec>=0.6.0->dask<=2021.11.2,>=2021.09.1->autogluon.core[all]==0.5.1->autogluon) (3.8.1)\n",
      "Requirement already satisfied: filelock in /usr/local/lib/python3.7/dist-packages (from ray[tune]<1.14,>=1.13->autogluon.core[all]==0.5.1->autogluon) (3.7.1)\n",
      "Requirement already satisfied: frozenlist in /usr/local/lib/python3.7/dist-packages (from ray[tune]<1.14,>=1.13->autogluon.core[all]==0.5.1->autogluon) (1.3.0)\n",
      "Requirement already satisfied: jsonschema in /usr/local/lib/python3.7/dist-packages (from ray[tune]<1.14,>=1.13->autogluon.core[all]==0.5.1->autogluon) (4.3.3)\n",
      "Requirement already satisfied: grpcio<=1.43.0,>=1.28.1 in /usr/local/lib/python3.7/dist-packages (from ray[tune]<1.14,>=1.13->autogluon.core[all]==0.5.1->autogluon) (1.43.0)\n",
      "Requirement already satisfied: aiosignal in /usr/local/lib/python3.7/dist-packages (from ray[tune]<1.14,>=1.13->autogluon.core[all]==0.5.1->autogluon) (1.2.0)\n",
      "Requirement already satisfied: attrs in /usr/local/lib/python3.7/dist-packages (from ray[tune]<1.14,>=1.13->autogluon.core[all]==0.5.1->autogluon) (21.4.0)\n",
      "Requirement already satisfied: virtualenv in /usr/local/lib/python3.7/dist-packages (from ray[tune]<1.14,>=1.13->autogluon.core[all]==0.5.1->autogluon) (20.16.2)\n",
      "Requirement already satisfied: tabulate in /usr/local/lib/python3.7/dist-packages (from ray[tune]<1.14,>=1.13->autogluon.core[all]==0.5.1->autogluon) (0.8.10)\n",
      "Requirement already satisfied: tensorboardX>=1.9 in /usr/local/lib/python3.7/dist-packages (from ray[tune]<1.14,>=1.13->autogluon.core[all]==0.5.1->autogluon) (2.5.1)\n",
      "Requirement already satisfied: certifi>=2017.4.17 in /usr/local/lib/python3.7/dist-packages (from requests->autogluon.core[all]==0.5.1->autogluon) (2022.6.15)\n",
      "Requirement already satisfied: idna<3,>=2.5 in /usr/local/lib/python3.7/dist-packages (from requests->autogluon.core[all]==0.5.1->autogluon) (2.10)\n",
      "Requirement already satisfied: chardet<4,>=3.0.2 in /usr/local/lib/python3.7/dist-packages (from requests->autogluon.core[all]==0.5.1->autogluon) (3.0.4)\n",
      "Requirement already satisfied: PyWavelets>=1.1.1 in /usr/local/lib/python3.7/dist-packages (from scikit-image<0.20.0,>=0.19.1->autogluon.multimodal==0.5.1->autogluon) (1.3.0)\n",
      "Requirement already satisfied: imageio>=2.4.1 in /usr/local/lib/python3.7/dist-packages (from scikit-image<0.20.0,>=0.19.1->autogluon.multimodal==0.5.1->autogluon) (2.4.1)\n",
      "Requirement already satisfied: tifffile>=2019.7.26 in /usr/local/lib/python3.7/dist-packages (from scikit-image<0.20.0,>=0.19.1->autogluon.multimodal==0.5.1->autogluon) (2021.11.2)\n",
      "Requirement already satisfied: threadpoolctl>=2.0.0 in /usr/local/lib/python3.7/dist-packages (from scikit-learn<1.1,>=1.0.0->autogluon.core[all]==0.5.1->autogluon) (3.1.0)\n",
      "Requirement already satisfied: numba>=0.53 in /usr/local/lib/python3.7/dist-packages (from sktime~=0.11.4->autogluon.timeseries[all]==0.5.1->autogluon) (0.56.0)\n",
      "Requirement already satisfied: deprecated>=1.2.13 in /usr/local/lib/python3.7/dist-packages (from sktime~=0.11.4->autogluon.timeseries[all]==0.5.1->autogluon) (1.2.13)\n",
      "Requirement already satisfied: wrapt<2,>=1.10 in /usr/local/lib/python3.7/dist-packages (from deprecated>=1.2.13->sktime~=0.11.4->autogluon.timeseries[all]==0.5.1->autogluon) (1.14.1)\n",
      "Requirement already satisfied: importlib-metadata in /usr/local/lib/python3.7/dist-packages (from numba>=0.53->sktime~=0.11.4->autogluon.timeseries[all]==0.5.1->autogluon) (4.12.0)\n",
      "Requirement already satisfied: llvmlite<0.40,>=0.39.0dev0 in /usr/local/lib/python3.7/dist-packages (from numba>=0.53->sktime~=0.11.4->autogluon.timeseries[all]==0.5.1->autogluon) (0.39.0)\n",
      "Requirement already satisfied: wasabi<1.1.0,>=0.9.1 in /usr/local/lib/python3.7/dist-packages (from spacy<4->fastai<2.8,>=2.3.1->autogluon.tabular[all]==0.5.1->autogluon) (0.9.1)\n",
      "Requirement already satisfied: catalogue<2.1.0,>=2.0.6 in /usr/local/lib/python3.7/dist-packages (from spacy<4->fastai<2.8,>=2.3.1->autogluon.tabular[all]==0.5.1->autogluon) (2.0.7)\n",
      "Requirement already satisfied: spacy-loggers<2.0.0,>=1.0.0 in /usr/local/lib/python3.7/dist-packages (from spacy<4->fastai<2.8,>=2.3.1->autogluon.tabular[all]==0.5.1->autogluon) (1.0.3)\n",
      "Requirement already satisfied: langcodes<4.0.0,>=3.2.0 in /usr/local/lib/python3.7/dist-packages (from spacy<4->fastai<2.8,>=2.3.1->autogluon.tabular[all]==0.5.1->autogluon) (3.3.0)\n",
      "Requirement already satisfied: cymem<2.1.0,>=2.0.2 in /usr/local/lib/python3.7/dist-packages (from spacy<4->fastai<2.8,>=2.3.1->autogluon.tabular[all]==0.5.1->autogluon) (2.0.6)\n",
      "Requirement already satisfied: typer<0.5.0,>=0.3.0 in /usr/local/lib/python3.7/dist-packages (from spacy<4->fastai<2.8,>=2.3.1->autogluon.tabular[all]==0.5.1->autogluon) (0.4.2)\n",
      "Requirement already satisfied: thinc<8.2.0,>=8.1.0 in /usr/local/lib/python3.7/dist-packages (from spacy<4->fastai<2.8,>=2.3.1->autogluon.tabular[all]==0.5.1->autogluon) (8.1.0)\n",
      "Requirement already satisfied: spacy-legacy<3.1.0,>=3.0.9 in /usr/local/lib/python3.7/dist-packages (from spacy<4->fastai<2.8,>=2.3.1->autogluon.tabular[all]==0.5.1->autogluon) (3.0.9)\n",
      "Requirement already satisfied: pathy>=0.3.5 in /usr/local/lib/python3.7/dist-packages (from spacy<4->fastai<2.8,>=2.3.1->autogluon.tabular[all]==0.5.1->autogluon) (0.6.2)\n",
      "Requirement already satisfied: preshed<3.1.0,>=3.0.2 in /usr/local/lib/python3.7/dist-packages (from spacy<4->fastai<2.8,>=2.3.1->autogluon.tabular[all]==0.5.1->autogluon) (3.0.6)\n",
      "Requirement already satisfied: murmurhash<1.1.0,>=0.28.0 in /usr/local/lib/python3.7/dist-packages (from spacy<4->fastai<2.8,>=2.3.1->autogluon.tabular[all]==0.5.1->autogluon) (1.0.7)\n",
      "Requirement already satisfied: srsly<3.0.0,>=2.4.3 in /usr/local/lib/python3.7/dist-packages (from spacy<4->fastai<2.8,>=2.3.1->autogluon.tabular[all]==0.5.1->autogluon) (2.4.4)\n",
      "Requirement already satisfied: zipp>=0.5 in /usr/local/lib/python3.7/dist-packages (from catalogue<2.1.0,>=2.0.6->spacy<4->fastai<2.8,>=2.3.1->autogluon.tabular[all]==0.5.1->autogluon) (3.8.1)\n",
      "Requirement already satisfied: patsy>=0.5.2 in /usr/local/lib/python3.7/dist-packages (from statsmodels!=0.12.0,>=0.11->pmdarima~=1.8.2->autogluon.timeseries[all]==0.5.1->autogluon) (0.5.2)\n",
      "Requirement already satisfied: werkzeug>=0.11.15 in /usr/local/lib/python3.7/dist-packages (from tensorboard>=2.2.0->pytorch-lightning<1.7.0,>=1.6.0->autogluon.multimodal==0.5.1->autogluon) (1.0.1)\n",
      "Requirement already satisfied: google-auth<3,>=1.6.3 in /usr/local/lib/python3.7/dist-packages (from tensorboard>=2.2.0->pytorch-lightning<1.7.0,>=1.6.0->autogluon.multimodal==0.5.1->autogluon) (1.35.0)\n",
      "Requirement already satisfied: google-auth-oauthlib<0.5,>=0.4.1 in /usr/local/lib/python3.7/dist-packages (from tensorboard>=2.2.0->pytorch-lightning<1.7.0,>=1.6.0->autogluon.multimodal==0.5.1->autogluon) (0.4.6)\n",
      "Requirement already satisfied: absl-py>=0.4 in /usr/local/lib/python3.7/dist-packages (from tensorboard>=2.2.0->pytorch-lightning<1.7.0,>=1.6.0->autogluon.multimodal==0.5.1->autogluon) (1.2.0)\n",
      "Requirement already satisfied: markdown>=2.6.8 in /usr/local/lib/python3.7/dist-packages (from tensorboard>=2.2.0->pytorch-lightning<1.7.0,>=1.6.0->autogluon.multimodal==0.5.1->autogluon) (3.4.1)\n",
      "Requirement already satisfied: tensorboard-plugin-wit>=1.6.0 in /usr/local/lib/python3.7/dist-packages (from tensorboard>=2.2.0->pytorch-lightning<1.7.0,>=1.6.0->autogluon.multimodal==0.5.1->autogluon) (1.8.1)\n",
      "Requirement already satisfied: tensorboard-data-server<0.7.0,>=0.6.0 in /usr/local/lib/python3.7/dist-packages (from tensorboard>=2.2.0->pytorch-lightning<1.7.0,>=1.6.0->autogluon.multimodal==0.5.1->autogluon) (0.6.1)\n",
      "Requirement already satisfied: cachetools<5.0,>=2.0.0 in /usr/local/lib/python3.7/dist-packages (from google-auth<3,>=1.6.3->tensorboard>=2.2.0->pytorch-lightning<1.7.0,>=1.6.0->autogluon.multimodal==0.5.1->autogluon) (4.2.4)\n",
      "Requirement already satisfied: rsa<5,>=3.1.4 in /usr/local/lib/python3.7/dist-packages (from google-auth<3,>=1.6.3->tensorboard>=2.2.0->pytorch-lightning<1.7.0,>=1.6.0->autogluon.multimodal==0.5.1->autogluon) (4.9)\n",
      "Requirement already satisfied: pyasn1-modules>=0.2.1 in /usr/local/lib/python3.7/dist-packages (from google-auth<3,>=1.6.3->tensorboard>=2.2.0->pytorch-lightning<1.7.0,>=1.6.0->autogluon.multimodal==0.5.1->autogluon) (0.2.8)\n",
      "Requirement already satisfied: requests-oauthlib>=0.7.0 in /usr/local/lib/python3.7/dist-packages (from google-auth-oauthlib<0.5,>=0.4.1->tensorboard>=2.2.0->pytorch-lightning<1.7.0,>=1.6.0->autogluon.multimodal==0.5.1->autogluon) (1.3.1)\n",
      "Requirement already satisfied: pyasn1<0.5.0,>=0.4.6 in /usr/local/lib/python3.7/dist-packages (from pyasn1-modules>=0.2.1->google-auth<3,>=1.6.3->tensorboard>=2.2.0->pytorch-lightning<1.7.0,>=1.6.0->autogluon.multimodal==0.5.1->autogluon) (0.4.8)\n",
      "Requirement already satisfied: oauthlib>=3.0.0 in /usr/local/lib/python3.7/dist-packages (from requests-oauthlib>=0.7.0->google-auth-oauthlib<0.5,>=0.4.1->tensorboard>=2.2.0->pytorch-lightning<1.7.0,>=1.6.0->autogluon.multimodal==0.5.1->autogluon) (3.2.0)\n",
      "Requirement already satisfied: blis<0.8.0,>=0.7.8 in /usr/local/lib/python3.7/dist-packages (from thinc<8.2.0,>=8.1.0->spacy<4->fastai<2.8,>=2.3.1->autogluon.tabular[all]==0.5.1->autogluon) (0.7.8)\n",
      "Requirement already satisfied: huggingface-hub<1.0,>=0.1.0 in /usr/local/lib/python3.7/dist-packages (from transformers<4.21.0,>=4.18.0->autogluon.multimodal==0.5.1->autogluon) (0.8.1)\n",
      "Requirement already satisfied: heapdict in /usr/local/lib/python3.7/dist-packages (from zict>=0.1.3->distributed<=2021.11.2,>=2021.09.1->autogluon.core[all]==0.5.1->autogluon) (1.0.1)\n",
      "Requirement already satisfied: yarl<2.0,>=1.0 in /usr/local/lib/python3.7/dist-packages (from aiohttp->fsspec>=0.6.0->dask<=2021.11.2,>=2021.09.1->autogluon.core[all]==0.5.1->autogluon) (1.7.2)\n",
      "Requirement already satisfied: charset-normalizer<3.0,>=2.0 in /usr/local/lib/python3.7/dist-packages (from aiohttp->fsspec>=0.6.0->dask<=2021.11.2,>=2021.09.1->autogluon.core[all]==0.5.1->autogluon) (2.1.0)\n",
      "Requirement already satisfied: multidict<7.0,>=4.5 in /usr/local/lib/python3.7/dist-packages (from aiohttp->fsspec>=0.6.0->dask<=2021.11.2,>=2021.09.1->autogluon.core[all]==0.5.1->autogluon) (6.0.2)\n",
      "Requirement already satisfied: async-timeout<5.0,>=4.0.0a3 in /usr/local/lib/python3.7/dist-packages (from aiohttp->fsspec>=0.6.0->dask<=2021.11.2,>=2021.09.1->autogluon.core[all]==0.5.1->autogluon) (4.0.2)\n",
      "Requirement already satisfied: asynctest==0.13.0 in /usr/local/lib/python3.7/dist-packages (from aiohttp->fsspec>=0.6.0->dask<=2021.11.2,>=2021.09.1->autogluon.core[all]==0.5.1->autogluon) (0.13.0)\n",
      "Requirement already satisfied: s3transfer<0.7.0,>=0.6.0 in /usr/local/lib/python3.7/dist-packages (from boto3->autogluon.core[all]==0.5.1->autogluon) (0.6.0)\n",
      "Requirement already satisfied: jmespath<2.0.0,>=0.7.1 in /usr/local/lib/python3.7/dist-packages (from boto3->autogluon.core[all]==0.5.1->autogluon) (1.0.1)\n",
      "Requirement already satisfied: botocore<1.28.0,>=1.27.39 in /usr/local/lib/python3.7/dist-packages (from boto3->autogluon.core[all]==0.5.1->autogluon) (1.27.39)\n",
      "Requirement already satisfied: immutables>=0.9 in /usr/local/lib/python3.7/dist-packages (from contextvars->autogluon-contrib-nlp==0.0.1b20220208->autogluon.text==0.5.1->autogluon) (0.18)\n",
      "Requirement already satisfied: mccabe<0.7.0,>=0.6.0 in /usr/local/lib/python3.7/dist-packages (from flake8->autogluon-contrib-nlp==0.0.1b20220208->autogluon.text==0.5.1->autogluon) (0.6.1)\n",
      "Requirement already satisfied: pyflakes<2.4.0,>=2.3.0 in /usr/local/lib/python3.7/dist-packages (from flake8->autogluon-contrib-nlp==0.0.1b20220208->autogluon.text==0.5.1->autogluon) (2.3.1)\n",
      "Requirement already satisfied: pycodestyle<2.8.0,>=2.7.0 in /usr/local/lib/python3.7/dist-packages (from flake8->autogluon-contrib-nlp==0.0.1b20220208->autogluon.text==0.5.1->autogluon) (2.7.0)\n",
      "Requirement already satisfied: MarkupSafe>=0.23 in /usr/local/lib/python3.7/dist-packages (from jinja2->distributed<=2021.11.2,>=2021.09.1->autogluon.core[all]==0.5.1->autogluon) (2.0.1)\n",
      "Requirement already satisfied: importlib-resources>=1.4.0 in /usr/local/lib/python3.7/dist-packages (from jsonschema->ray[tune]<1.14,>=1.13->autogluon.core[all]==0.5.1->autogluon) (5.9.0)\n",
      "Requirement already satisfied: pyrsistent!=0.17.0,!=0.17.1,!=0.17.2,>=0.14.0 in /usr/local/lib/python3.7/dist-packages (from jsonschema->ray[tune]<1.14,>=1.13->autogluon.core[all]==0.5.1->autogluon) (0.18.1)\n",
      "Requirement already satisfied: tenacity>=6.2.0 in /usr/local/lib/python3.7/dist-packages (from plotly->catboost<1.1,>=1.0->autogluon.tabular[all]==0.5.1->autogluon) (8.0.1)\n",
      "Requirement already satisfied: colorama in /usr/local/lib/python3.7/dist-packages (from sacrebleu->autogluon-contrib-nlp==0.0.1b20220208->autogluon.text==0.5.1->autogluon) (0.4.5)\n",
      "Requirement already satisfied: lxml in /usr/local/lib/python3.7/dist-packages (from sacrebleu->autogluon-contrib-nlp==0.0.1b20220208->autogluon.text==0.5.1->autogluon) (4.2.6)\n",
      "Requirement already satisfied: distlib<1,>=0.3.1 in /usr/local/lib/python3.7/dist-packages (from virtualenv->ray[tune]<1.14,>=1.13->autogluon.core[all]==0.5.1->autogluon) (0.3.5)\n",
      "Requirement already satisfied: platformdirs<3,>=2 in /usr/local/lib/python3.7/dist-packages (from virtualenv->ray[tune]<1.14,>=1.13->autogluon.core[all]==0.5.1->autogluon) (2.5.2)\n"
     ]
    }
   ],
   "source": [
    "!pip install \"mxnet<2.0.0, >=1.7.0\"\n",
    "!pip3 install torch==1.12.0+cu113 torchvision==0.13.0+cu113 torchtext==0.13.0 --extra-index-url https://download.pytorch.org/whl/cu113\n",
    "!pip3 install -U setuptools wheel\n",
    "!pip install autogluon"
   ]
  },
  {
   "cell_type": "code",
   "execution_count": 3,
   "metadata": {
    "id": "Z15x3XTFH0b-"
   },
   "outputs": [],
   "source": [
    "# !pip install -U pip\n",
    "# !pip install -U setuptools wheel\n",
    "# !pip install -U \"mxnet<2.0.0\" bokeh==2.0.1\n",
    "# !pip install autogluon --no-cache-dir\n",
    "# # Without --no-cache-dir, smaller aws instances may have trouble installing"
   ]
  },
  {
   "cell_type": "markdown",
   "metadata": {
    "id": "bUOb1fUOH0cB"
   },
   "source": [
    "### Setup Kaggle API Key"
   ]
  },
  {
   "cell_type": "code",
   "execution_count": 4,
   "metadata": {
    "id": "jg8_WU5OH0cC"
   },
   "outputs": [],
   "source": [
    "# create the .kaggle directory and an empty kaggle.json file\n",
    "!mkdir -p /root/.kaggle\n",
    "!touch /root/.kaggle/kaggle.json\n",
    "!chmod 600 /root/.kaggle/kaggle.json"
   ]
  },
  {
   "cell_type": "code",
   "execution_count": 5,
   "metadata": {
    "id": "SotZc0f9H0cC"
   },
   "outputs": [],
   "source": [
    "# Fill in your user name and key from creating the kaggle account and API token file\n",
    "import json\n",
    "kaggle_username = \"mohamedantargad\"\n",
    "kaggle_key = \"22218fe8ff93a3333352e51202af4ea0\"\n",
    "\n",
    "# Save API token the kaggle.json file\n",
    "with open(\"/root/.kaggle/kaggle.json\", \"w\") as f:\n",
    "    f.write(json.dumps({\"username\": kaggle_username, \"key\": kaggle_key}))"
   ]
  },
  {
   "cell_type": "markdown",
   "metadata": {
    "id": "Bk6dmkvIH0cD"
   },
   "source": [
    "### Download and explore dataset"
   ]
  },
  {
   "cell_type": "markdown",
   "metadata": {
    "id": "DjdFx67cH0cE"
   },
   "source": [
    "### Go to the bike sharing demand competition and agree to the terms\n"
   ]
  },
  {
   "cell_type": "code",
   "execution_count": 6,
   "metadata": {
    "colab": {
     "base_uri": "https://localhost:8080/"
    },
    "id": "rijowEPhH0cF",
    "outputId": "f37d8218-b15a-481b-c9fc-22250c3514db"
   },
   "outputs": [
    {
     "name": "stdout",
     "output_type": "stream",
     "text": [
      "bike-sharing-demand.zip: Skipping, found more recently modified local copy (use --force to force download)\n",
      "Archive:  bike-sharing-demand.zip\n",
      "  inflating: sampleSubmission.csv    \n",
      "  inflating: test.csv                \n",
      "  inflating: train.csv               \n"
     ]
    }
   ],
   "source": [
    "# Download the dataset, it will be in a .zip file so you'll need to unzip it as well.\n",
    "!kaggle competitions download -c bike-sharing-demand\n",
    "# If you already downloaded it you can use the -o command to overwrite the file\n",
    "!unzip -o bike-sharing-demand.zip"
   ]
  },
  {
   "cell_type": "code",
   "execution_count": 7,
   "metadata": {
    "id": "BO40mnTBH0cG"
   },
   "outputs": [],
   "source": [
    "import pandas as pd\n",
    "from autogluon.tabular import TabularPredictor"
   ]
  },
  {
   "cell_type": "code",
   "execution_count": 8,
   "metadata": {
    "colab": {
     "base_uri": "https://localhost:8080/",
     "height": 250
    },
    "id": "OBZ95knjH0cG",
    "outputId": "739e19dd-917a-4a66-8295-4d3152916913"
   },
   "outputs": [
    {
     "data": {
      "text/html": [
       "\n",
       "  <div id=\"df-f45df726-a43f-4f55-8b72-01c6f2ce9c26\">\n",
       "    <div class=\"colab-df-container\">\n",
       "      <div>\n",
       "<style scoped>\n",
       "    .dataframe tbody tr th:only-of-type {\n",
       "        vertical-align: middle;\n",
       "    }\n",
       "\n",
       "    .dataframe tbody tr th {\n",
       "        vertical-align: top;\n",
       "    }\n",
       "\n",
       "    .dataframe thead th {\n",
       "        text-align: right;\n",
       "    }\n",
       "</style>\n",
       "<table border=\"1\" class=\"dataframe\">\n",
       "  <thead>\n",
       "    <tr style=\"text-align: right;\">\n",
       "      <th></th>\n",
       "      <th>datetime</th>\n",
       "      <th>season</th>\n",
       "      <th>holiday</th>\n",
       "      <th>workingday</th>\n",
       "      <th>weather</th>\n",
       "      <th>temp</th>\n",
       "      <th>atemp</th>\n",
       "      <th>humidity</th>\n",
       "      <th>windspeed</th>\n",
       "      <th>casual</th>\n",
       "      <th>registered</th>\n",
       "      <th>count</th>\n",
       "    </tr>\n",
       "  </thead>\n",
       "  <tbody>\n",
       "    <tr>\n",
       "      <th>0</th>\n",
       "      <td>2011-01-01 00:00:00</td>\n",
       "      <td>1</td>\n",
       "      <td>0</td>\n",
       "      <td>0</td>\n",
       "      <td>1</td>\n",
       "      <td>9.84</td>\n",
       "      <td>14.395</td>\n",
       "      <td>81</td>\n",
       "      <td>0.0</td>\n",
       "      <td>3</td>\n",
       "      <td>13</td>\n",
       "      <td>16</td>\n",
       "    </tr>\n",
       "    <tr>\n",
       "      <th>1</th>\n",
       "      <td>2011-01-01 01:00:00</td>\n",
       "      <td>1</td>\n",
       "      <td>0</td>\n",
       "      <td>0</td>\n",
       "      <td>1</td>\n",
       "      <td>9.02</td>\n",
       "      <td>13.635</td>\n",
       "      <td>80</td>\n",
       "      <td>0.0</td>\n",
       "      <td>8</td>\n",
       "      <td>32</td>\n",
       "      <td>40</td>\n",
       "    </tr>\n",
       "    <tr>\n",
       "      <th>2</th>\n",
       "      <td>2011-01-01 02:00:00</td>\n",
       "      <td>1</td>\n",
       "      <td>0</td>\n",
       "      <td>0</td>\n",
       "      <td>1</td>\n",
       "      <td>9.02</td>\n",
       "      <td>13.635</td>\n",
       "      <td>80</td>\n",
       "      <td>0.0</td>\n",
       "      <td>5</td>\n",
       "      <td>27</td>\n",
       "      <td>32</td>\n",
       "    </tr>\n",
       "    <tr>\n",
       "      <th>3</th>\n",
       "      <td>2011-01-01 03:00:00</td>\n",
       "      <td>1</td>\n",
       "      <td>0</td>\n",
       "      <td>0</td>\n",
       "      <td>1</td>\n",
       "      <td>9.84</td>\n",
       "      <td>14.395</td>\n",
       "      <td>75</td>\n",
       "      <td>0.0</td>\n",
       "      <td>3</td>\n",
       "      <td>10</td>\n",
       "      <td>13</td>\n",
       "    </tr>\n",
       "    <tr>\n",
       "      <th>4</th>\n",
       "      <td>2011-01-01 04:00:00</td>\n",
       "      <td>1</td>\n",
       "      <td>0</td>\n",
       "      <td>0</td>\n",
       "      <td>1</td>\n",
       "      <td>9.84</td>\n",
       "      <td>14.395</td>\n",
       "      <td>75</td>\n",
       "      <td>0.0</td>\n",
       "      <td>0</td>\n",
       "      <td>1</td>\n",
       "      <td>1</td>\n",
       "    </tr>\n",
       "  </tbody>\n",
       "</table>\n",
       "</div>\n",
       "      <button class=\"colab-df-convert\" onclick=\"convertToInteractive('df-f45df726-a43f-4f55-8b72-01c6f2ce9c26')\"\n",
       "              title=\"Convert this dataframe to an interactive table.\"\n",
       "              style=\"display:none;\">\n",
       "        \n",
       "  <svg xmlns=\"http://www.w3.org/2000/svg\" height=\"24px\"viewBox=\"0 0 24 24\"\n",
       "       width=\"24px\">\n",
       "    <path d=\"M0 0h24v24H0V0z\" fill=\"none\"/>\n",
       "    <path d=\"M18.56 5.44l.94 2.06.94-2.06 2.06-.94-2.06-.94-.94-2.06-.94 2.06-2.06.94zm-11 1L8.5 8.5l.94-2.06 2.06-.94-2.06-.94L8.5 2.5l-.94 2.06-2.06.94zm10 10l.94 2.06.94-2.06 2.06-.94-2.06-.94-.94-2.06-.94 2.06-2.06.94z\"/><path d=\"M17.41 7.96l-1.37-1.37c-.4-.4-.92-.59-1.43-.59-.52 0-1.04.2-1.43.59L10.3 9.45l-7.72 7.72c-.78.78-.78 2.05 0 2.83L4 21.41c.39.39.9.59 1.41.59.51 0 1.02-.2 1.41-.59l7.78-7.78 2.81-2.81c.8-.78.8-2.07 0-2.86zM5.41 20L4 18.59l7.72-7.72 1.47 1.35L5.41 20z\"/>\n",
       "  </svg>\n",
       "      </button>\n",
       "      \n",
       "  <style>\n",
       "    .colab-df-container {\n",
       "      display:flex;\n",
       "      flex-wrap:wrap;\n",
       "      gap: 12px;\n",
       "    }\n",
       "\n",
       "    .colab-df-convert {\n",
       "      background-color: #E8F0FE;\n",
       "      border: none;\n",
       "      border-radius: 50%;\n",
       "      cursor: pointer;\n",
       "      display: none;\n",
       "      fill: #1967D2;\n",
       "      height: 32px;\n",
       "      padding: 0 0 0 0;\n",
       "      width: 32px;\n",
       "    }\n",
       "\n",
       "    .colab-df-convert:hover {\n",
       "      background-color: #E2EBFA;\n",
       "      box-shadow: 0px 1px 2px rgba(60, 64, 67, 0.3), 0px 1px 3px 1px rgba(60, 64, 67, 0.15);\n",
       "      fill: #174EA6;\n",
       "    }\n",
       "\n",
       "    [theme=dark] .colab-df-convert {\n",
       "      background-color: #3B4455;\n",
       "      fill: #D2E3FC;\n",
       "    }\n",
       "\n",
       "    [theme=dark] .colab-df-convert:hover {\n",
       "      background-color: #434B5C;\n",
       "      box-shadow: 0px 1px 3px 1px rgba(0, 0, 0, 0.15);\n",
       "      filter: drop-shadow(0px 1px 2px rgba(0, 0, 0, 0.3));\n",
       "      fill: #FFFFFF;\n",
       "    }\n",
       "  </style>\n",
       "\n",
       "      <script>\n",
       "        const buttonEl =\n",
       "          document.querySelector('#df-f45df726-a43f-4f55-8b72-01c6f2ce9c26 button.colab-df-convert');\n",
       "        buttonEl.style.display =\n",
       "          google.colab.kernel.accessAllowed ? 'block' : 'none';\n",
       "\n",
       "        async function convertToInteractive(key) {\n",
       "          const element = document.querySelector('#df-f45df726-a43f-4f55-8b72-01c6f2ce9c26');\n",
       "          const dataTable =\n",
       "            await google.colab.kernel.invokeFunction('convertToInteractive',\n",
       "                                                     [key], {});\n",
       "          if (!dataTable) return;\n",
       "\n",
       "          const docLinkHtml = 'Like what you see? Visit the ' +\n",
       "            '<a target=\"_blank\" href=https://colab.research.google.com/notebooks/data_table.ipynb>data table notebook</a>'\n",
       "            + ' to learn more about interactive tables.';\n",
       "          element.innerHTML = '';\n",
       "          dataTable['output_type'] = 'display_data';\n",
       "          await google.colab.output.renderOutput(dataTable, element);\n",
       "          const docLink = document.createElement('div');\n",
       "          docLink.innerHTML = docLinkHtml;\n",
       "          element.appendChild(docLink);\n",
       "        }\n",
       "      </script>\n",
       "    </div>\n",
       "  </div>\n",
       "  "
      ],
      "text/plain": [
       "              datetime  season  holiday  workingday  weather  temp   atemp  \\\n",
       "0  2011-01-01 00:00:00       1        0           0        1  9.84  14.395   \n",
       "1  2011-01-01 01:00:00       1        0           0        1  9.02  13.635   \n",
       "2  2011-01-01 02:00:00       1        0           0        1  9.02  13.635   \n",
       "3  2011-01-01 03:00:00       1        0           0        1  9.84  14.395   \n",
       "4  2011-01-01 04:00:00       1        0           0        1  9.84  14.395   \n",
       "\n",
       "   humidity  windspeed  casual  registered  count  \n",
       "0        81        0.0       3          13     16  \n",
       "1        80        0.0       8          32     40  \n",
       "2        80        0.0       5          27     32  \n",
       "3        75        0.0       3          10     13  \n",
       "4        75        0.0       0           1      1  "
      ]
     },
     "execution_count": 8,
     "metadata": {},
     "output_type": "execute_result"
    }
   ],
   "source": [
    "# Create the train dataset in pandas by reading the csv\n",
    "# Set the parsing of the datetime column so you can use some of the `dt` features in pandas later\n",
    "train = pd.read_csv('train.csv')\n",
    "train.head()"
   ]
  },
  {
   "cell_type": "code",
   "execution_count": 9,
   "metadata": {
    "colab": {
     "base_uri": "https://localhost:8080/",
     "height": 364
    },
    "id": "rwuiuj1KH0cH",
    "outputId": "5c7dbc2b-7ca3-4557-fca1-c9b5f96d6733"
   },
   "outputs": [
    {
     "data": {
      "text/html": [
       "\n",
       "  <div id=\"df-11023d47-85fc-4469-8de2-69e67d5f1bad\">\n",
       "    <div class=\"colab-df-container\">\n",
       "      <div>\n",
       "<style scoped>\n",
       "    .dataframe tbody tr th:only-of-type {\n",
       "        vertical-align: middle;\n",
       "    }\n",
       "\n",
       "    .dataframe tbody tr th {\n",
       "        vertical-align: top;\n",
       "    }\n",
       "\n",
       "    .dataframe thead th {\n",
       "        text-align: right;\n",
       "    }\n",
       "</style>\n",
       "<table border=\"1\" class=\"dataframe\">\n",
       "  <thead>\n",
       "    <tr style=\"text-align: right;\">\n",
       "      <th></th>\n",
       "      <th>season</th>\n",
       "      <th>holiday</th>\n",
       "      <th>workingday</th>\n",
       "      <th>weather</th>\n",
       "      <th>temp</th>\n",
       "      <th>atemp</th>\n",
       "      <th>humidity</th>\n",
       "      <th>windspeed</th>\n",
       "      <th>casual</th>\n",
       "      <th>registered</th>\n",
       "      <th>count</th>\n",
       "    </tr>\n",
       "  </thead>\n",
       "  <tbody>\n",
       "    <tr>\n",
       "      <th>count</th>\n",
       "      <td>10886.000000</td>\n",
       "      <td>10886.000000</td>\n",
       "      <td>10886.000000</td>\n",
       "      <td>10886.000000</td>\n",
       "      <td>10886.00000</td>\n",
       "      <td>10886.000000</td>\n",
       "      <td>10886.000000</td>\n",
       "      <td>10886.000000</td>\n",
       "      <td>10886.000000</td>\n",
       "      <td>10886.000000</td>\n",
       "      <td>10886.000000</td>\n",
       "    </tr>\n",
       "    <tr>\n",
       "      <th>mean</th>\n",
       "      <td>2.506614</td>\n",
       "      <td>0.028569</td>\n",
       "      <td>0.680875</td>\n",
       "      <td>1.418427</td>\n",
       "      <td>20.23086</td>\n",
       "      <td>23.655084</td>\n",
       "      <td>61.886460</td>\n",
       "      <td>12.799395</td>\n",
       "      <td>36.021955</td>\n",
       "      <td>155.552177</td>\n",
       "      <td>191.574132</td>\n",
       "    </tr>\n",
       "    <tr>\n",
       "      <th>std</th>\n",
       "      <td>1.116174</td>\n",
       "      <td>0.166599</td>\n",
       "      <td>0.466159</td>\n",
       "      <td>0.633839</td>\n",
       "      <td>7.79159</td>\n",
       "      <td>8.474601</td>\n",
       "      <td>19.245033</td>\n",
       "      <td>8.164537</td>\n",
       "      <td>49.960477</td>\n",
       "      <td>151.039033</td>\n",
       "      <td>181.144454</td>\n",
       "    </tr>\n",
       "    <tr>\n",
       "      <th>min</th>\n",
       "      <td>1.000000</td>\n",
       "      <td>0.000000</td>\n",
       "      <td>0.000000</td>\n",
       "      <td>1.000000</td>\n",
       "      <td>0.82000</td>\n",
       "      <td>0.760000</td>\n",
       "      <td>0.000000</td>\n",
       "      <td>0.000000</td>\n",
       "      <td>0.000000</td>\n",
       "      <td>0.000000</td>\n",
       "      <td>1.000000</td>\n",
       "    </tr>\n",
       "    <tr>\n",
       "      <th>25%</th>\n",
       "      <td>2.000000</td>\n",
       "      <td>0.000000</td>\n",
       "      <td>0.000000</td>\n",
       "      <td>1.000000</td>\n",
       "      <td>13.94000</td>\n",
       "      <td>16.665000</td>\n",
       "      <td>47.000000</td>\n",
       "      <td>7.001500</td>\n",
       "      <td>4.000000</td>\n",
       "      <td>36.000000</td>\n",
       "      <td>42.000000</td>\n",
       "    </tr>\n",
       "    <tr>\n",
       "      <th>50%</th>\n",
       "      <td>3.000000</td>\n",
       "      <td>0.000000</td>\n",
       "      <td>1.000000</td>\n",
       "      <td>1.000000</td>\n",
       "      <td>20.50000</td>\n",
       "      <td>24.240000</td>\n",
       "      <td>62.000000</td>\n",
       "      <td>12.998000</td>\n",
       "      <td>17.000000</td>\n",
       "      <td>118.000000</td>\n",
       "      <td>145.000000</td>\n",
       "    </tr>\n",
       "    <tr>\n",
       "      <th>75%</th>\n",
       "      <td>4.000000</td>\n",
       "      <td>0.000000</td>\n",
       "      <td>1.000000</td>\n",
       "      <td>2.000000</td>\n",
       "      <td>26.24000</td>\n",
       "      <td>31.060000</td>\n",
       "      <td>77.000000</td>\n",
       "      <td>16.997900</td>\n",
       "      <td>49.000000</td>\n",
       "      <td>222.000000</td>\n",
       "      <td>284.000000</td>\n",
       "    </tr>\n",
       "    <tr>\n",
       "      <th>max</th>\n",
       "      <td>4.000000</td>\n",
       "      <td>1.000000</td>\n",
       "      <td>1.000000</td>\n",
       "      <td>4.000000</td>\n",
       "      <td>41.00000</td>\n",
       "      <td>45.455000</td>\n",
       "      <td>100.000000</td>\n",
       "      <td>56.996900</td>\n",
       "      <td>367.000000</td>\n",
       "      <td>886.000000</td>\n",
       "      <td>977.000000</td>\n",
       "    </tr>\n",
       "  </tbody>\n",
       "</table>\n",
       "</div>\n",
       "      <button class=\"colab-df-convert\" onclick=\"convertToInteractive('df-11023d47-85fc-4469-8de2-69e67d5f1bad')\"\n",
       "              title=\"Convert this dataframe to an interactive table.\"\n",
       "              style=\"display:none;\">\n",
       "        \n",
       "  <svg xmlns=\"http://www.w3.org/2000/svg\" height=\"24px\"viewBox=\"0 0 24 24\"\n",
       "       width=\"24px\">\n",
       "    <path d=\"M0 0h24v24H0V0z\" fill=\"none\"/>\n",
       "    <path d=\"M18.56 5.44l.94 2.06.94-2.06 2.06-.94-2.06-.94-.94-2.06-.94 2.06-2.06.94zm-11 1L8.5 8.5l.94-2.06 2.06-.94-2.06-.94L8.5 2.5l-.94 2.06-2.06.94zm10 10l.94 2.06.94-2.06 2.06-.94-2.06-.94-.94-2.06-.94 2.06-2.06.94z\"/><path d=\"M17.41 7.96l-1.37-1.37c-.4-.4-.92-.59-1.43-.59-.52 0-1.04.2-1.43.59L10.3 9.45l-7.72 7.72c-.78.78-.78 2.05 0 2.83L4 21.41c.39.39.9.59 1.41.59.51 0 1.02-.2 1.41-.59l7.78-7.78 2.81-2.81c.8-.78.8-2.07 0-2.86zM5.41 20L4 18.59l7.72-7.72 1.47 1.35L5.41 20z\"/>\n",
       "  </svg>\n",
       "      </button>\n",
       "      \n",
       "  <style>\n",
       "    .colab-df-container {\n",
       "      display:flex;\n",
       "      flex-wrap:wrap;\n",
       "      gap: 12px;\n",
       "    }\n",
       "\n",
       "    .colab-df-convert {\n",
       "      background-color: #E8F0FE;\n",
       "      border: none;\n",
       "      border-radius: 50%;\n",
       "      cursor: pointer;\n",
       "      display: none;\n",
       "      fill: #1967D2;\n",
       "      height: 32px;\n",
       "      padding: 0 0 0 0;\n",
       "      width: 32px;\n",
       "    }\n",
       "\n",
       "    .colab-df-convert:hover {\n",
       "      background-color: #E2EBFA;\n",
       "      box-shadow: 0px 1px 2px rgba(60, 64, 67, 0.3), 0px 1px 3px 1px rgba(60, 64, 67, 0.15);\n",
       "      fill: #174EA6;\n",
       "    }\n",
       "\n",
       "    [theme=dark] .colab-df-convert {\n",
       "      background-color: #3B4455;\n",
       "      fill: #D2E3FC;\n",
       "    }\n",
       "\n",
       "    [theme=dark] .colab-df-convert:hover {\n",
       "      background-color: #434B5C;\n",
       "      box-shadow: 0px 1px 3px 1px rgba(0, 0, 0, 0.15);\n",
       "      filter: drop-shadow(0px 1px 2px rgba(0, 0, 0, 0.3));\n",
       "      fill: #FFFFFF;\n",
       "    }\n",
       "  </style>\n",
       "\n",
       "      <script>\n",
       "        const buttonEl =\n",
       "          document.querySelector('#df-11023d47-85fc-4469-8de2-69e67d5f1bad button.colab-df-convert');\n",
       "        buttonEl.style.display =\n",
       "          google.colab.kernel.accessAllowed ? 'block' : 'none';\n",
       "\n",
       "        async function convertToInteractive(key) {\n",
       "          const element = document.querySelector('#df-11023d47-85fc-4469-8de2-69e67d5f1bad');\n",
       "          const dataTable =\n",
       "            await google.colab.kernel.invokeFunction('convertToInteractive',\n",
       "                                                     [key], {});\n",
       "          if (!dataTable) return;\n",
       "\n",
       "          const docLinkHtml = 'Like what you see? Visit the ' +\n",
       "            '<a target=\"_blank\" href=https://colab.research.google.com/notebooks/data_table.ipynb>data table notebook</a>'\n",
       "            + ' to learn more about interactive tables.';\n",
       "          element.innerHTML = '';\n",
       "          dataTable['output_type'] = 'display_data';\n",
       "          await google.colab.output.renderOutput(dataTable, element);\n",
       "          const docLink = document.createElement('div');\n",
       "          docLink.innerHTML = docLinkHtml;\n",
       "          element.appendChild(docLink);\n",
       "        }\n",
       "      </script>\n",
       "    </div>\n",
       "  </div>\n",
       "  "
      ],
      "text/plain": [
       "             season       holiday    workingday       weather         temp  \\\n",
       "count  10886.000000  10886.000000  10886.000000  10886.000000  10886.00000   \n",
       "mean       2.506614      0.028569      0.680875      1.418427     20.23086   \n",
       "std        1.116174      0.166599      0.466159      0.633839      7.79159   \n",
       "min        1.000000      0.000000      0.000000      1.000000      0.82000   \n",
       "25%        2.000000      0.000000      0.000000      1.000000     13.94000   \n",
       "50%        3.000000      0.000000      1.000000      1.000000     20.50000   \n",
       "75%        4.000000      0.000000      1.000000      2.000000     26.24000   \n",
       "max        4.000000      1.000000      1.000000      4.000000     41.00000   \n",
       "\n",
       "              atemp      humidity     windspeed        casual    registered  \\\n",
       "count  10886.000000  10886.000000  10886.000000  10886.000000  10886.000000   \n",
       "mean      23.655084     61.886460     12.799395     36.021955    155.552177   \n",
       "std        8.474601     19.245033      8.164537     49.960477    151.039033   \n",
       "min        0.760000      0.000000      0.000000      0.000000      0.000000   \n",
       "25%       16.665000     47.000000      7.001500      4.000000     36.000000   \n",
       "50%       24.240000     62.000000     12.998000     17.000000    118.000000   \n",
       "75%       31.060000     77.000000     16.997900     49.000000    222.000000   \n",
       "max       45.455000    100.000000     56.996900    367.000000    886.000000   \n",
       "\n",
       "              count  \n",
       "count  10886.000000  \n",
       "mean     191.574132  \n",
       "std      181.144454  \n",
       "min        1.000000  \n",
       "25%       42.000000  \n",
       "50%      145.000000  \n",
       "75%      284.000000  \n",
       "max      977.000000  "
      ]
     },
     "execution_count": 9,
     "metadata": {},
     "output_type": "execute_result"
    }
   ],
   "source": [
    "# Simple output of the train dataset to view some of the min/max/varition of the dataset features.\n",
    "train.describe()"
   ]
  },
  {
   "cell_type": "code",
   "execution_count": 10,
   "metadata": {
    "colab": {
     "base_uri": "https://localhost:8080/",
     "height": 206
    },
    "id": "mVtVcaGcH0cH",
    "outputId": "e1138c5d-a425-4dfc-9d26-34f9bf4737e4"
   },
   "outputs": [
    {
     "data": {
      "text/html": [
       "\n",
       "  <div id=\"df-53a6961f-5a26-4867-8bdf-037e2fadd94f\">\n",
       "    <div class=\"colab-df-container\">\n",
       "      <div>\n",
       "<style scoped>\n",
       "    .dataframe tbody tr th:only-of-type {\n",
       "        vertical-align: middle;\n",
       "    }\n",
       "\n",
       "    .dataframe tbody tr th {\n",
       "        vertical-align: top;\n",
       "    }\n",
       "\n",
       "    .dataframe thead th {\n",
       "        text-align: right;\n",
       "    }\n",
       "</style>\n",
       "<table border=\"1\" class=\"dataframe\">\n",
       "  <thead>\n",
       "    <tr style=\"text-align: right;\">\n",
       "      <th></th>\n",
       "      <th>datetime</th>\n",
       "      <th>season</th>\n",
       "      <th>holiday</th>\n",
       "      <th>workingday</th>\n",
       "      <th>weather</th>\n",
       "      <th>temp</th>\n",
       "      <th>atemp</th>\n",
       "      <th>humidity</th>\n",
       "      <th>windspeed</th>\n",
       "    </tr>\n",
       "  </thead>\n",
       "  <tbody>\n",
       "    <tr>\n",
       "      <th>0</th>\n",
       "      <td>2011-01-20 00:00:00</td>\n",
       "      <td>1</td>\n",
       "      <td>0</td>\n",
       "      <td>1</td>\n",
       "      <td>1</td>\n",
       "      <td>10.66</td>\n",
       "      <td>11.365</td>\n",
       "      <td>56</td>\n",
       "      <td>26.0027</td>\n",
       "    </tr>\n",
       "    <tr>\n",
       "      <th>1</th>\n",
       "      <td>2011-01-20 01:00:00</td>\n",
       "      <td>1</td>\n",
       "      <td>0</td>\n",
       "      <td>1</td>\n",
       "      <td>1</td>\n",
       "      <td>10.66</td>\n",
       "      <td>13.635</td>\n",
       "      <td>56</td>\n",
       "      <td>0.0000</td>\n",
       "    </tr>\n",
       "    <tr>\n",
       "      <th>2</th>\n",
       "      <td>2011-01-20 02:00:00</td>\n",
       "      <td>1</td>\n",
       "      <td>0</td>\n",
       "      <td>1</td>\n",
       "      <td>1</td>\n",
       "      <td>10.66</td>\n",
       "      <td>13.635</td>\n",
       "      <td>56</td>\n",
       "      <td>0.0000</td>\n",
       "    </tr>\n",
       "    <tr>\n",
       "      <th>3</th>\n",
       "      <td>2011-01-20 03:00:00</td>\n",
       "      <td>1</td>\n",
       "      <td>0</td>\n",
       "      <td>1</td>\n",
       "      <td>1</td>\n",
       "      <td>10.66</td>\n",
       "      <td>12.880</td>\n",
       "      <td>56</td>\n",
       "      <td>11.0014</td>\n",
       "    </tr>\n",
       "    <tr>\n",
       "      <th>4</th>\n",
       "      <td>2011-01-20 04:00:00</td>\n",
       "      <td>1</td>\n",
       "      <td>0</td>\n",
       "      <td>1</td>\n",
       "      <td>1</td>\n",
       "      <td>10.66</td>\n",
       "      <td>12.880</td>\n",
       "      <td>56</td>\n",
       "      <td>11.0014</td>\n",
       "    </tr>\n",
       "  </tbody>\n",
       "</table>\n",
       "</div>\n",
       "      <button class=\"colab-df-convert\" onclick=\"convertToInteractive('df-53a6961f-5a26-4867-8bdf-037e2fadd94f')\"\n",
       "              title=\"Convert this dataframe to an interactive table.\"\n",
       "              style=\"display:none;\">\n",
       "        \n",
       "  <svg xmlns=\"http://www.w3.org/2000/svg\" height=\"24px\"viewBox=\"0 0 24 24\"\n",
       "       width=\"24px\">\n",
       "    <path d=\"M0 0h24v24H0V0z\" fill=\"none\"/>\n",
       "    <path d=\"M18.56 5.44l.94 2.06.94-2.06 2.06-.94-2.06-.94-.94-2.06-.94 2.06-2.06.94zm-11 1L8.5 8.5l.94-2.06 2.06-.94-2.06-.94L8.5 2.5l-.94 2.06-2.06.94zm10 10l.94 2.06.94-2.06 2.06-.94-2.06-.94-.94-2.06-.94 2.06-2.06.94z\"/><path d=\"M17.41 7.96l-1.37-1.37c-.4-.4-.92-.59-1.43-.59-.52 0-1.04.2-1.43.59L10.3 9.45l-7.72 7.72c-.78.78-.78 2.05 0 2.83L4 21.41c.39.39.9.59 1.41.59.51 0 1.02-.2 1.41-.59l7.78-7.78 2.81-2.81c.8-.78.8-2.07 0-2.86zM5.41 20L4 18.59l7.72-7.72 1.47 1.35L5.41 20z\"/>\n",
       "  </svg>\n",
       "      </button>\n",
       "      \n",
       "  <style>\n",
       "    .colab-df-container {\n",
       "      display:flex;\n",
       "      flex-wrap:wrap;\n",
       "      gap: 12px;\n",
       "    }\n",
       "\n",
       "    .colab-df-convert {\n",
       "      background-color: #E8F0FE;\n",
       "      border: none;\n",
       "      border-radius: 50%;\n",
       "      cursor: pointer;\n",
       "      display: none;\n",
       "      fill: #1967D2;\n",
       "      height: 32px;\n",
       "      padding: 0 0 0 0;\n",
       "      width: 32px;\n",
       "    }\n",
       "\n",
       "    .colab-df-convert:hover {\n",
       "      background-color: #E2EBFA;\n",
       "      box-shadow: 0px 1px 2px rgba(60, 64, 67, 0.3), 0px 1px 3px 1px rgba(60, 64, 67, 0.15);\n",
       "      fill: #174EA6;\n",
       "    }\n",
       "\n",
       "    [theme=dark] .colab-df-convert {\n",
       "      background-color: #3B4455;\n",
       "      fill: #D2E3FC;\n",
       "    }\n",
       "\n",
       "    [theme=dark] .colab-df-convert:hover {\n",
       "      background-color: #434B5C;\n",
       "      box-shadow: 0px 1px 3px 1px rgba(0, 0, 0, 0.15);\n",
       "      filter: drop-shadow(0px 1px 2px rgba(0, 0, 0, 0.3));\n",
       "      fill: #FFFFFF;\n",
       "    }\n",
       "  </style>\n",
       "\n",
       "      <script>\n",
       "        const buttonEl =\n",
       "          document.querySelector('#df-53a6961f-5a26-4867-8bdf-037e2fadd94f button.colab-df-convert');\n",
       "        buttonEl.style.display =\n",
       "          google.colab.kernel.accessAllowed ? 'block' : 'none';\n",
       "\n",
       "        async function convertToInteractive(key) {\n",
       "          const element = document.querySelector('#df-53a6961f-5a26-4867-8bdf-037e2fadd94f');\n",
       "          const dataTable =\n",
       "            await google.colab.kernel.invokeFunction('convertToInteractive',\n",
       "                                                     [key], {});\n",
       "          if (!dataTable) return;\n",
       "\n",
       "          const docLinkHtml = 'Like what you see? Visit the ' +\n",
       "            '<a target=\"_blank\" href=https://colab.research.google.com/notebooks/data_table.ipynb>data table notebook</a>'\n",
       "            + ' to learn more about interactive tables.';\n",
       "          element.innerHTML = '';\n",
       "          dataTable['output_type'] = 'display_data';\n",
       "          await google.colab.output.renderOutput(dataTable, element);\n",
       "          const docLink = document.createElement('div');\n",
       "          docLink.innerHTML = docLinkHtml;\n",
       "          element.appendChild(docLink);\n",
       "        }\n",
       "      </script>\n",
       "    </div>\n",
       "  </div>\n",
       "  "
      ],
      "text/plain": [
       "              datetime  season  holiday  workingday  weather   temp   atemp  \\\n",
       "0  2011-01-20 00:00:00       1        0           1        1  10.66  11.365   \n",
       "1  2011-01-20 01:00:00       1        0           1        1  10.66  13.635   \n",
       "2  2011-01-20 02:00:00       1        0           1        1  10.66  13.635   \n",
       "3  2011-01-20 03:00:00       1        0           1        1  10.66  12.880   \n",
       "4  2011-01-20 04:00:00       1        0           1        1  10.66  12.880   \n",
       "\n",
       "   humidity  windspeed  \n",
       "0        56    26.0027  \n",
       "1        56     0.0000  \n",
       "2        56     0.0000  \n",
       "3        56    11.0014  \n",
       "4        56    11.0014  "
      ]
     },
     "execution_count": 10,
     "metadata": {},
     "output_type": "execute_result"
    }
   ],
   "source": [
    "# Create the test pandas dataframe in pandas by reading the csv, remember to parse the datetime!\n",
    "test = pd.read_csv('test.csv')\n",
    "test.head()"
   ]
  },
  {
   "cell_type": "code",
   "execution_count": 11,
   "metadata": {
    "colab": {
     "base_uri": "https://localhost:8080/",
     "height": 206
    },
    "id": "aypMPbrYH0cI",
    "outputId": "a7e1f606-f7ef-4680-ccf0-48c6c1ddf295"
   },
   "outputs": [
    {
     "data": {
      "text/html": [
       "\n",
       "  <div id=\"df-8ff55089-9510-40f5-9797-f58582e79829\">\n",
       "    <div class=\"colab-df-container\">\n",
       "      <div>\n",
       "<style scoped>\n",
       "    .dataframe tbody tr th:only-of-type {\n",
       "        vertical-align: middle;\n",
       "    }\n",
       "\n",
       "    .dataframe tbody tr th {\n",
       "        vertical-align: top;\n",
       "    }\n",
       "\n",
       "    .dataframe thead th {\n",
       "        text-align: right;\n",
       "    }\n",
       "</style>\n",
       "<table border=\"1\" class=\"dataframe\">\n",
       "  <thead>\n",
       "    <tr style=\"text-align: right;\">\n",
       "      <th></th>\n",
       "      <th>datetime</th>\n",
       "      <th>count</th>\n",
       "    </tr>\n",
       "  </thead>\n",
       "  <tbody>\n",
       "    <tr>\n",
       "      <th>0</th>\n",
       "      <td>2011-01-20 00:00:00</td>\n",
       "      <td>0</td>\n",
       "    </tr>\n",
       "    <tr>\n",
       "      <th>1</th>\n",
       "      <td>2011-01-20 01:00:00</td>\n",
       "      <td>0</td>\n",
       "    </tr>\n",
       "    <tr>\n",
       "      <th>2</th>\n",
       "      <td>2011-01-20 02:00:00</td>\n",
       "      <td>0</td>\n",
       "    </tr>\n",
       "    <tr>\n",
       "      <th>3</th>\n",
       "      <td>2011-01-20 03:00:00</td>\n",
       "      <td>0</td>\n",
       "    </tr>\n",
       "    <tr>\n",
       "      <th>4</th>\n",
       "      <td>2011-01-20 04:00:00</td>\n",
       "      <td>0</td>\n",
       "    </tr>\n",
       "  </tbody>\n",
       "</table>\n",
       "</div>\n",
       "      <button class=\"colab-df-convert\" onclick=\"convertToInteractive('df-8ff55089-9510-40f5-9797-f58582e79829')\"\n",
       "              title=\"Convert this dataframe to an interactive table.\"\n",
       "              style=\"display:none;\">\n",
       "        \n",
       "  <svg xmlns=\"http://www.w3.org/2000/svg\" height=\"24px\"viewBox=\"0 0 24 24\"\n",
       "       width=\"24px\">\n",
       "    <path d=\"M0 0h24v24H0V0z\" fill=\"none\"/>\n",
       "    <path d=\"M18.56 5.44l.94 2.06.94-2.06 2.06-.94-2.06-.94-.94-2.06-.94 2.06-2.06.94zm-11 1L8.5 8.5l.94-2.06 2.06-.94-2.06-.94L8.5 2.5l-.94 2.06-2.06.94zm10 10l.94 2.06.94-2.06 2.06-.94-2.06-.94-.94-2.06-.94 2.06-2.06.94z\"/><path d=\"M17.41 7.96l-1.37-1.37c-.4-.4-.92-.59-1.43-.59-.52 0-1.04.2-1.43.59L10.3 9.45l-7.72 7.72c-.78.78-.78 2.05 0 2.83L4 21.41c.39.39.9.59 1.41.59.51 0 1.02-.2 1.41-.59l7.78-7.78 2.81-2.81c.8-.78.8-2.07 0-2.86zM5.41 20L4 18.59l7.72-7.72 1.47 1.35L5.41 20z\"/>\n",
       "  </svg>\n",
       "      </button>\n",
       "      \n",
       "  <style>\n",
       "    .colab-df-container {\n",
       "      display:flex;\n",
       "      flex-wrap:wrap;\n",
       "      gap: 12px;\n",
       "    }\n",
       "\n",
       "    .colab-df-convert {\n",
       "      background-color: #E8F0FE;\n",
       "      border: none;\n",
       "      border-radius: 50%;\n",
       "      cursor: pointer;\n",
       "      display: none;\n",
       "      fill: #1967D2;\n",
       "      height: 32px;\n",
       "      padding: 0 0 0 0;\n",
       "      width: 32px;\n",
       "    }\n",
       "\n",
       "    .colab-df-convert:hover {\n",
       "      background-color: #E2EBFA;\n",
       "      box-shadow: 0px 1px 2px rgba(60, 64, 67, 0.3), 0px 1px 3px 1px rgba(60, 64, 67, 0.15);\n",
       "      fill: #174EA6;\n",
       "    }\n",
       "\n",
       "    [theme=dark] .colab-df-convert {\n",
       "      background-color: #3B4455;\n",
       "      fill: #D2E3FC;\n",
       "    }\n",
       "\n",
       "    [theme=dark] .colab-df-convert:hover {\n",
       "      background-color: #434B5C;\n",
       "      box-shadow: 0px 1px 3px 1px rgba(0, 0, 0, 0.15);\n",
       "      filter: drop-shadow(0px 1px 2px rgba(0, 0, 0, 0.3));\n",
       "      fill: #FFFFFF;\n",
       "    }\n",
       "  </style>\n",
       "\n",
       "      <script>\n",
       "        const buttonEl =\n",
       "          document.querySelector('#df-8ff55089-9510-40f5-9797-f58582e79829 button.colab-df-convert');\n",
       "        buttonEl.style.display =\n",
       "          google.colab.kernel.accessAllowed ? 'block' : 'none';\n",
       "\n",
       "        async function convertToInteractive(key) {\n",
       "          const element = document.querySelector('#df-8ff55089-9510-40f5-9797-f58582e79829');\n",
       "          const dataTable =\n",
       "            await google.colab.kernel.invokeFunction('convertToInteractive',\n",
       "                                                     [key], {});\n",
       "          if (!dataTable) return;\n",
       "\n",
       "          const docLinkHtml = 'Like what you see? Visit the ' +\n",
       "            '<a target=\"_blank\" href=https://colab.research.google.com/notebooks/data_table.ipynb>data table notebook</a>'\n",
       "            + ' to learn more about interactive tables.';\n",
       "          element.innerHTML = '';\n",
       "          dataTable['output_type'] = 'display_data';\n",
       "          await google.colab.output.renderOutput(dataTable, element);\n",
       "          const docLink = document.createElement('div');\n",
       "          docLink.innerHTML = docLinkHtml;\n",
       "          element.appendChild(docLink);\n",
       "        }\n",
       "      </script>\n",
       "    </div>\n",
       "  </div>\n",
       "  "
      ],
      "text/plain": [
       "              datetime  count\n",
       "0  2011-01-20 00:00:00      0\n",
       "1  2011-01-20 01:00:00      0\n",
       "2  2011-01-20 02:00:00      0\n",
       "3  2011-01-20 03:00:00      0\n",
       "4  2011-01-20 04:00:00      0"
      ]
     },
     "execution_count": 11,
     "metadata": {},
     "output_type": "execute_result"
    }
   ],
   "source": [
    "# Same thing as train and test dataset\n",
    "submission = pd.read_csv('sampleSubmission.csv')\n",
    "submission.head()"
   ]
  },
  {
   "cell_type": "markdown",
   "metadata": {
    "id": "XwER7g73H0cJ"
   },
   "source": [
    "## Step 3: Train a model using AutoGluon’s Tabular Prediction"
   ]
  },
  {
   "cell_type": "markdown",
   "metadata": {
    "id": "dLhXHYZ5H0cJ"
   },
   "source": [
    "Requirements:\n",
    "* We are prediting `count`, so it is the label we are setting.\n",
    "* Ignore `casual` and `registered` columns as they are also not present in the test dataset. \n",
    "* Use the `root_mean_squared_error` as the metric to use for evaluation.\n",
    "* Set a time limit of 10 minutes (600 seconds).\n",
    "* Use the preset `best_quality` to focus on creating the best model."
   ]
  },
  {
   "cell_type": "code",
   "execution_count": 12,
   "metadata": {
    "colab": {
     "base_uri": "https://localhost:8080/"
    },
    "id": "tyey1y6rH0cK",
    "outputId": "f093ca1f-9ec7-4b6d-bac0-2f44b4a338e5"
   },
   "outputs": [
    {
     "name": "stderr",
     "output_type": "stream",
     "text": [
      "No path specified. Models will be saved in: \"AutogluonModels/ag-20220728_165225/\"\n",
      "Presets specified: ['best_quality']\n",
      "Stack configuration (auto_stack=True): num_stack_levels=1, num_bag_folds=8, num_bag_sets=20\n",
      "Beginning AutoGluon training ... Time limit = 600s\n",
      "AutoGluon will save models to \"AutogluonModels/ag-20220728_165225/\"\n",
      "AutoGluon Version:  0.5.1\n",
      "Python Version:     3.7.13\n",
      "Operating System:   Linux\n",
      "Train Data Rows:    10886\n",
      "Train Data Columns: 9\n",
      "Label Column: count\n",
      "Preprocessing data ...\n",
      "AutoGluon infers your prediction problem is: 'regression' (because dtype of label-column == int and many unique label-values observed).\n",
      "\tLabel info (max, min, mean, stddev): (977, 1, 191.57413, 181.14445)\n",
      "\tIf 'regression' is not the correct problem_type, please manually specify the problem_type parameter during predictor init (You may specify problem_type as one of: ['binary', 'multiclass', 'regression'])\n",
      "Using Feature Generators to preprocess the data ...\n",
      "Fitting AutoMLPipelineFeatureGenerator...\n",
      "\tAvailable Memory:                    12664.06 MB\n",
      "\tTrain Data (Original)  Memory Usage: 1.52 MB (0.0% of available memory)\n",
      "\tInferring data type of each feature based on column values. Set feature_metadata_in to manually specify special dtypes of the features.\n",
      "\tStage 1 Generators:\n",
      "\t\tFitting AsTypeFeatureGenerator...\n",
      "\t\t\tNote: Converting 2 features to boolean dtype as they only contain 2 unique values.\n",
      "\tStage 2 Generators:\n",
      "\t\tFitting FillNaFeatureGenerator...\n",
      "\tStage 3 Generators:\n",
      "\t\tFitting IdentityFeatureGenerator...\n",
      "\t\tFitting DatetimeFeatureGenerator...\n",
      "\tStage 4 Generators:\n",
      "\t\tFitting DropUniqueFeatureGenerator...\n",
      "\tTypes of features in original data (raw dtype, special dtypes):\n",
      "\t\t('float', [])                      : 3 | ['temp', 'atemp', 'windspeed']\n",
      "\t\t('int', [])                        : 5 | ['season', 'holiday', 'workingday', 'weather', 'humidity']\n",
      "\t\t('object', ['datetime_as_object']) : 1 | ['datetime']\n",
      "\tTypes of features in processed data (raw dtype, special dtypes):\n",
      "\t\t('float', [])                : 3 | ['temp', 'atemp', 'windspeed']\n",
      "\t\t('int', [])                  : 3 | ['season', 'weather', 'humidity']\n",
      "\t\t('int', ['bool'])            : 2 | ['holiday', 'workingday']\n",
      "\t\t('int', ['datetime_as_int']) : 5 | ['datetime', 'datetime.year', 'datetime.month', 'datetime.day', 'datetime.dayofweek']\n",
      "\t0.3s = Fit runtime\n",
      "\t9 features in original data used to generate 13 features in processed data.\n",
      "\tTrain Data (Processed) Memory Usage: 0.98 MB (0.0% of available memory)\n",
      "Data preprocessing and feature engineering runtime = 0.36s ...\n",
      "AutoGluon will gauge predictive performance using evaluation metric: 'root_mean_squared_error'\n",
      "\tThis metric's sign has been flipped to adhere to being higher_is_better. The metric score can be multiplied by -1 to get the metric value.\n",
      "\tTo change this, specify the eval_metric parameter of Predictor()\n",
      "AutoGluon will fit 2 stack levels (L1 to L2) ...\n",
      "Fitting 11 L1 models ...\n",
      "Fitting model: KNeighborsUnif_BAG_L1 ... Training model for up to 399.66s of the 599.63s of remaining time.\n",
      "\t-101.5462\t = Validation score   (-root_mean_squared_error)\n",
      "\t0.05s\t = Training   runtime\n",
      "\t0.1s\t = Validation runtime\n",
      "Fitting model: KNeighborsDist_BAG_L1 ... Training model for up to 399.34s of the 599.32s of remaining time.\n",
      "\t-84.1251\t = Validation score   (-root_mean_squared_error)\n",
      "\t0.04s\t = Training   runtime\n",
      "\t0.11s\t = Validation runtime\n",
      "Fitting model: LightGBMXT_BAG_L1 ... Training model for up to 399.06s of the 599.03s of remaining time.\n",
      "\tFitting 8 child models (S1F1 - S1F8) | Fitting with ParallelLocalFoldFittingStrategy\n",
      "\t-131.4609\t = Validation score   (-root_mean_squared_error)\n",
      "\t86.21s\t = Training   runtime\n",
      "\t10.66s\t = Validation runtime\n",
      "Fitting model: LightGBM_BAG_L1 ... Training model for up to 298.01s of the 497.98s of remaining time.\n",
      "\tFitting 8 child models (S1F1 - S1F8) | Fitting with ParallelLocalFoldFittingStrategy\n",
      "\t-131.0542\t = Validation score   (-root_mean_squared_error)\n",
      "\t27.22s\t = Training   runtime\n",
      "\t1.44s\t = Validation runtime\n",
      "Fitting model: RandomForestMSE_BAG_L1 ... Training model for up to 266.93s of the 466.91s of remaining time.\n",
      "\t-116.5443\t = Validation score   (-root_mean_squared_error)\n",
      "\t13.71s\t = Training   runtime\n",
      "\t0.63s\t = Validation runtime\n",
      "Fitting model: CatBoost_BAG_L1 ... Training model for up to 251.29s of the 451.26s of remaining time.\n",
      "\tFitting 8 child models (S1F1 - S1F8) | Fitting with ParallelLocalFoldFittingStrategy\n",
      "\t-130.565\t = Validation score   (-root_mean_squared_error)\n",
      "\t190.27s\t = Training   runtime\n",
      "\t0.14s\t = Validation runtime\n",
      "Fitting model: ExtraTreesMSE_BAG_L1 ... Training model for up to 57.63s of the 257.6s of remaining time.\n",
      "\t-124.5881\t = Validation score   (-root_mean_squared_error)\n",
      "\t5.95s\t = Training   runtime\n",
      "\t0.55s\t = Validation runtime\n",
      "Fitting model: NeuralNetFastAI_BAG_L1 ... Training model for up to 50.32s of the 250.29s of remaining time.\n",
      "\tFitting 8 child models (S1F1 - S1F8) | Fitting with ParallelLocalFoldFittingStrategy\n",
      "\t-138.7886\t = Validation score   (-root_mean_squared_error)\n",
      "\t59.05s\t = Training   runtime\n",
      "\t0.48s\t = Validation runtime\n",
      "Completed 1/20 k-fold bagging repeats ...\n",
      "Fitting model: WeightedEnsemble_L2 ... Training model for up to 360.0s of the 186.83s of remaining time.\n",
      "\t-84.1251\t = Validation score   (-root_mean_squared_error)\n",
      "\t0.51s\t = Training   runtime\n",
      "\t0.0s\t = Validation runtime\n",
      "Fitting 9 L2 models ...\n",
      "Fitting model: LightGBMXT_BAG_L2 ... Training model for up to 186.29s of the 186.27s of remaining time.\n",
      "\tFitting 8 child models (S1F1 - S1F8) | Fitting with ParallelLocalFoldFittingStrategy\n",
      "\t-60.4451\t = Validation score   (-root_mean_squared_error)\n",
      "\t59.02s\t = Training   runtime\n",
      "\t4.02s\t = Validation runtime\n",
      "Fitting model: LightGBM_BAG_L2 ... Training model for up to 121.91s of the 121.89s of remaining time.\n",
      "\tFitting 8 child models (S1F1 - S1F8) | Fitting with ParallelLocalFoldFittingStrategy\n",
      "\t-55.24\t = Validation score   (-root_mean_squared_error)\n",
      "\t23.44s\t = Training   runtime\n",
      "\t0.33s\t = Validation runtime\n",
      "Fitting model: RandomForestMSE_BAG_L2 ... Training model for up to 94.55s of the 94.53s of remaining time.\n",
      "\t-53.3226\t = Validation score   (-root_mean_squared_error)\n",
      "\t31.43s\t = Training   runtime\n",
      "\t0.79s\t = Validation runtime\n",
      "Fitting model: CatBoost_BAG_L2 ... Training model for up to 61.51s of the 61.49s of remaining time.\n",
      "\tFitting 8 child models (S1F1 - S1F8) | Fitting with ParallelLocalFoldFittingStrategy\n",
      "\t-55.7743\t = Validation score   (-root_mean_squared_error)\n",
      "\t59.33s\t = Training   runtime\n",
      "\t0.11s\t = Validation runtime\n",
      "Completed 1/20 k-fold bagging repeats ...\n",
      "Fitting model: WeightedEnsemble_L3 ... Training model for up to 360.0s of the -1.01s of remaining time.\n",
      "\t-53.0681\t = Validation score   (-root_mean_squared_error)\n",
      "\t0.28s\t = Training   runtime\n",
      "\t0.0s\t = Validation runtime\n",
      "AutoGluon training complete, total runtime = 601.35s ... Best model: \"WeightedEnsemble_L3\"\n",
      "TabularPredictor saved. To load, use: predictor = TabularPredictor.load(\"AutogluonModels/ag-20220728_165225/\")\n"
     ]
    }
   ],
   "source": [
    "predictor = TabularPredictor(label = 'count',\n",
    "                             eval_metric = 'root_mean_squared_error').fit(train.drop(columns = ['casual' , 'registered']),\n",
    "                                                                          time_limit=600,\n",
    "                                                                          presets='best_quality')"
   ]
  },
  {
   "cell_type": "markdown",
   "metadata": {
    "id": "rJBFHrXTH0cL"
   },
   "source": [
    "### Review AutoGluon's training run with ranking of models that did the best."
   ]
  },
  {
   "cell_type": "code",
   "execution_count": 13,
   "metadata": {
    "colab": {
     "base_uri": "https://localhost:8080/"
    },
    "id": "ziQSKd5lH0cL",
    "outputId": "3eadb501-bdb7-44fb-858b-ed6d15e16054"
   },
   "outputs": [
    {
     "name": "stdout",
     "output_type": "stream",
     "text": [
      "*** Summary of fit() ***\n",
      "Estimated performance of each model:\n",
      "                     model   score_val  pred_time_val    fit_time  pred_time_val_marginal  fit_time_marginal  stack_level  can_infer  fit_order\n",
      "0      WeightedEnsemble_L3  -53.068087      19.345073  555.984340                0.000984           0.279735            3       True         14\n",
      "1   RandomForestMSE_BAG_L2  -53.322553      14.889101  413.922628                0.786783          31.426200            2       True         12\n",
      "2          LightGBM_BAG_L2  -55.239990      14.431038  405.932893                0.328721          23.436465            2       True         11\n",
      "3          CatBoost_BAG_L2  -55.774341      14.210343  441.823747                0.108026          59.327319            2       True         13\n",
      "4        LightGBMXT_BAG_L2  -60.445124      18.120558  441.514620                4.018241          59.018192            2       True         10\n",
      "5    KNeighborsDist_BAG_L1  -84.125061       0.105591    0.038084                0.105591           0.038084            1       True          2\n",
      "6      WeightedEnsemble_L2  -84.125061       0.106493    0.550800                0.000901           0.512716            2       True          9\n",
      "7    KNeighborsUnif_BAG_L1 -101.546199       0.104698    0.052371                0.104698           0.052371            1       True          1\n",
      "8   RandomForestMSE_BAG_L1 -116.544294       0.630549   13.706160                0.630549          13.706160            1       True          5\n",
      "9     ExtraTreesMSE_BAG_L1 -124.588053       0.549093    5.949164                0.549093           5.949164            1       True          7\n",
      "10         CatBoost_BAG_L1 -130.565015       0.140317  190.268569                0.140317         190.268569            1       True          6\n",
      "11         LightGBM_BAG_L1 -131.054162       1.437096   27.223296                1.437096          27.223296            1       True          4\n",
      "12       LightGBMXT_BAG_L1 -131.460909      10.656530   86.212215               10.656530          86.212215            1       True          3\n",
      "13  NeuralNetFastAI_BAG_L1 -138.788609       0.478442   59.046568                0.478442          59.046568            1       True          8\n",
      "Number of models trained: 14\n",
      "Types of models trained:\n",
      "{'StackerEnsembleModel_CatBoost', 'StackerEnsembleModel_RF', 'WeightedEnsembleModel', 'StackerEnsembleModel_NNFastAiTabular', 'StackerEnsembleModel_LGB', 'StackerEnsembleModel_KNN', 'StackerEnsembleModel_XT'}\n",
      "Bagging used: True  (with 8 folds)\n",
      "Multi-layer stack-ensembling used: True  (with 3 levels)\n",
      "Feature Metadata (Processed):\n",
      "(raw dtype, special dtypes):\n",
      "('float', [])                : 3 | ['temp', 'atemp', 'windspeed']\n",
      "('int', [])                  : 3 | ['season', 'weather', 'humidity']\n",
      "('int', ['bool'])            : 2 | ['holiday', 'workingday']\n",
      "('int', ['datetime_as_int']) : 5 | ['datetime', 'datetime.year', 'datetime.month', 'datetime.day', 'datetime.dayofweek']\n",
      "Plot summary of models saved to file: AutogluonModels/ag-20220728_165225/SummaryOfModels.html\n",
      "*** End of fit() summary ***\n"
     ]
    },
    {
     "data": {
      "text/plain": [
       "{'leaderboard':                      model   score_val  pred_time_val    fit_time  \\\n",
       " 0      WeightedEnsemble_L3  -53.068087      19.345073  555.984340   \n",
       " 1   RandomForestMSE_BAG_L2  -53.322553      14.889101  413.922628   \n",
       " 2          LightGBM_BAG_L2  -55.239990      14.431038  405.932893   \n",
       " 3          CatBoost_BAG_L2  -55.774341      14.210343  441.823747   \n",
       " 4        LightGBMXT_BAG_L2  -60.445124      18.120558  441.514620   \n",
       " 5    KNeighborsDist_BAG_L1  -84.125061       0.105591    0.038084   \n",
       " 6      WeightedEnsemble_L2  -84.125061       0.106493    0.550800   \n",
       " 7    KNeighborsUnif_BAG_L1 -101.546199       0.104698    0.052371   \n",
       " 8   RandomForestMSE_BAG_L1 -116.544294       0.630549   13.706160   \n",
       " 9     ExtraTreesMSE_BAG_L1 -124.588053       0.549093    5.949164   \n",
       " 10         CatBoost_BAG_L1 -130.565015       0.140317  190.268569   \n",
       " 11         LightGBM_BAG_L1 -131.054162       1.437096   27.223296   \n",
       " 12       LightGBMXT_BAG_L1 -131.460909      10.656530   86.212215   \n",
       " 13  NeuralNetFastAI_BAG_L1 -138.788609       0.478442   59.046568   \n",
       " \n",
       "     pred_time_val_marginal  fit_time_marginal  stack_level  can_infer  \\\n",
       " 0                 0.000984           0.279735            3       True   \n",
       " 1                 0.786783          31.426200            2       True   \n",
       " 2                 0.328721          23.436465            2       True   \n",
       " 3                 0.108026          59.327319            2       True   \n",
       " 4                 4.018241          59.018192            2       True   \n",
       " 5                 0.105591           0.038084            1       True   \n",
       " 6                 0.000901           0.512716            2       True   \n",
       " 7                 0.104698           0.052371            1       True   \n",
       " 8                 0.630549          13.706160            1       True   \n",
       " 9                 0.549093           5.949164            1       True   \n",
       " 10                0.140317         190.268569            1       True   \n",
       " 11                1.437096          27.223296            1       True   \n",
       " 12               10.656530          86.212215            1       True   \n",
       " 13                0.478442          59.046568            1       True   \n",
       " \n",
       "     fit_order  \n",
       " 0          14  \n",
       " 1          12  \n",
       " 2          11  \n",
       " 3          13  \n",
       " 4          10  \n",
       " 5           2  \n",
       " 6           9  \n",
       " 7           1  \n",
       " 8           5  \n",
       " 9           7  \n",
       " 10          6  \n",
       " 11          4  \n",
       " 12          3  \n",
       " 13          8  ,\n",
       " 'max_stack_level': 3,\n",
       " 'model_best': 'WeightedEnsemble_L3',\n",
       " 'model_fit_times': {'CatBoost_BAG_L1': 190.26856923103333,\n",
       "  'CatBoost_BAG_L2': 59.327319383621216,\n",
       "  'ExtraTreesMSE_BAG_L1': 5.949163913726807,\n",
       "  'KNeighborsDist_BAG_L1': 0.03808426856994629,\n",
       "  'KNeighborsUnif_BAG_L1': 0.05237102508544922,\n",
       "  'LightGBMXT_BAG_L1': 86.2122151851654,\n",
       "  'LightGBMXT_BAG_L2': 59.01819181442261,\n",
       "  'LightGBM_BAG_L1': 27.22329568862915,\n",
       "  'LightGBM_BAG_L2': 23.4364652633667,\n",
       "  'NeuralNetFastAI_BAG_L1': 59.046568393707275,\n",
       "  'RandomForestMSE_BAG_L1': 13.706160306930542,\n",
       "  'RandomForestMSE_BAG_L2': 31.42620038986206,\n",
       "  'WeightedEnsemble_L2': 0.5127158164978027,\n",
       "  'WeightedEnsemble_L3': 0.27973484992980957},\n",
       " 'model_hyperparams': {'CatBoost_BAG_L1': {'max_base_models': 25,\n",
       "   'max_base_models_per_type': 5,\n",
       "   'save_bag_folds': True,\n",
       "   'use_orig_features': True},\n",
       "  'CatBoost_BAG_L2': {'max_base_models': 25,\n",
       "   'max_base_models_per_type': 5,\n",
       "   'save_bag_folds': True,\n",
       "   'use_orig_features': True},\n",
       "  'ExtraTreesMSE_BAG_L1': {'max_base_models': 25,\n",
       "   'max_base_models_per_type': 5,\n",
       "   'save_bag_folds': True,\n",
       "   'use_child_oof': True,\n",
       "   'use_orig_features': True},\n",
       "  'KNeighborsDist_BAG_L1': {'max_base_models': 25,\n",
       "   'max_base_models_per_type': 5,\n",
       "   'save_bag_folds': True,\n",
       "   'use_child_oof': True,\n",
       "   'use_orig_features': True},\n",
       "  'KNeighborsUnif_BAG_L1': {'max_base_models': 25,\n",
       "   'max_base_models_per_type': 5,\n",
       "   'save_bag_folds': True,\n",
       "   'use_child_oof': True,\n",
       "   'use_orig_features': True},\n",
       "  'LightGBMXT_BAG_L1': {'max_base_models': 25,\n",
       "   'max_base_models_per_type': 5,\n",
       "   'save_bag_folds': True,\n",
       "   'use_orig_features': True},\n",
       "  'LightGBMXT_BAG_L2': {'max_base_models': 25,\n",
       "   'max_base_models_per_type': 5,\n",
       "   'save_bag_folds': True,\n",
       "   'use_orig_features': True},\n",
       "  'LightGBM_BAG_L1': {'max_base_models': 25,\n",
       "   'max_base_models_per_type': 5,\n",
       "   'save_bag_folds': True,\n",
       "   'use_orig_features': True},\n",
       "  'LightGBM_BAG_L2': {'max_base_models': 25,\n",
       "   'max_base_models_per_type': 5,\n",
       "   'save_bag_folds': True,\n",
       "   'use_orig_features': True},\n",
       "  'NeuralNetFastAI_BAG_L1': {'max_base_models': 25,\n",
       "   'max_base_models_per_type': 5,\n",
       "   'save_bag_folds': True,\n",
       "   'use_orig_features': True},\n",
       "  'RandomForestMSE_BAG_L1': {'max_base_models': 25,\n",
       "   'max_base_models_per_type': 5,\n",
       "   'save_bag_folds': True,\n",
       "   'use_child_oof': True,\n",
       "   'use_orig_features': True},\n",
       "  'RandomForestMSE_BAG_L2': {'max_base_models': 25,\n",
       "   'max_base_models_per_type': 5,\n",
       "   'save_bag_folds': True,\n",
       "   'use_child_oof': True,\n",
       "   'use_orig_features': True},\n",
       "  'WeightedEnsemble_L2': {'max_base_models': 25,\n",
       "   'max_base_models_per_type': 5,\n",
       "   'save_bag_folds': True,\n",
       "   'use_orig_features': False},\n",
       "  'WeightedEnsemble_L3': {'max_base_models': 25,\n",
       "   'max_base_models_per_type': 5,\n",
       "   'save_bag_folds': True,\n",
       "   'use_orig_features': False}},\n",
       " 'model_paths': {'CatBoost_BAG_L1': 'AutogluonModels/ag-20220728_165225/models/CatBoost_BAG_L1/',\n",
       "  'CatBoost_BAG_L2': 'AutogluonModels/ag-20220728_165225/models/CatBoost_BAG_L2/',\n",
       "  'ExtraTreesMSE_BAG_L1': 'AutogluonModels/ag-20220728_165225/models/ExtraTreesMSE_BAG_L1/',\n",
       "  'KNeighborsDist_BAG_L1': 'AutogluonModels/ag-20220728_165225/models/KNeighborsDist_BAG_L1/',\n",
       "  'KNeighborsUnif_BAG_L1': 'AutogluonModels/ag-20220728_165225/models/KNeighborsUnif_BAG_L1/',\n",
       "  'LightGBMXT_BAG_L1': 'AutogluonModels/ag-20220728_165225/models/LightGBMXT_BAG_L1/',\n",
       "  'LightGBMXT_BAG_L2': 'AutogluonModels/ag-20220728_165225/models/LightGBMXT_BAG_L2/',\n",
       "  'LightGBM_BAG_L1': 'AutogluonModels/ag-20220728_165225/models/LightGBM_BAG_L1/',\n",
       "  'LightGBM_BAG_L2': 'AutogluonModels/ag-20220728_165225/models/LightGBM_BAG_L2/',\n",
       "  'NeuralNetFastAI_BAG_L1': 'AutogluonModels/ag-20220728_165225/models/NeuralNetFastAI_BAG_L1/',\n",
       "  'RandomForestMSE_BAG_L1': 'AutogluonModels/ag-20220728_165225/models/RandomForestMSE_BAG_L1/',\n",
       "  'RandomForestMSE_BAG_L2': 'AutogluonModels/ag-20220728_165225/models/RandomForestMSE_BAG_L2/',\n",
       "  'WeightedEnsemble_L2': 'AutogluonModels/ag-20220728_165225/models/WeightedEnsemble_L2/',\n",
       "  'WeightedEnsemble_L3': 'AutogluonModels/ag-20220728_165225/models/WeightedEnsemble_L3/'},\n",
       " 'model_performance': {'CatBoost_BAG_L1': -130.56501465692673,\n",
       "  'CatBoost_BAG_L2': -55.774340636283526,\n",
       "  'ExtraTreesMSE_BAG_L1': -124.58805258915959,\n",
       "  'KNeighborsDist_BAG_L1': -84.12506123181602,\n",
       "  'KNeighborsUnif_BAG_L1': -101.54619908446061,\n",
       "  'LightGBMXT_BAG_L1': -131.46090891834504,\n",
       "  'LightGBMXT_BAG_L2': -60.445123831080245,\n",
       "  'LightGBM_BAG_L1': -131.054161598899,\n",
       "  'LightGBM_BAG_L2': -55.239989680168236,\n",
       "  'NeuralNetFastAI_BAG_L1': -138.7886086072393,\n",
       "  'RandomForestMSE_BAG_L1': -116.54429428704391,\n",
       "  'RandomForestMSE_BAG_L2': -53.3225526301292,\n",
       "  'WeightedEnsemble_L2': -84.12506123181602,\n",
       "  'WeightedEnsemble_L3': -53.06808729237524},\n",
       " 'model_pred_times': {'CatBoost_BAG_L1': 0.14031696319580078,\n",
       "  'CatBoost_BAG_L2': 0.10802626609802246,\n",
       "  'ExtraTreesMSE_BAG_L1': 0.5490927696228027,\n",
       "  'KNeighborsDist_BAG_L1': 0.1055912971496582,\n",
       "  'KNeighborsUnif_BAG_L1': 0.10469841957092285,\n",
       "  'LightGBMXT_BAG_L1': 10.656529903411865,\n",
       "  'LightGBMXT_BAG_L2': 4.018240928649902,\n",
       "  'LightGBM_BAG_L1': 1.437096357345581,\n",
       "  'LightGBM_BAG_L2': 0.3287205696105957,\n",
       "  'NeuralNetFastAI_BAG_L1': 0.4784421920776367,\n",
       "  'RandomForestMSE_BAG_L1': 0.6305491924285889,\n",
       "  'RandomForestMSE_BAG_L2': 0.7867834568023682,\n",
       "  'WeightedEnsemble_L2': 0.0009014606475830078,\n",
       "  'WeightedEnsemble_L3': 0.0009844303131103516},\n",
       " 'model_types': {'CatBoost_BAG_L1': 'StackerEnsembleModel_CatBoost',\n",
       "  'CatBoost_BAG_L2': 'StackerEnsembleModel_CatBoost',\n",
       "  'ExtraTreesMSE_BAG_L1': 'StackerEnsembleModel_XT',\n",
       "  'KNeighborsDist_BAG_L1': 'StackerEnsembleModel_KNN',\n",
       "  'KNeighborsUnif_BAG_L1': 'StackerEnsembleModel_KNN',\n",
       "  'LightGBMXT_BAG_L1': 'StackerEnsembleModel_LGB',\n",
       "  'LightGBMXT_BAG_L2': 'StackerEnsembleModel_LGB',\n",
       "  'LightGBM_BAG_L1': 'StackerEnsembleModel_LGB',\n",
       "  'LightGBM_BAG_L2': 'StackerEnsembleModel_LGB',\n",
       "  'NeuralNetFastAI_BAG_L1': 'StackerEnsembleModel_NNFastAiTabular',\n",
       "  'RandomForestMSE_BAG_L1': 'StackerEnsembleModel_RF',\n",
       "  'RandomForestMSE_BAG_L2': 'StackerEnsembleModel_RF',\n",
       "  'WeightedEnsemble_L2': 'WeightedEnsembleModel',\n",
       "  'WeightedEnsemble_L3': 'WeightedEnsembleModel'},\n",
       " 'num_bag_folds': 8}"
      ]
     },
     "execution_count": 13,
     "metadata": {},
     "output_type": "execute_result"
    }
   ],
   "source": [
    "predictor.fit_summary()"
   ]
  },
  {
   "cell_type": "code",
   "execution_count": 14,
   "metadata": {
    "colab": {
     "base_uri": "https://localhost:8080/",
     "height": 426
    },
    "id": "JfM4p9OKPYgS",
    "outputId": "001b64a4-f0d6-4917-a6cb-fb462bcb09db"
   },
   "outputs": [
    {
     "data": {
      "text/plain": [
       "<matplotlib.axes._subplots.AxesSubplot at 0x7ff4a46f8c10>"
      ]
     },
     "execution_count": 14,
     "metadata": {},
     "output_type": "execute_result"
    },
    {
     "data": {
      "image/png": "[encoded data removed]",
      "text/plain": [
       "<Figure size 432x288 with 1 Axes>"
      ]
     },
     "metadata": {
      "needs_background": "light"
     },
     "output_type": "display_data"
    }
   ],
   "source": [
    "predictor.leaderboard(silent = True).plot(kind = 'bar' , x = 'model' , y='score_val')"
   ]
  },
  {
   "cell_type": "code",
   "execution_count": 15,
   "metadata": {
    "colab": {
     "base_uri": "https://localhost:8080/"
    },
    "id": "gRt42bv-QPi0",
    "outputId": "1dc5f648-575b-4104-c6c5-2cd91732f23e"
   },
   "outputs": [
    {
     "name": "stderr",
     "output_type": "stream",
     "text": [
      "Evaluation: root_mean_squared_error on test data: -78.2161472472708\n",
      "\tNote: Scores are always higher_is_better. This metric score can be multiplied by -1 to get the metric value.\n",
      "Evaluations on test data:\n",
      "{\n",
      "    \"root_mean_squared_error\": -78.2161472472708,\n",
      "    \"mean_squared_error\": -6117.765690206747,\n",
      "    \"mean_absolute_error\": -52.945629420474816,\n",
      "    \"r2\": 0.8135412995956132,\n",
      "    \"pearsonr\": 0.93823607610101,\n",
      "    \"median_absolute_error\": -30.58735179901123\n",
      "}\n"
     ]
    },
    {
     "data": {
      "text/plain": [
       "{'mean_absolute_error': -52.945629420474816,\n",
       " 'mean_squared_error': -6117.765690206747,\n",
       " 'median_absolute_error': -30.58735179901123,\n",
       " 'pearsonr': 0.93823607610101,\n",
       " 'r2': 0.8135412995956132,\n",
       " 'root_mean_squared_error': -78.2161472472708}"
      ]
     },
     "execution_count": 15,
     "metadata": {},
     "output_type": "execute_result"
    }
   ],
   "source": [
    "predictor.evaluate(train)##we can't evaluate the test as it has no label"
   ]
  },
  {
   "cell_type": "markdown",
   "metadata": {
    "id": "3x8LzbobH0cM"
   },
   "source": [
    "### Create predictions from test dataset"
   ]
  },
  {
   "cell_type": "code",
   "execution_count": 16,
   "metadata": {
    "colab": {
     "base_uri": "https://localhost:8080/"
    },
    "id": "SbKqwPCSH0cM",
    "outputId": "aa5a01ca-5a55-43d1-df68-b12a7ac40e2c"
   },
   "outputs": [
    {
     "data": {
      "text/plain": [
       "0    22.973967\n",
       "1    41.773163\n",
       "2    45.084259\n",
       "3    49.082241\n",
       "4    51.556355\n",
       "Name: count, dtype: float32"
      ]
     },
     "execution_count": 16,
     "metadata": {},
     "output_type": "execute_result"
    }
   ],
   "source": [
    "predictions = predictor.predict(test)\n",
    "predictions.head()"
   ]
  },
  {
   "cell_type": "markdown",
   "metadata": {
    "id": "2di5rX5CH0cM"
   },
   "source": [
    "#### NOTE: Kaggle will reject the submission if we don't set everything to be > 0."
   ]
  },
  {
   "cell_type": "code",
   "execution_count": 17,
   "metadata": {
    "colab": {
     "base_uri": "https://localhost:8080/"
    },
    "id": "pkTQHPeqH0cN",
    "outputId": "8f902f1d-e8ea-43fb-be73-b4d2b559c830"
   },
   "outputs": [
    {
     "data": {
      "text/plain": [
       "count    6493.000000\n",
       "mean      100.863594\n",
       "std        89.834900\n",
       "min         3.088497\n",
       "25%        20.290171\n",
       "50%        64.240601\n",
       "75%       167.020386\n",
       "max       363.965057\n",
       "Name: count, dtype: float64"
      ]
     },
     "execution_count": 17,
     "metadata": {},
     "output_type": "execute_result"
    }
   ],
   "source": [
    "# Describe the `predictions` series to see if there are any negative values\n",
    "predictions.describe()"
   ]
  },
  {
   "cell_type": "code",
   "execution_count": 18,
   "metadata": {
    "colab": {
     "base_uri": "https://localhost:8080/"
    },
    "id": "bE-dtTZeH0cN",
    "outputId": "bbbe10b5-0ba0-4e33-83c4-c4cfb9b72c00"
   },
   "outputs": [
    {
     "data": {
      "text/plain": [
       "0"
      ]
     },
     "execution_count": 18,
     "metadata": {},
     "output_type": "execute_result"
    }
   ],
   "source": [
    "# How many negative values do we have?\n",
    "(predictions < 0 ).sum()"
   ]
  },
  {
   "cell_type": "code",
   "execution_count": 19,
   "metadata": {
    "id": "H5h_Lsu1H0cN"
   },
   "outputs": [],
   "source": [
    "# Set them to zero\n",
    "predictions[predictions<0] = 0"
   ]
  },
  {
   "cell_type": "markdown",
   "metadata": {
    "id": "k7DsXgVcH0cN"
   },
   "source": [
    "### Set predictions to submission dataframe, save, and submit"
   ]
  },
  {
   "cell_type": "code",
   "execution_count": 20,
   "metadata": {
    "id": "tXet7boAH0cN"
   },
   "outputs": [],
   "source": [
    "submission[\"count\"] = predictions\n",
    "submission.to_csv(\"submission.csv\", index=False)"
   ]
  },
  {
   "cell_type": "code",
   "execution_count": 21,
   "metadata": {
    "colab": {
     "base_uri": "https://localhost:8080/"
    },
    "id": "KKCGXYk8H0cO",
    "outputId": "cb05fe07-daea-40b0-872f-4dfb142d1d53"
   },
   "outputs": [
    {
     "name": "stdout",
     "output_type": "stream",
     "text": [
      "100% 188k/188k [00:01<00:00, 98.9kB/s]\n",
      "Successfully submitted to Bike Sharing Demand"
     ]
    }
   ],
   "source": [
    "!kaggle competitions submit -c bike-sharing-demand -f submission.csv -m \"first raw submission\""
   ]
  },
  {
   "cell_type": "markdown",
   "metadata": {
    "id": "z2_BLEEBH0cP"
   },
   "source": [
    "#### View submission via the command line or in the web browser under the competition's page - `My Submissions`"
   ]
  },
  {
   "cell_type": "code",
   "execution_count": 22,
   "metadata": {
    "colab": {
     "base_uri": "https://localhost:8080/"
    },
    "id": "mip87R2WH0cQ",
    "outputId": "2844cdc6-fe71-4026-a81f-e43a784bc1f3"
   },
   "outputs": [
    {
     "name": "stdout",
     "output_type": "stream",
     "text": [
      "fileName                     date                 description                        status    publicScore  privateScore  \n",
      "---------------------------  -------------------  ---------------------------------  --------  -----------  ------------  \n",
      "submission.csv               2022-07-28 17:04:14  first raw submission               pending                              \n",
      "submission_new_hpo.csv       2022-07-28 16:47:09  new features with hyperparameters  complete  0.50155      0.50155       \n",
      "submission_new_features.csv  2022-07-28 16:21:33  new features                       complete  0.56842      0.56842       \n",
      "submission.csv               2022-07-28 16:02:29  first raw submission               complete  1.84672      1.84672       \n"
     ]
    }
   ],
   "source": [
    "!kaggle competitions submissions -c bike-sharing-demand | tail -n +1 | head -n 6"
   ]
  },
  {
   "cell_type": "markdown",
   "metadata": {
    "id": "k-K5FzULH0cQ"
   },
   "source": [
    "#### Initial score of `1.79`"
   ]
  },
  {
   "cell_type": "markdown",
   "metadata": {
    "id": "Dqg36OJFH0cR"
   },
   "source": [
    "## Step 4: Exploratory Data Analysis and Creating an additional feature\n",
    "* Any additional feature will do, but a great suggestion would be to separate out the datetime into hour, day, or month parts."
   ]
  },
  {
   "cell_type": "code",
   "execution_count": 23,
   "metadata": {
    "colab": {
     "base_uri": "https://localhost:8080/"
    },
    "id": "7lPMU5NwfOtl",
    "outputId": "b9e30342-bffa-4974-8bdb-f5f3b1157048"
   },
   "outputs": [
    {
     "name": "stdout",
     "output_type": "stream",
     "text": [
      "10886\n",
      "6493\n",
      "Index(['datetime', 'season', 'holiday', 'workingday', 'weather', 'temp',\n",
      "       'atemp', 'humidity', 'windspeed', 'casual', 'registered', 'count'],\n",
      "      dtype='object')\n",
      "Index(['datetime', 'season', 'holiday', 'workingday', 'weather', 'temp',\n",
      "       'atemp', 'humidity', 'windspeed'],\n",
      "      dtype='object')\n",
      "['casual', 'registered', 'count']\n"
     ]
    }
   ],
   "source": [
    "print(train.count()[0])\n",
    "print(test.count()[0])\n",
    "print(train.columns)\n",
    "print(test.columns)\n",
    "print([column for column in train.columns if column not in test.columns]) ##no casual or registered in test"
   ]
  },
  {
   "cell_type": "code",
   "execution_count": 24,
   "metadata": {
    "colab": {
     "base_uri": "https://localhost:8080/",
     "height": 496
    },
    "id": "Kj5lWSaaH0cR",
    "outputId": "8f6edd34-b34d-4ef0-b704-e955fda855ae"
   },
   "outputs": [
    {
     "data": {
      "image/png": "[encoded data removed]",
      "text/plain": [
       "<Figure size 1440x720 with 12 Axes>"
      ]
     },
     "metadata": {
      "needs_background": "light"
     },
     "output_type": "display_data"
    }
   ],
   "source": [
    "# Create a histogram of all features to show the distribution of each one relative to the data. This is part of the exploritory data analysis\n",
    "import matplotlib.pyplot as plt\n",
    "train.hist(figsize=(20,10))\n",
    "plt.show()"
   ]
  },
  {
   "cell_type": "code",
   "execution_count": 25,
   "metadata": {
    "colab": {
     "base_uri": "https://localhost:8080/"
    },
    "id": "OI2vvAD0jLxL",
    "outputId": "8e3c6eb6-4752-4f6f-8f41-ac6aee3c8f0a"
   },
   "outputs": [
    {
     "data": {
      "text/plain": [
       "datetime       object\n",
       "season          int64\n",
       "holiday         int64\n",
       "workingday      int64\n",
       "weather         int64\n",
       "temp          float64\n",
       "atemp         float64\n",
       "humidity        int64\n",
       "windspeed     float64\n",
       "casual          int64\n",
       "registered      int64\n",
       "count           int64\n",
       "dtype: object"
      ]
     },
     "execution_count": 25,
     "metadata": {},
     "output_type": "execute_result"
    }
   ],
   "source": [
    "train.dtypes"
   ]
  },
  {
   "cell_type": "code",
   "execution_count": 26,
   "metadata": {
    "colab": {
     "base_uri": "https://localhost:8080/"
    },
    "id": "nj4uTOxWjeui",
    "outputId": "c49e3c60-4849-4f86-8fcc-41d2e64b2782"
   },
   "outputs": [
    {
     "data": {
      "text/plain": [
       "0        2011-01-01 00:00:00\n",
       "1        2011-01-01 01:00:00\n",
       "2        2011-01-01 02:00:00\n",
       "3        2011-01-01 03:00:00\n",
       "4        2011-01-01 04:00:00\n",
       "                ...         \n",
       "10881    2012-12-19 19:00:00\n",
       "10882    2012-12-19 20:00:00\n",
       "10883    2012-12-19 21:00:00\n",
       "10884    2012-12-19 22:00:00\n",
       "10885    2012-12-19 23:00:00\n",
       "Name: datetime, Length: 10886, dtype: object"
      ]
     },
     "execution_count": 26,
     "metadata": {},
     "output_type": "execute_result"
    }
   ],
   "source": [
    "train['datetime']"
   ]
  },
  {
   "cell_type": "code",
   "execution_count": 29,
   "metadata": {
    "id": "izwhYGMhH0cR"
   },
   "outputs": [],
   "source": [
    "# create a new feature\n",
    "train['datetime'] = pd.to_datetime(train['datetime'],format='%Y-%m-%d %H:%M:%S')\n",
    "test['datetime'] = pd.to_datetime(test['datetime'],format='%Y-%m-%d %H:%M:%S')\n",
    "\n",
    "train['hour'] = train.datetime.dt.hour\n",
    "test['hour'] = test.datetime.dt.hour"
   ]
  },
  {
   "cell_type": "markdown",
   "metadata": {
    "id": "zE7uIMCsH0cR"
   },
   "source": [
    "## Make category types for these so models know they are not just numbers\n",
    "* AutoGluon originally sees these as ints, but in reality they are int representations of a category.\n",
    "* Setting the dtype to category will classify these as categories in AutoGluon."
   ]
  },
  {
   "cell_type": "code",
   "execution_count": 30,
   "metadata": {
    "id": "X0Odov23H0cS"
   },
   "outputs": [],
   "source": [
    "train[\"season\"] = train['season'].astype('category')\n",
    "train[\"weather\"] = train['weather'].astype('category')\n",
    "test[\"season\"] = test['season'].astype('category')\n",
    "test[\"weather\"] = test['weather'].astype('category')"
   ]
  },
  {
   "cell_type": "code",
   "execution_count": 31,
   "metadata": {
    "colab": {
     "base_uri": "https://localhost:8080/",
     "height": 444
    },
    "id": "297ciwL4H0cS",
    "outputId": "1aace114-594a-47c7-d7d6-75b3a93d1586"
   },
   "outputs": [
    {
     "data": {
      "text/html": [
       "\n",
       "  <div id=\"df-1f1cbba9-e2aa-4c3a-a812-f0dbfcd44e1f\">\n",
       "    <div class=\"colab-df-container\">\n",
       "      <div>\n",
       "<style scoped>\n",
       "    .dataframe tbody tr th:only-of-type {\n",
       "        vertical-align: middle;\n",
       "    }\n",
       "\n",
       "    .dataframe tbody tr th {\n",
       "        vertical-align: top;\n",
       "    }\n",
       "\n",
       "    .dataframe thead th {\n",
       "        text-align: right;\n",
       "    }\n",
       "</style>\n",
       "<table border=\"1\" class=\"dataframe\">\n",
       "  <thead>\n",
       "    <tr style=\"text-align: right;\">\n",
       "      <th></th>\n",
       "      <th>datetime</th>\n",
       "      <th>season</th>\n",
       "      <th>holiday</th>\n",
       "      <th>workingday</th>\n",
       "      <th>weather</th>\n",
       "      <th>temp</th>\n",
       "      <th>atemp</th>\n",
       "      <th>humidity</th>\n",
       "      <th>windspeed</th>\n",
       "      <th>casual</th>\n",
       "      <th>registered</th>\n",
       "      <th>count</th>\n",
       "      <th>date</th>\n",
       "      <th>hour</th>\n",
       "    </tr>\n",
       "  </thead>\n",
       "  <tbody>\n",
       "    <tr>\n",
       "      <th>0</th>\n",
       "      <td>2011-01-01 00:00:00</td>\n",
       "      <td>1</td>\n",
       "      <td>0</td>\n",
       "      <td>0</td>\n",
       "      <td>1</td>\n",
       "      <td>9.84</td>\n",
       "      <td>14.395</td>\n",
       "      <td>81</td>\n",
       "      <td>0.0</td>\n",
       "      <td>3</td>\n",
       "      <td>13</td>\n",
       "      <td>16</td>\n",
       "      <td>2011-01-01 00:00:00</td>\n",
       "      <td>0</td>\n",
       "    </tr>\n",
       "    <tr>\n",
       "      <th>1</th>\n",
       "      <td>2011-01-01 01:00:00</td>\n",
       "      <td>1</td>\n",
       "      <td>0</td>\n",
       "      <td>0</td>\n",
       "      <td>1</td>\n",
       "      <td>9.02</td>\n",
       "      <td>13.635</td>\n",
       "      <td>80</td>\n",
       "      <td>0.0</td>\n",
       "      <td>8</td>\n",
       "      <td>32</td>\n",
       "      <td>40</td>\n",
       "      <td>2011-01-01 01:00:00</td>\n",
       "      <td>1</td>\n",
       "    </tr>\n",
       "    <tr>\n",
       "      <th>2</th>\n",
       "      <td>2011-01-01 02:00:00</td>\n",
       "      <td>1</td>\n",
       "      <td>0</td>\n",
       "      <td>0</td>\n",
       "      <td>1</td>\n",
       "      <td>9.02</td>\n",
       "      <td>13.635</td>\n",
       "      <td>80</td>\n",
       "      <td>0.0</td>\n",
       "      <td>5</td>\n",
       "      <td>27</td>\n",
       "      <td>32</td>\n",
       "      <td>2011-01-01 02:00:00</td>\n",
       "      <td>2</td>\n",
       "    </tr>\n",
       "    <tr>\n",
       "      <th>3</th>\n",
       "      <td>2011-01-01 03:00:00</td>\n",
       "      <td>1</td>\n",
       "      <td>0</td>\n",
       "      <td>0</td>\n",
       "      <td>1</td>\n",
       "      <td>9.84</td>\n",
       "      <td>14.395</td>\n",
       "      <td>75</td>\n",
       "      <td>0.0</td>\n",
       "      <td>3</td>\n",
       "      <td>10</td>\n",
       "      <td>13</td>\n",
       "      <td>2011-01-01 03:00:00</td>\n",
       "      <td>3</td>\n",
       "    </tr>\n",
       "    <tr>\n",
       "      <th>4</th>\n",
       "      <td>2011-01-01 04:00:00</td>\n",
       "      <td>1</td>\n",
       "      <td>0</td>\n",
       "      <td>0</td>\n",
       "      <td>1</td>\n",
       "      <td>9.84</td>\n",
       "      <td>14.395</td>\n",
       "      <td>75</td>\n",
       "      <td>0.0</td>\n",
       "      <td>0</td>\n",
       "      <td>1</td>\n",
       "      <td>1</td>\n",
       "      <td>2011-01-01 04:00:00</td>\n",
       "      <td>4</td>\n",
       "    </tr>\n",
       "  </tbody>\n",
       "</table>\n",
       "</div>\n",
       "      <button class=\"colab-df-convert\" onclick=\"convertToInteractive('df-1f1cbba9-e2aa-4c3a-a812-f0dbfcd44e1f')\"\n",
       "              title=\"Convert this dataframe to an interactive table.\"\n",
       "              style=\"display:none;\">\n",
       "        \n",
       "  <svg xmlns=\"http://www.w3.org/2000/svg\" height=\"24px\"viewBox=\"0 0 24 24\"\n",
       "       width=\"24px\">\n",
       "    <path d=\"M0 0h24v24H0V0z\" fill=\"none\"/>\n",
       "    <path d=\"M18.56 5.44l.94 2.06.94-2.06 2.06-.94-2.06-.94-.94-2.06-.94 2.06-2.06.94zm-11 1L8.5 8.5l.94-2.06 2.06-.94-2.06-.94L8.5 2.5l-.94 2.06-2.06.94zm10 10l.94 2.06.94-2.06 2.06-.94-2.06-.94-.94-2.06-.94 2.06-2.06.94z\"/><path d=\"M17.41 7.96l-1.37-1.37c-.4-.4-.92-.59-1.43-.59-.52 0-1.04.2-1.43.59L10.3 9.45l-7.72 7.72c-.78.78-.78 2.05 0 2.83L4 21.41c.39.39.9.59 1.41.59.51 0 1.02-.2 1.41-.59l7.78-7.78 2.81-2.81c.8-.78.8-2.07 0-2.86zM5.41 20L4 18.59l7.72-7.72 1.47 1.35L5.41 20z\"/>\n",
       "  </svg>\n",
       "      </button>\n",
       "      \n",
       "  <style>\n",
       "    .colab-df-container {\n",
       "      display:flex;\n",
       "      flex-wrap:wrap;\n",
       "      gap: 12px;\n",
       "    }\n",
       "\n",
       "    .colab-df-convert {\n",
       "      background-color: #E8F0FE;\n",
       "      border: none;\n",
       "      border-radius: 50%;\n",
       "      cursor: pointer;\n",
       "      display: none;\n",
       "      fill: #1967D2;\n",
       "      height: 32px;\n",
       "      padding: 0 0 0 0;\n",
       "      width: 32px;\n",
       "    }\n",
       "\n",
       "    .colab-df-convert:hover {\n",
       "      background-color: #E2EBFA;\n",
       "      box-shadow: 0px 1px 2px rgba(60, 64, 67, 0.3), 0px 1px 3px 1px rgba(60, 64, 67, 0.15);\n",
       "      fill: #174EA6;\n",
       "    }\n",
       "\n",
       "    [theme=dark] .colab-df-convert {\n",
       "      background-color: #3B4455;\n",
       "      fill: #D2E3FC;\n",
       "    }\n",
       "\n",
       "    [theme=dark] .colab-df-convert:hover {\n",
       "      background-color: #434B5C;\n",
       "      box-shadow: 0px 1px 3px 1px rgba(0, 0, 0, 0.15);\n",
       "      filter: drop-shadow(0px 1px 2px rgba(0, 0, 0, 0.3));\n",
       "      fill: #FFFFFF;\n",
       "    }\n",
       "  </style>\n",
       "\n",
       "      <script>\n",
       "        const buttonEl =\n",
       "          document.querySelector('#df-1f1cbba9-e2aa-4c3a-a812-f0dbfcd44e1f button.colab-df-convert');\n",
       "        buttonEl.style.display =\n",
       "          google.colab.kernel.accessAllowed ? 'block' : 'none';\n",
       "\n",
       "        async function convertToInteractive(key) {\n",
       "          const element = document.querySelector('#df-1f1cbba9-e2aa-4c3a-a812-f0dbfcd44e1f');\n",
       "          const dataTable =\n",
       "            await google.colab.kernel.invokeFunction('convertToInteractive',\n",
       "                                                     [key], {});\n",
       "          if (!dataTable) return;\n",
       "\n",
       "          const docLinkHtml = 'Like what you see? Visit the ' +\n",
       "            '<a target=\"_blank\" href=https://colab.research.google.com/notebooks/data_table.ipynb>data table notebook</a>'\n",
       "            + ' to learn more about interactive tables.';\n",
       "          element.innerHTML = '';\n",
       "          dataTable['output_type'] = 'display_data';\n",
       "          await google.colab.output.renderOutput(dataTable, element);\n",
       "          const docLink = document.createElement('div');\n",
       "          docLink.innerHTML = docLinkHtml;\n",
       "          element.appendChild(docLink);\n",
       "        }\n",
       "      </script>\n",
       "    </div>\n",
       "  </div>\n",
       "  "
      ],
      "text/plain": [
       "             datetime season  holiday  workingday weather  temp   atemp  \\\n",
       "0 2011-01-01 00:00:00      1        0           0       1  9.84  14.395   \n",
       "1 2011-01-01 01:00:00      1        0           0       1  9.02  13.635   \n",
       "2 2011-01-01 02:00:00      1        0           0       1  9.02  13.635   \n",
       "3 2011-01-01 03:00:00      1        0           0       1  9.84  14.395   \n",
       "4 2011-01-01 04:00:00      1        0           0       1  9.84  14.395   \n",
       "\n",
       "   humidity  windspeed  casual  registered  count                date  hour  \n",
       "0        81        0.0       3          13     16 2011-01-01 00:00:00     0  \n",
       "1        80        0.0       8          32     40 2011-01-01 01:00:00     1  \n",
       "2        80        0.0       5          27     32 2011-01-01 02:00:00     2  \n",
       "3        75        0.0       3          10     13 2011-01-01 03:00:00     3  \n",
       "4        75        0.0       0           1      1 2011-01-01 04:00:00     4  "
      ]
     },
     "execution_count": 31,
     "metadata": {},
     "output_type": "execute_result"
    }
   ],
   "source": [
    "# View are new feature\n",
    "train.head()"
   ]
  },
  {
   "cell_type": "code",
   "execution_count": 32,
   "metadata": {
    "colab": {
     "base_uri": "https://localhost:8080/",
     "height": 721
    },
    "id": "upJ19htHH0cS",
    "outputId": "9e7cf169-31aa-494d-cc44-47316d14a03e"
   },
   "outputs": [
    {
     "data": {
      "text/plain": [
       "array([[<matplotlib.axes._subplots.AxesSubplot object at 0x7ff4a7e431d0>,\n",
       "        <matplotlib.axes._subplots.AxesSubplot object at 0x7ff4a7dd9310>,\n",
       "        <matplotlib.axes._subplots.AxesSubplot object at 0x7ff4a7e02950>],\n",
       "       [<matplotlib.axes._subplots.AxesSubplot object at 0x7ff4a7db5f50>,\n",
       "        <matplotlib.axes._subplots.AxesSubplot object at 0x7ff4a7d75590>,\n",
       "        <matplotlib.axes._subplots.AxesSubplot object at 0x7ff4a7d2bb90>],\n",
       "       [<matplotlib.axes._subplots.AxesSubplot object at 0x7ff4a7cef250>,\n",
       "        <matplotlib.axes._subplots.AxesSubplot object at 0x7ff4a7ca1910>,\n",
       "        <matplotlib.axes._subplots.AxesSubplot object at 0x7ff4a7ca1950>],\n",
       "       [<matplotlib.axes._subplots.AxesSubplot object at 0x7ff4a7c58f50>,\n",
       "        <matplotlib.axes._subplots.AxesSubplot object at 0x7ff4a7bd1890>,\n",
       "        <matplotlib.axes._subplots.AxesSubplot object at 0x7ff4a7b87d90>]],\n",
       "      dtype=object)"
      ]
     },
     "execution_count": 32,
     "metadata": {},
     "output_type": "execute_result"
    },
    {
     "data": {
      "image/png": "[encoded data removed]",
      "text/plain": [
       "<Figure size 1440x720 with 12 Axes>"
      ]
     },
     "metadata": {
      "needs_background": "light"
     },
     "output_type": "display_data"
    }
   ],
   "source": [
    "# View histogram of all features again now with the hour feature\n",
    "train.hist(figsize=(20,10))"
   ]
  },
  {
   "cell_type": "markdown",
   "metadata": {
    "id": "R2VK9lv3H0cT"
   },
   "source": [
    "## Step 5: Rerun the model with the same settings as before, just with more features"
   ]
  },
  {
   "cell_type": "code",
   "execution_count": null,
   "metadata": {
    "id": "BYxFfsLkH0cT"
   },
   "outputs": [],
   "source": [
    "predictor_new_feature = TabularPredictor(label = 'count',\n",
    "                             eval_metric = 'root_mean_squared_error').fit(train.drop(columns = ['casual' , 'registered']),\n",
    "                                                                          time_limit=600,\n",
    "                                                                          presets='best_quality')"
   ]
  },
  {
   "cell_type": "code",
   "execution_count": null,
   "metadata": {
    "id": "ZBZoMJhdH0cT"
   },
   "outputs": [],
   "source": [
    "predictor_new_feature.fit_summary()"
   ]
  },
  {
   "cell_type": "code",
   "execution_count": 45,
   "metadata": {
    "colab": {
     "base_uri": "https://localhost:8080/",
     "height": 426
    },
    "id": "HlBYd6-nocs9",
    "outputId": "affe1cc0-eed8-47e7-f4f7-b65258764eac"
   },
   "outputs": [
    {
     "data": {
      "text/plain": [
       "<matplotlib.axes._subplots.AxesSubplot at 0x7ff4a800a4d0>"
      ]
     },
     "execution_count": 45,
     "metadata": {},
     "output_type": "execute_result"
    },
    {
     "data": {
      "image/png": "[encoded data removed]",
      "text/plain": [
       "<Figure size 432x288 with 1 Axes>"
      ]
     },
     "metadata": {
      "needs_background": "light"
     },
     "output_type": "display_data"
    }
   ],
   "source": [
    "predictor_new_feature.leaderboard(silent =True ).plot(kind = 'bar' , x='model', y='score_val')"
   ]
  },
  {
   "cell_type": "code",
   "execution_count": 46,
   "metadata": {
    "colab": {
     "base_uri": "https://localhost:8080/"
    },
    "id": "EhsTCAk7H0cU",
    "outputId": "5acbe5ec-7b99-4748-9d96-f28c3bb224b9"
   },
   "outputs": [
    {
     "name": "stdout",
     "output_type": "stream",
     "text": [
      "0    16.794998\n",
      "1    10.748803\n",
      "2    10.153332\n",
      "3     8.740828\n",
      "4     7.501200\n",
      "Name: count, dtype: float32\n",
      "count    6493.000000\n",
      "mean      152.554779\n",
      "std       131.894516\n",
      "min         1.540675\n",
      "25%        53.469093\n",
      "50%       117.571190\n",
      "75%       215.890640\n",
      "max       806.304565\n",
      "Name: count, dtype: float64\n",
      "..............................................\n",
      "count    6493.000000\n",
      "mean      152.554779\n",
      "std       131.894516\n",
      "min         1.540675\n",
      "25%        53.469093\n",
      "50%       117.571190\n",
      "75%       215.890640\n",
      "max       806.304565\n",
      "Name: count, dtype: float64\n"
     ]
    }
   ],
   "source": [
    "# Remember to set all negative values to zero\n",
    "predictions = predictor_new_feature.predict(test)\n",
    "print(predictions.head())\n",
    "print(predictions.describe())\n",
    "predictions[predictions<0]=0\n",
    "print('..............................................')\n",
    "print(predictions.describe())"
   ]
  },
  {
   "cell_type": "code",
   "execution_count": 47,
   "metadata": {
    "id": "VZRgHKKsH0cU"
   },
   "outputs": [],
   "source": [
    "# Same submitting predictions\n",
    "submission_new_features = submission.copy()\n",
    "submission_new_features[\"count\"] = predictions\n",
    "submission_new_features.to_csv(\"submission_new_features.csv\", index=False)"
   ]
  },
  {
   "cell_type": "code",
   "execution_count": 48,
   "metadata": {
    "colab": {
     "base_uri": "https://localhost:8080/"
    },
    "id": "BpK1-xMXH0cV",
    "outputId": "a4f8af69-d6ab-43e6-914c-7bf7fe95d6cb"
   },
   "outputs": [
    {
     "name": "stdout",
     "output_type": "stream",
     "text": [
      "100% 188k/188k [00:02<00:00, 90.3kB/s]\n",
      "Successfully submitted to Bike Sharing Demand"
     ]
    }
   ],
   "source": [
    "!kaggle competitions submit -c bike-sharing-demand -f submission_new_features.csv -m \"new features2\""
   ]
  },
  {
   "cell_type": "code",
   "execution_count": 49,
   "metadata": {
    "colab": {
     "base_uri": "https://localhost:8080/"
    },
    "id": "rDwL6wp9H0cV",
    "outputId": "8ffe58ea-ad5b-462b-de94-4f113f5fe5b0"
   },
   "outputs": [
    {
     "name": "stdout",
     "output_type": "stream",
     "text": [
      "fileName                     date                 description                        status    publicScore  privateScore  \n",
      "---------------------------  -------------------  ---------------------------------  --------  -----------  ------------  \n",
      "submission_new_features.csv  2022-07-28 17:33:41  new features2                      complete  0.67838      0.67838       \n",
      "submission.csv               2022-07-28 17:04:14  first raw submission               complete  1.79023      1.79023       \n",
      "submission_new_hpo.csv       2022-07-28 16:47:09  new features with hyperparameters  complete  0.50155      0.50155       \n",
      "submission_new_features.csv  2022-07-28 16:21:33  new features                       complete  0.56842      0.56842       \n"
     ]
    }
   ],
   "source": [
    "!kaggle competitions submissions -c bike-sharing-demand | tail -n +1 | head -n 6"
   ]
  },
  {
   "cell_type": "markdown",
   "metadata": {
    "id": "1C3JJuzlH0cW"
   },
   "source": [
    "#### New Score of `0.568`"
   ]
  },
  {
   "cell_type": "markdown",
   "metadata": {
    "id": "HuiSggcsH0cX"
   },
   "source": [
    "## Step 6: Hyper parameter optimization\n",
    "* There are many options for hyper parameter optimization.\n",
    "* Options are to change the AutoGluon higher level parameters or the individual model hyperparameters.\n",
    "* The hyperparameters of the models themselves that are in AutoGluon. Those need the `hyperparameter` and `hyperparameter_tune_kwargs` arguments."
   ]
  },
  {
   "cell_type": "code",
   "execution_count": 71,
   "metadata": {
    "colab": {
     "base_uri": "https://localhost:8080/"
    },
    "id": "wZMqr-_QH0cX",
    "outputId": "c9e41a05-6e41-498e-c5b5-cb9539dfd9f0"
   },
   "outputs": [
    {
     "name": "stderr",
     "output_type": "stream",
     "text": [
      "No path specified. Models will be saved in: \"AutogluonModels/ag-20220728_183034/\"\n",
      "Presets specified: ['best_quality']\n",
      "Warning: hyperparameter tuning is currently experimental and may cause the process to hang.\n",
      "Stack configuration (auto_stack=True): num_stack_levels=1, num_bag_folds=8, num_bag_sets=20\n",
      "Beginning AutoGluon training ... Time limit = 600s\n",
      "AutoGluon will save models to \"AutogluonModels/ag-20220728_183034/\"\n",
      "AutoGluon Version:  0.5.1\n",
      "Python Version:     3.7.13\n",
      "Operating System:   Linux\n",
      "Train Data Rows:    10886\n",
      "Train Data Columns: 10\n",
      "Label Column: count\n",
      "Preprocessing data ...\n",
      "AutoGluon infers your prediction problem is: 'regression' (because dtype of label-column == int and many unique label-values observed).\n",
      "\tLabel info (max, min, mean, stddev): (977, 1, 191.57413, 181.14445)\n",
      "\tIf 'regression' is not the correct problem_type, please manually specify the problem_type parameter during predictor init (You may specify problem_type as one of: ['binary', 'multiclass', 'regression'])\n",
      "Using Feature Generators to preprocess the data ...\n",
      "Fitting AutoMLPipelineFeatureGenerator...\n",
      "\tAvailable Memory:                    10959.69 MB\n",
      "\tTrain Data (Original)  Memory Usage: 0.72 MB (0.0% of available memory)\n",
      "\tInferring data type of each feature based on column values. Set feature_metadata_in to manually specify special dtypes of the features.\n",
      "\tStage 1 Generators:\n",
      "\t\tFitting AsTypeFeatureGenerator...\n",
      "\t\t\tNote: Converting 2 features to boolean dtype as they only contain 2 unique values.\n",
      "\tStage 2 Generators:\n",
      "\t\tFitting FillNaFeatureGenerator...\n",
      "\tStage 3 Generators:\n",
      "\t\tFitting IdentityFeatureGenerator...\n",
      "\t\tFitting CategoryFeatureGenerator...\n",
      "\t\t\tFitting CategoryMemoryMinimizeFeatureGenerator...\n",
      "\t\tFitting DatetimeFeatureGenerator...\n",
      "\tStage 4 Generators:\n",
      "\t\tFitting DropUniqueFeatureGenerator...\n",
      "\tTypes of features in original data (raw dtype, special dtypes):\n",
      "\t\t('category', []) : 2 | ['season', 'weather']\n",
      "\t\t('datetime', []) : 1 | ['datetime']\n",
      "\t\t('float', [])    : 3 | ['temp', 'atemp', 'windspeed']\n",
      "\t\t('int', [])      : 4 | ['holiday', 'workingday', 'humidity', 'hour']\n",
      "\tTypes of features in processed data (raw dtype, special dtypes):\n",
      "\t\t('category', [])             : 2 | ['season', 'weather']\n",
      "\t\t('float', [])                : 3 | ['temp', 'atemp', 'windspeed']\n",
      "\t\t('int', [])                  : 2 | ['humidity', 'hour']\n",
      "\t\t('int', ['bool'])            : 2 | ['holiday', 'workingday']\n",
      "\t\t('int', ['datetime_as_int']) : 5 | ['datetime', 'datetime.year', 'datetime.month', 'datetime.day', 'datetime.dayofweek']\n",
      "\t0.4s = Fit runtime\n",
      "\t10 features in original data used to generate 14 features in processed data.\n",
      "\tTrain Data (Processed) Memory Usage: 0.92 MB (0.0% of available memory)\n",
      "Data preprocessing and feature engineering runtime = 0.5s ...\n",
      "AutoGluon will gauge predictive performance using evaluation metric: 'root_mean_squared_error'\n",
      "\tThis metric's sign has been flipped to adhere to being higher_is_better. The metric score can be multiplied by -1 to get the metric value.\n",
      "\tTo change this, specify the eval_metric parameter of Predictor()\n",
      "AutoGluon will fit 2 stack levels (L1 to L2) ...\n",
      "Fitting 11 L1 models ...\n",
      "Hyperparameter tuning model: KNeighborsUnif_BAG_L1 ... Tuning model for up to 4.09s of the 599.48s of remaining time.\n",
      "\tNo hyperparameter search space specified for KNeighborsUnif. Skipping HPO. Will train one model based on the provided hyperparameters.\n",
      "Warning: Exception caused KNeighborsUnif_BAG_L1 to fail during hyperparameter tuning... Skipping this model.\n",
      "Traceback (most recent call last):\n",
      "  File \"/usr/local/lib/python3.7/dist-packages/autogluon/core/trainer/abstract_trainer.py\", line 1385, in _train_single_full\n",
      "    **model_fit_kwargs\n",
      "  File \"/usr/local/lib/python3.7/dist-packages/autogluon/core/models/abstract/abstract_model.py\", line 1001, in hyperparameter_tune\n",
      "    return self._hyperparameter_tune(hpo_executor=hpo_executor, **kwargs)\n",
      "  File \"/usr/local/lib/python3.7/dist-packages/autogluon/core/models/ensemble/stacker_ensemble_model.py\", line 182, in _hyperparameter_tune\n",
      "    return super()._hyperparameter_tune(X=X, y=y, k_fold=k_fold, hpo_executor=hpo_executor, preprocess_kwargs=preprocess_kwargs, **kwargs)\n",
      "  File \"/usr/local/lib/python3.7/dist-packages/autogluon/core/models/ensemble/bagged_ensemble_model.py\", line 1080, in _hyperparameter_tune\n",
      "    model_path = model_info['path']\n",
      "TypeError: string indices must be integers\n",
      "string indices must be integers\n",
      "Hyperparameter tuning model: KNeighborsDist_BAG_L1 ... Tuning model for up to 4.09s of the 599.22s of remaining time.\n",
      "\tNo hyperparameter search space specified for KNeighborsDist. Skipping HPO. Will train one model based on the provided hyperparameters.\n",
      "Warning: Exception caused KNeighborsDist_BAG_L1 to fail during hyperparameter tuning... Skipping this model.\n",
      "Traceback (most recent call last):\n",
      "  File \"/usr/local/lib/python3.7/dist-packages/autogluon/core/trainer/abstract_trainer.py\", line 1385, in _train_single_full\n",
      "    **model_fit_kwargs\n",
      "  File \"/usr/local/lib/python3.7/dist-packages/autogluon/core/models/abstract/abstract_model.py\", line 1001, in hyperparameter_tune\n",
      "    return self._hyperparameter_tune(hpo_executor=hpo_executor, **kwargs)\n",
      "  File \"/usr/local/lib/python3.7/dist-packages/autogluon/core/models/ensemble/stacker_ensemble_model.py\", line 182, in _hyperparameter_tune\n",
      "    return super()._hyperparameter_tune(X=X, y=y, k_fold=k_fold, hpo_executor=hpo_executor, preprocess_kwargs=preprocess_kwargs, **kwargs)\n",
      "  File \"/usr/local/lib/python3.7/dist-packages/autogluon/core/models/ensemble/bagged_ensemble_model.py\", line 1080, in _hyperparameter_tune\n",
      "    model_path = model_info['path']\n",
      "TypeError: string indices must be integers\n",
      "string indices must be integers\n",
      "Hyperparameter tuning model: LightGBMXT_BAG_L1 ... Tuning model for up to 4.09s of the 598.98s of remaining time.\n"
     ]
    },
    {
     "name": "stdout",
     "output_type": "stream",
     "text": [
      "[1000]\tvalid_set's rmse: 35.7814\n"
     ]
    },
    {
     "name": "stderr",
     "output_type": "stream",
     "text": [
      "\tRan out of time, early stopping on iteration 1662. Best iteration is:\n",
      "\t[1662]\tvalid_set's rmse: 34.2333\n",
      "\tStopping HPO to satisfy time limit...\n",
      "Fitted model: LightGBMXT_BAG_L1/T1 ...\n",
      "\t-34.2333\t = Validation score   (-root_mean_squared_error)\n",
      "\t3.71s\t = Training   runtime\n",
      "\t0.25s\t = Validation runtime\n",
      "Hyperparameter tuning model: LightGBM_BAG_L1 ... Tuning model for up to 4.09s of the 593.78s of remaining time.\n"
     ]
    },
    {
     "name": "stdout",
     "output_type": "stream",
     "text": [
      "[1000]\tvalid_set's rmse: 33.1807\n",
      "[2000]\tvalid_set's rmse: 33.0157\n"
     ]
    },
    {
     "name": "stderr",
     "output_type": "stream",
     "text": [
      "\tRan out of time, early stopping on iteration 2435. Best iteration is:\n",
      "\t[2240]\tvalid_set's rmse: 32.965\n",
      "\tStopping HPO to satisfy time limit...\n",
      "Fitted model: LightGBM_BAG_L1/T1 ...\n",
      "\t-32.965\t = Validation score   (-root_mean_squared_error)\n",
      "\t3.83s\t = Training   runtime\n",
      "\t0.3s\t = Validation runtime\n",
      "Hyperparameter tuning model: RandomForestMSE_BAG_L1 ... Tuning model for up to 4.09s of the 588.11s of remaining time.\n",
      "\tNo hyperparameter search space specified for RandomForestMSE. Skipping HPO. Will train one model based on the provided hyperparameters.\n",
      "Warning: Exception caused RandomForestMSE_BAG_L1 to fail during hyperparameter tuning... Skipping this model.\n",
      "Traceback (most recent call last):\n",
      "  File \"/usr/local/lib/python3.7/dist-packages/autogluon/core/trainer/abstract_trainer.py\", line 1385, in _train_single_full\n",
      "    **model_fit_kwargs\n",
      "  File \"/usr/local/lib/python3.7/dist-packages/autogluon/core/models/abstract/abstract_model.py\", line 1001, in hyperparameter_tune\n",
      "    return self._hyperparameter_tune(hpo_executor=hpo_executor, **kwargs)\n",
      "  File \"/usr/local/lib/python3.7/dist-packages/autogluon/core/models/ensemble/stacker_ensemble_model.py\", line 182, in _hyperparameter_tune\n",
      "    return super()._hyperparameter_tune(X=X, y=y, k_fold=k_fold, hpo_executor=hpo_executor, preprocess_kwargs=preprocess_kwargs, **kwargs)\n",
      "  File \"/usr/local/lib/python3.7/dist-packages/autogluon/core/models/ensemble/bagged_ensemble_model.py\", line 1080, in _hyperparameter_tune\n",
      "    model_path = model_info['path']\n",
      "TypeError: string indices must be integers\n",
      "string indices must be integers\n",
      "Hyperparameter tuning model: CatBoost_BAG_L1 ... Tuning model for up to 4.09s of the 569.89s of remaining time.\n",
      "\tRan out of time, early stopping on iteration 369.\n",
      "\tStopping HPO to satisfy time limit...\n",
      "Fitted model: CatBoost_BAG_L1/T1 ...\n",
      "\t-39.6838\t = Validation score   (-root_mean_squared_error)\n",
      "\t3.25s\t = Training   runtime\n",
      "\t0.01s\t = Validation runtime\n",
      "Hyperparameter tuning model: ExtraTreesMSE_BAG_L1 ... Tuning model for up to 4.09s of the 566.49s of remaining time.\n",
      "\tNo hyperparameter search space specified for ExtraTreesMSE. Skipping HPO. Will train one model based on the provided hyperparameters.\n",
      "Warning: Exception caused ExtraTreesMSE_BAG_L1 to fail during hyperparameter tuning... Skipping this model.\n",
      "Traceback (most recent call last):\n",
      "  File \"/usr/local/lib/python3.7/dist-packages/autogluon/core/trainer/abstract_trainer.py\", line 1385, in _train_single_full\n",
      "    **model_fit_kwargs\n",
      "  File \"/usr/local/lib/python3.7/dist-packages/autogluon/core/models/abstract/abstract_model.py\", line 1001, in hyperparameter_tune\n",
      "    return self._hyperparameter_tune(hpo_executor=hpo_executor, **kwargs)\n",
      "  File \"/usr/local/lib/python3.7/dist-packages/autogluon/core/models/ensemble/stacker_ensemble_model.py\", line 182, in _hyperparameter_tune\n",
      "    return super()._hyperparameter_tune(X=X, y=y, k_fold=k_fold, hpo_executor=hpo_executor, preprocess_kwargs=preprocess_kwargs, **kwargs)\n",
      "  File \"/usr/local/lib/python3.7/dist-packages/autogluon/core/models/ensemble/bagged_ensemble_model.py\", line 1080, in _hyperparameter_tune\n",
      "    model_path = model_info['path']\n",
      "TypeError: string indices must be integers\n",
      "string indices must be integers\n",
      "Hyperparameter tuning model: NeuralNetFastAI_BAG_L1 ... Tuning model for up to 4.09s of the 558.0s of remaining time.\n",
      "NaN or Inf found in input tensor.\n",
      "2022-07-28 18:31:23,635\tINFO stopper.py:364 -- Reached timeout of 3.2691133416603915 seconds. Stopping all trials.\n",
      "Hyperparameter tuning model: XGBoost_BAG_L1 ... Tuning model for up to 4.09s of the 550.83s of remaining time.\n",
      "\tStopping HPO to satisfy time limit...\n",
      "Fitted model: XGBoost_BAG_L1/T1 ...\n",
      "\t-33.6053\t = Validation score   (-root_mean_squared_error)\n",
      "\t3.69s\t = Training   runtime\n",
      "\t0.06s\t = Validation runtime\n",
      "Hyperparameter tuning model: NeuralNetTorch_BAG_L1 ... Tuning model for up to 4.09s of the 546.86s of remaining time.\n",
      "2022-07-28 18:31:37,570\tINFO stopper.py:364 -- Reached timeout of 3.2691133416603915 seconds. Stopping all trials.\n",
      "Fitting model: LightGBMLarge_BAG_L1 ... Training model for up to 4.09s of the 536.89s of remaining time.\n",
      "\tFitting 1 child models (S1F1 - S1F1) | Fitting with ParallelLocalFoldFittingStrategy\n",
      "\t-33.377\t = Validation score   (-root_mean_squared_error)\n",
      "\t4.66s\t = Training   runtime\n",
      "\t0.17s\t = Validation runtime\n",
      "Fitting model: LightGBMXT_BAG_L1/T1 ... Training model for up to 328.88s of the 528.8s of remaining time.\n",
      "\tFitting 7 child models (S1F2 - S1F8) | Fitting with ParallelLocalFoldFittingStrategy\n",
      "\t-34.5623\t = Validation score   (-root_mean_squared_error)\n",
      "\t93.64s\t = Training   runtime\n",
      "\t20.48s\t = Validation runtime\n",
      "Fitting model: LightGBM_BAG_L1/T1 ... Training model for up to 233.32s of the 433.25s of remaining time.\n",
      "\tFitting 7 child models (S1F2 - S1F8) | Fitting with ParallelLocalFoldFittingStrategy\n",
      "\t-33.9196\t = Validation score   (-root_mean_squared_error)\n",
      "\t40.06s\t = Training   runtime\n",
      "\t3.04s\t = Validation runtime\n",
      "Fitting model: CatBoost_BAG_L1/T1 ... Training model for up to 192.68s of the 392.6s of remaining time.\n",
      "\tFitting 7 child models (S1F2 - S1F8) | Fitting with ParallelLocalFoldFittingStrategy\n",
      "\t-35.4075\t = Validation score   (-root_mean_squared_error)\n",
      "\t167.66s\t = Training   runtime\n",
      "\t0.16s\t = Validation runtime\n",
      "Fitting model: XGBoost_BAG_L1/T1 ... Training model for up to 24.79s of the 224.71s of remaining time.\n",
      "\tFitting 7 child models (S1F2 - S1F8) | Fitting with ParallelLocalFoldFittingStrategy\n",
      "\t-34.6666\t = Validation score   (-root_mean_squared_error)\n",
      "\t33.56s\t = Training   runtime\n",
      "\t0.56s\t = Validation runtime\n",
      "Completed 1/20 k-fold bagging repeats ...\n",
      "Fitting model: WeightedEnsemble_L2 ... Training model for up to 360.0s of the 191.48s of remaining time.\n",
      "\t-32.4658\t = Validation score   (-root_mean_squared_error)\n",
      "\t0.29s\t = Training   runtime\n",
      "\t0.0s\t = Validation runtime\n",
      "Fitting 9 L2 models ...\n",
      "Hyperparameter tuning model: LightGBMXT_BAG_L2 ... Tuning model for up to 2.39s of the 191.15s of remaining time.\n",
      "\tStopping HPO to satisfy time limit...\n",
      "Fitted model: LightGBMXT_BAG_L2/T1 ...\n",
      "\t-37.5457\t = Validation score   (-root_mean_squared_error)\n",
      "\t1.82s\t = Training   runtime\n",
      "\t0.03s\t = Validation runtime\n",
      "Hyperparameter tuning model: LightGBM_BAG_L2 ... Tuning model for up to 2.39s of the 189.1s of remaining time.\n",
      "\tStopping HPO to satisfy time limit...\n",
      "Fitted model: LightGBM_BAG_L2/T1 ...\n",
      "\t-36.3097\t = Validation score   (-root_mean_squared_error)\n",
      "\t1.36s\t = Training   runtime\n",
      "\t0.01s\t = Validation runtime\n",
      "Hyperparameter tuning model: RandomForestMSE_BAG_L2 ... Tuning model for up to 2.39s of the 187.57s of remaining time.\n",
      "\tNo hyperparameter search space specified for RandomForestMSE. Skipping HPO. Will train one model based on the provided hyperparameters.\n",
      "Warning: Exception caused RandomForestMSE_BAG_L2 to fail during hyperparameter tuning... Skipping this model.\n",
      "Traceback (most recent call last):\n",
      "  File \"/usr/local/lib/python3.7/dist-packages/autogluon/core/trainer/abstract_trainer.py\", line 1385, in _train_single_full\n",
      "    **model_fit_kwargs\n",
      "  File \"/usr/local/lib/python3.7/dist-packages/autogluon/core/models/abstract/abstract_model.py\", line 1001, in hyperparameter_tune\n",
      "    return self._hyperparameter_tune(hpo_executor=hpo_executor, **kwargs)\n",
      "  File \"/usr/local/lib/python3.7/dist-packages/autogluon/core/models/ensemble/stacker_ensemble_model.py\", line 182, in _hyperparameter_tune\n",
      "    return super()._hyperparameter_tune(X=X, y=y, k_fold=k_fold, hpo_executor=hpo_executor, preprocess_kwargs=preprocess_kwargs, **kwargs)\n",
      "  File \"/usr/local/lib/python3.7/dist-packages/autogluon/core/models/ensemble/bagged_ensemble_model.py\", line 1080, in _hyperparameter_tune\n",
      "    model_path = model_info['path']\n",
      "TypeError: string indices must be integers\n",
      "string indices must be integers\n",
      "Hyperparameter tuning model: CatBoost_BAG_L2 ... Tuning model for up to 2.39s of the 159.25s of remaining time.\n",
      "\tRan out of time, early stopping on iteration 179.\n",
      "\tStopping HPO to satisfy time limit...\n",
      "Fitted model: CatBoost_BAG_L2/T1 ...\n",
      "\t-36.4385\t = Validation score   (-root_mean_squared_error)\n",
      "\t1.9s\t = Training   runtime\n",
      "\t0.01s\t = Validation runtime\n",
      "Hyperparameter tuning model: ExtraTreesMSE_BAG_L2 ... Tuning model for up to 2.39s of the 157.24s of remaining time.\n",
      "\tNo hyperparameter search space specified for ExtraTreesMSE. Skipping HPO. Will train one model based on the provided hyperparameters.\n",
      "Warning: Exception caused ExtraTreesMSE_BAG_L2 to fail during hyperparameter tuning... Skipping this model.\n",
      "Traceback (most recent call last):\n",
      "  File \"/usr/local/lib/python3.7/dist-packages/autogluon/core/trainer/abstract_trainer.py\", line 1385, in _train_single_full\n",
      "    **model_fit_kwargs\n",
      "  File \"/usr/local/lib/python3.7/dist-packages/autogluon/core/models/abstract/abstract_model.py\", line 1001, in hyperparameter_tune\n",
      "    return self._hyperparameter_tune(hpo_executor=hpo_executor, **kwargs)\n",
      "  File \"/usr/local/lib/python3.7/dist-packages/autogluon/core/models/ensemble/stacker_ensemble_model.py\", line 182, in _hyperparameter_tune\n",
      "    return super()._hyperparameter_tune(X=X, y=y, k_fold=k_fold, hpo_executor=hpo_executor, preprocess_kwargs=preprocess_kwargs, **kwargs)\n",
      "  File \"/usr/local/lib/python3.7/dist-packages/autogluon/core/models/ensemble/bagged_ensemble_model.py\", line 1080, in _hyperparameter_tune\n",
      "    model_path = model_info['path']\n",
      "TypeError: string indices must be integers\n",
      "string indices must be integers\n",
      "Hyperparameter tuning model: NeuralNetFastAI_BAG_L2 ... Tuning model for up to 2.39s of the 146.49s of remaining time.\n",
      "NaN or Inf found in input tensor.\n",
      "2022-07-28 18:38:14,954\tINFO stopper.py:364 -- Reached timeout of 1.9116392874717711 seconds. Stopping all trials.\n",
      "Hyperparameter tuning model: XGBoost_BAG_L2 ... Tuning model for up to 2.39s of the 139.48s of remaining time.\n",
      "\tStopping HPO to satisfy time limit...\n",
      "Fitted model: XGBoost_BAG_L2/T1 ...\n",
      "\t-36.6809\t = Validation score   (-root_mean_squared_error)\n",
      "\t1.94s\t = Training   runtime\n",
      "\t0.02s\t = Validation runtime\n",
      "Hyperparameter tuning model: NeuralNetTorch_BAG_L2 ... Tuning model for up to 2.39s of the 137.4s of remaining time.\n",
      "NaN or Inf found in input tensor.\n",
      "2022-07-28 18:38:23,800\tINFO stopper.py:364 -- Reached timeout of 1.9116392874717711 seconds. Stopping all trials.\n",
      "Fitting model: LightGBMLarge_BAG_L2 ... Training model for up to 2.39s of the 130.66s of remaining time.\n",
      "\tFitting 1 child models (S1F1 - S1F1) | Fitting with ParallelLocalFoldFittingStrategy\n",
      "\t-36.535\t = Validation score   (-root_mean_squared_error)\n",
      "\t2.64s\t = Training   runtime\n",
      "\t0.02s\t = Validation runtime\n",
      "Fitting model: LightGBMXT_BAG_L2/T1 ... Training model for up to 125.22s of the 125.2s of remaining time.\n",
      "\tFitting 7 child models (S1F2 - S1F8) | Fitting with ParallelLocalFoldFittingStrategy\n",
      "\t-33.5467\t = Validation score   (-root_mean_squared_error)\n",
      "\t21.19s\t = Training   runtime\n",
      "\t0.27s\t = Validation runtime\n",
      "Fitting model: LightGBM_BAG_L2/T1 ... Training model for up to 102.55s of the 102.53s of remaining time.\n",
      "\tFitting 7 child models (S1F2 - S1F8) | Fitting with ParallelLocalFoldFittingStrategy\n",
      "\t-32.7334\t = Validation score   (-root_mean_squared_error)\n",
      "\t20.53s\t = Training   runtime\n",
      "\t0.13s\t = Validation runtime\n",
      "Fitting model: CatBoost_BAG_L2/T1 ... Training model for up to 79.85s of the 79.83s of remaining time.\n",
      "\tFitting 7 child models (S1F2 - S1F8) | Fitting with ParallelLocalFoldFittingStrategy\n",
      "\t-32.7415\t = Validation score   (-root_mean_squared_error)\n",
      "\t47.18s\t = Training   runtime\n",
      "\t0.1s\t = Validation runtime\n",
      "Fitting model: XGBoost_BAG_L2/T1 ... Training model for up to 31.05s of the 31.03s of remaining time.\n",
      "\tFitting 7 child models (S1F2 - S1F8) | Fitting with ParallelLocalFoldFittingStrategy\n",
      "\t-33.2159\t = Validation score   (-root_mean_squared_error)\n",
      "\t23.38s\t = Training   runtime\n",
      "\t0.21s\t = Validation runtime\n",
      "Fitting model: LightGBMLarge_BAG_L2 ... Training model for up to 5.98s of the 5.96s of remaining time.\n",
      "\tFitting 7 child models (S1F2 - S1F8) | Fitting with ParallelLocalFoldFittingStrategy\n",
      "\t-33.2743\t = Validation score   (-root_mean_squared_error)\n",
      "\t21.7s\t = Training   runtime\n",
      "\t0.24s\t = Validation runtime\n",
      "Completed 1/20 k-fold bagging repeats ...\n",
      "Fitting model: WeightedEnsemble_L3 ... Training model for up to 360.0s of the -16.95s of remaining time.\n",
      "\t-32.4821\t = Validation score   (-root_mean_squared_error)\n",
      "\t0.41s\t = Training   runtime\n",
      "\t0.0s\t = Validation runtime\n",
      "AutoGluon training complete, total runtime = 617.45s ... Best model: \"WeightedEnsemble_L2\"\n",
      "TabularPredictor saved. To load, use: predictor = TabularPredictor.load(\"AutogluonModels/ag-20220728_183034/\")\n"
     ]
    }
   ],
   "source": [
    "predictor_new_hpo = TabularPredictor(label = 'count' , \n",
    "                                     eval_metric = 'root_mean_squared_error',\n",
    "                                     ).fit(train.drop(columns=['registered','casual']),\n",
    "                                           time_limit = 600,\n",
    "                                           presets='best_quality',\n",
    "                                           auto_stack=True,\n",
    "                                           hyperparameter_tune_kwargs = 'random',\n",
    "                                           hyperparameters = 'default')\n",
    "\n"
   ]
  },
  {
   "cell_type": "code",
   "execution_count": 80,
   "metadata": {
    "colab": {
     "base_uri": "https://localhost:8080/"
    },
    "id": "D7_UKm1fH0cY",
    "outputId": "91949052-23e5-45d7-9ba1-3b42ac892f1a"
   },
   "outputs": [
    {
     "name": "stdout",
     "output_type": "stream",
     "text": [
      "*** Summary of fit() ***\n",
      "Estimated performance of each model:\n",
      "                   model  score_val  pred_time_val    fit_time  pred_time_val_marginal  fit_time_marginal  stack_level  can_infer  fit_order\n",
      "0    WeightedEnsemble_L2 -32.465830      24.241722  335.207217                0.001445           0.291193            2       True          6\n",
      "1    WeightedEnsemble_L3 -32.482067      24.927041  448.115592                0.001617           0.407676            3       True         12\n",
      "2     LightGBM_BAG_L2/T1 -32.733351      24.374983  355.443743                0.134705          20.527720            2       True          8\n",
      "3     CatBoost_BAG_L2/T1 -32.741522      24.342686  382.093755                0.102408          47.177731            2       True          9\n",
      "4      XGBoost_BAG_L2/T1 -33.215905      24.447901  358.299769                0.207623          23.383746            2       True         10\n",
      "5   LightGBMLarge_BAG_L2 -33.274335      24.480688  356.618719                0.240410          21.702696            2       True         11\n",
      "6   LightGBMLarge_BAG_L1 -33.376992       0.174960    4.659248                0.174960           4.659248            1       True          5\n",
      "7   LightGBMXT_BAG_L2/T1 -33.546715      24.514147  356.108511                0.273869          21.192488            2       True          7\n",
      "8     LightGBM_BAG_L1/T1 -33.919639       3.037097   40.057735                3.037097          40.057735            1       True          2\n",
      "9   LightGBMXT_BAG_L1/T1 -34.562304      20.484849   93.639762               20.484849          93.639762            1       True          1\n",
      "10     XGBoost_BAG_L1/T1 -34.666642       0.561485   33.559764                0.561485          33.559764            1       True          4\n",
      "11    CatBoost_BAG_L1/T1 -35.407467       0.156847  167.658762                0.156847         167.658762            1       True          3\n",
      "Number of models trained: 12\n",
      "Types of models trained:\n",
      "{'StackerEnsembleModel_XGBoost', 'StackerEnsembleModel_CatBoost', 'WeightedEnsembleModel', 'StackerEnsembleModel_LGB'}\n",
      "Bagging used: True  (with 8 folds)\n",
      "Multi-layer stack-ensembling used: True  (with 3 levels)\n",
      "Feature Metadata (Processed):\n",
      "(raw dtype, special dtypes):\n",
      "('category', [])             : 2 | ['season', 'weather']\n",
      "('float', [])                : 3 | ['temp', 'atemp', 'windspeed']\n",
      "('int', [])                  : 2 | ['humidity', 'hour']\n",
      "('int', ['bool'])            : 2 | ['holiday', 'workingday']\n",
      "('int', ['datetime_as_int']) : 5 | ['datetime', 'datetime.year', 'datetime.month', 'datetime.day', 'datetime.dayofweek']\n",
      "Plot summary of models saved to file: AutogluonModels/ag-20220728_183034/SummaryOfModels.html\n",
      "*** End of fit() summary ***\n"
     ]
    },
    {
     "data": {
      "text/plain": [
       "{'leaderboard':                    model  score_val  pred_time_val    fit_time  \\\n",
       " 0    WeightedEnsemble_L2 -32.465830      24.241722  335.207217   \n",
       " 1    WeightedEnsemble_L3 -32.482067      24.927041  448.115592   \n",
       " 2     LightGBM_BAG_L2/T1 -32.733351      24.374983  355.443743   \n",
       " 3     CatBoost_BAG_L2/T1 -32.741522      24.342686  382.093755   \n",
       " 4      XGBoost_BAG_L2/T1 -33.215905      24.447901  358.299769   \n",
       " 5   LightGBMLarge_BAG_L2 -33.274335      24.480688  356.618719   \n",
       " 6   LightGBMLarge_BAG_L1 -33.376992       0.174960    4.659248   \n",
       " 7   LightGBMXT_BAG_L2/T1 -33.546715      24.514147  356.108511   \n",
       " 8     LightGBM_BAG_L1/T1 -33.919639       3.037097   40.057735   \n",
       " 9   LightGBMXT_BAG_L1/T1 -34.562304      20.484849   93.639762   \n",
       " 10     XGBoost_BAG_L1/T1 -34.666642       0.561485   33.559764   \n",
       " 11    CatBoost_BAG_L1/T1 -35.407467       0.156847  167.658762   \n",
       " \n",
       "     pred_time_val_marginal  fit_time_marginal  stack_level  can_infer  \\\n",
       " 0                 0.001445           0.291193            2       True   \n",
       " 1                 0.001617           0.407676            3       True   \n",
       " 2                 0.134705          20.527720            2       True   \n",
       " 3                 0.102408          47.177731            2       True   \n",
       " 4                 0.207623          23.383746            2       True   \n",
       " 5                 0.240410          21.702696            2       True   \n",
       " 6                 0.174960           4.659248            1       True   \n",
       " 7                 0.273869          21.192488            2       True   \n",
       " 8                 3.037097          40.057735            1       True   \n",
       " 9                20.484849          93.639762            1       True   \n",
       " 10                0.561485          33.559764            1       True   \n",
       " 11                0.156847         167.658762            1       True   \n",
       " \n",
       "     fit_order  \n",
       " 0           6  \n",
       " 1          12  \n",
       " 2           8  \n",
       " 3           9  \n",
       " 4          10  \n",
       " 5          11  \n",
       " 6           5  \n",
       " 7           7  \n",
       " 8           2  \n",
       " 9           1  \n",
       " 10          4  \n",
       " 11          3  ,\n",
       " 'max_stack_level': 3,\n",
       " 'model_best': 'WeightedEnsemble_L2',\n",
       " 'model_fit_times': {'CatBoost_BAG_L1/T1': 167.65876173973083,\n",
       "  'CatBoost_BAG_L2/T1': 47.17773103713989,\n",
       "  'LightGBMLarge_BAG_L1': 4.659248113632202,\n",
       "  'LightGBMLarge_BAG_L2': 21.702695846557617,\n",
       "  'LightGBMXT_BAG_L1/T1': 93.63976240158081,\n",
       "  'LightGBMXT_BAG_L2/T1': 21.192487716674805,\n",
       "  'LightGBM_BAG_L1/T1': 40.057735204696655,\n",
       "  'LightGBM_BAG_L2/T1': 20.527719736099243,\n",
       "  'WeightedEnsemble_L2': 0.29119300842285156,\n",
       "  'WeightedEnsemble_L3': 0.40767550468444824,\n",
       "  'XGBoost_BAG_L1/T1': 33.55976414680481,\n",
       "  'XGBoost_BAG_L2/T1': 23.383745908737183},\n",
       " 'model_hyperparams': {'CatBoost_BAG_L1/T1': {'max_base_models': 25,\n",
       "   'max_base_models_per_type': 5,\n",
       "   'save_bag_folds': True,\n",
       "   'use_orig_features': True},\n",
       "  'CatBoost_BAG_L2/T1': {'max_base_models': 25,\n",
       "   'max_base_models_per_type': 5,\n",
       "   'save_bag_folds': True,\n",
       "   'use_orig_features': True},\n",
       "  'LightGBMLarge_BAG_L1': {'max_base_models': 25,\n",
       "   'max_base_models_per_type': 5,\n",
       "   'save_bag_folds': True,\n",
       "   'use_orig_features': True},\n",
       "  'LightGBMLarge_BAG_L2': {'max_base_models': 25,\n",
       "   'max_base_models_per_type': 5,\n",
       "   'save_bag_folds': True,\n",
       "   'use_orig_features': True},\n",
       "  'LightGBMXT_BAG_L1/T1': {'max_base_models': 25,\n",
       "   'max_base_models_per_type': 5,\n",
       "   'save_bag_folds': True,\n",
       "   'use_orig_features': True},\n",
       "  'LightGBMXT_BAG_L2/T1': {'max_base_models': 25,\n",
       "   'max_base_models_per_type': 5,\n",
       "   'save_bag_folds': True,\n",
       "   'use_orig_features': True},\n",
       "  'LightGBM_BAG_L1/T1': {'max_base_models': 25,\n",
       "   'max_base_models_per_type': 5,\n",
       "   'save_bag_folds': True,\n",
       "   'use_orig_features': True},\n",
       "  'LightGBM_BAG_L2/T1': {'max_base_models': 25,\n",
       "   'max_base_models_per_type': 5,\n",
       "   'save_bag_folds': True,\n",
       "   'use_orig_features': True},\n",
       "  'WeightedEnsemble_L2': {'max_base_models': 25,\n",
       "   'max_base_models_per_type': 5,\n",
       "   'save_bag_folds': True,\n",
       "   'use_orig_features': False},\n",
       "  'WeightedEnsemble_L3': {'max_base_models': 25,\n",
       "   'max_base_models_per_type': 5,\n",
       "   'save_bag_folds': True,\n",
       "   'use_orig_features': False},\n",
       "  'XGBoost_BAG_L1/T1': {'max_base_models': 25,\n",
       "   'max_base_models_per_type': 5,\n",
       "   'save_bag_folds': True,\n",
       "   'use_orig_features': True},\n",
       "  'XGBoost_BAG_L2/T1': {'max_base_models': 25,\n",
       "   'max_base_models_per_type': 5,\n",
       "   'save_bag_folds': True,\n",
       "   'use_orig_features': True}},\n",
       " 'model_paths': {'CatBoost_BAG_L1/T1': 'AutogluonModels/ag-20220728_183034/models/CatBoost_BAG_L1/T1/',\n",
       "  'CatBoost_BAG_L2/T1': 'AutogluonModels/ag-20220728_183034/models/CatBoost_BAG_L2/T1/',\n",
       "  'LightGBMLarge_BAG_L1': 'AutogluonModels/ag-20220728_183034/models/LightGBMLarge_BAG_L1/',\n",
       "  'LightGBMLarge_BAG_L2': 'AutogluonModels/ag-20220728_183034/models/LightGBMLarge_BAG_L2/',\n",
       "  'LightGBMXT_BAG_L1/T1': 'AutogluonModels/ag-20220728_183034/models/LightGBMXT_BAG_L1/T1/',\n",
       "  'LightGBMXT_BAG_L2/T1': 'AutogluonModels/ag-20220728_183034/models/LightGBMXT_BAG_L2/T1/',\n",
       "  'LightGBM_BAG_L1/T1': 'AutogluonModels/ag-20220728_183034/models/LightGBM_BAG_L1/T1/',\n",
       "  'LightGBM_BAG_L2/T1': 'AutogluonModels/ag-20220728_183034/models/LightGBM_BAG_L2/T1/',\n",
       "  'WeightedEnsemble_L2': 'AutogluonModels/ag-20220728_183034/models/WeightedEnsemble_L2/',\n",
       "  'WeightedEnsemble_L3': 'AutogluonModels/ag-20220728_183034/models/WeightedEnsemble_L3/',\n",
       "  'XGBoost_BAG_L1/T1': 'AutogluonModels/ag-20220728_183034/models/XGBoost_BAG_L1/T1/',\n",
       "  'XGBoost_BAG_L2/T1': 'AutogluonModels/ag-20220728_183034/models/XGBoost_BAG_L2/T1/'},\n",
       " 'model_performance': {'CatBoost_BAG_L1/T1': -35.40746713455099,\n",
       "  'CatBoost_BAG_L2/T1': -32.74152218044493,\n",
       "  'LightGBMLarge_BAG_L1': -33.37699176324584,\n",
       "  'LightGBMLarge_BAG_L2': -33.274334985690665,\n",
       "  'LightGBMXT_BAG_L1/T1': -34.562304303999575,\n",
       "  'LightGBMXT_BAG_L2/T1': -33.54671481537319,\n",
       "  'LightGBM_BAG_L1/T1': -33.919639163586254,\n",
       "  'LightGBM_BAG_L2/T1': -32.733351451284584,\n",
       "  'WeightedEnsemble_L2': -32.46583008086356,\n",
       "  'WeightedEnsemble_L3': -32.48206707574396,\n",
       "  'XGBoost_BAG_L1/T1': -34.66664151756599,\n",
       "  'XGBoost_BAG_L2/T1': -33.21590498323832},\n",
       " 'model_pred_times': {'CatBoost_BAG_L1/T1': 0.15684723854064941,\n",
       "  'CatBoost_BAG_L2/T1': 0.10240817070007324,\n",
       "  'LightGBMLarge_BAG_L1': 0.17496037483215332,\n",
       "  'LightGBMLarge_BAG_L2': 0.24040985107421875,\n",
       "  'LightGBMXT_BAG_L1/T1': 20.484848737716675,\n",
       "  'LightGBMXT_BAG_L2/T1': 0.27386927604675293,\n",
       "  'LightGBM_BAG_L1/T1': 3.0370969772338867,\n",
       "  'LightGBM_BAG_L2/T1': 0.1347048282623291,\n",
       "  'WeightedEnsemble_L2': 0.0014445781707763672,\n",
       "  'WeightedEnsemble_L3': 0.0016169548034667969,\n",
       "  'XGBoost_BAG_L1/T1': 0.5614848136901855,\n",
       "  'XGBoost_BAG_L2/T1': 0.20762324333190918},\n",
       " 'model_types': {'CatBoost_BAG_L1/T1': 'StackerEnsembleModel_CatBoost',\n",
       "  'CatBoost_BAG_L2/T1': 'StackerEnsembleModel_CatBoost',\n",
       "  'LightGBMLarge_BAG_L1': 'StackerEnsembleModel_LGB',\n",
       "  'LightGBMLarge_BAG_L2': 'StackerEnsembleModel_LGB',\n",
       "  'LightGBMXT_BAG_L1/T1': 'StackerEnsembleModel_LGB',\n",
       "  'LightGBMXT_BAG_L2/T1': 'StackerEnsembleModel_LGB',\n",
       "  'LightGBM_BAG_L1/T1': 'StackerEnsembleModel_LGB',\n",
       "  'LightGBM_BAG_L2/T1': 'StackerEnsembleModel_LGB',\n",
       "  'WeightedEnsemble_L2': 'WeightedEnsembleModel',\n",
       "  'WeightedEnsemble_L3': 'WeightedEnsembleModel',\n",
       "  'XGBoost_BAG_L1/T1': 'StackerEnsembleModel_XGBoost',\n",
       "  'XGBoost_BAG_L2/T1': 'StackerEnsembleModel_XGBoost'},\n",
       " 'num_bag_folds': 8}"
      ]
     },
     "execution_count": 80,
     "metadata": {},
     "output_type": "execute_result"
    }
   ],
   "source": [
    "predictor_new_hpo.fit_summary()"
   ]
  },
  {
   "cell_type": "code",
   "execution_count": 73,
   "metadata": {
    "colab": {
     "base_uri": "https://localhost:8080/",
     "height": 410
    },
    "id": "cU1CUfw6s6G_",
    "outputId": "637c185c-0692-4f23-ea09-a429ef503160"
   },
   "outputs": [
    {
     "data": {
      "text/plain": [
       "<matplotlib.axes._subplots.AxesSubplot at 0x7ff3949b9f90>"
      ]
     },
     "execution_count": 73,
     "metadata": {},
     "output_type": "execute_result"
    },
    {
     "data": {
      "image/png": "[encoded data removed]",
      "text/plain": [
       "<Figure size 432x288 with 1 Axes>"
      ]
     },
     "metadata": {
      "needs_background": "light"
     },
     "output_type": "display_data"
    }
   ],
   "source": [
    "predictor_new_hpo.leaderboard(silent =True ).plot(kind = 'bar' , x='model', y='score_val')"
   ]
  },
  {
   "cell_type": "code",
   "execution_count": 74,
   "metadata": {
    "colab": {
     "base_uri": "https://localhost:8080/"
    },
    "id": "k5IQtTMlH0cY",
    "outputId": "2ebb33ea-2fcd-42e2-a1c2-df25f504207e"
   },
   "outputs": [
    {
     "name": "stdout",
     "output_type": "stream",
     "text": [
      "0    14.661972\n",
      "1     1.772272\n",
      "2     0.015328\n",
      "3     1.478671\n",
      "4     1.551470\n",
      "Name: count, dtype: float32\n",
      "count    6493.000000\n",
      "mean      191.200714\n",
      "std       173.747360\n",
      "min       -21.307087\n",
      "25%        45.911312\n",
      "50%       150.867554\n",
      "75%       281.759857\n",
      "max       904.515015\n",
      "Name: count, dtype: float64\n",
      "..............................................\n",
      "count    6493.000000\n",
      "mean      191.279648\n",
      "std       173.658829\n",
      "min         0.000000\n",
      "25%        45.911312\n",
      "50%       150.867554\n",
      "75%       281.759857\n",
      "max       904.515015\n",
      "Name: count, dtype: float64\n"
     ]
    }
   ],
   "source": [
    "# Remember to set all negative values to zero\n",
    "predictions_new_hpo = predictor_new_hpo.predict(test)\n",
    "\n",
    "print(predictions_new_hpo.head())\n",
    "print(predictions_new_hpo.describe())\n",
    "predictions_new_hpo[predictions_new_hpo<0]=0\n",
    "print('..............................................')\n",
    "print(predictions_new_hpo.describe())"
   ]
  },
  {
   "cell_type": "code",
   "execution_count": 75,
   "metadata": {
    "id": "KXgq4NeWH0cY"
   },
   "outputs": [],
   "source": [
    "# Same submitting predictions\n",
    "submission_new_hpo = submission.copy()\n",
    "submission_new_hpo[\"count\"] = predictions_new_hpo\n",
    "submission_new_hpo.to_csv(\"submission_new_hpo.csv\", index=False)"
   ]
  },
  {
   "cell_type": "code",
   "execution_count": 76,
   "metadata": {
    "colab": {
     "base_uri": "https://localhost:8080/"
    },
    "id": "sg3ShA3ZH0cZ",
    "outputId": "8d986b77-628c-4c98-c0ae-b85dc9f1ff78"
   },
   "outputs": [
    {
     "name": "stdout",
     "output_type": "stream",
     "text": [
      "100% 187k/187k [00:01<00:00, 97.1kB/s]\n",
      "Successfully submitted to Bike Sharing Demand"
     ]
    }
   ],
   "source": [
    "!kaggle competitions submit -c bike-sharing-demand -f submission_new_hpo.csv -m \"new features with hyperparameters2_no_auto_stack\""
   ]
  },
  {
   "cell_type": "code",
   "execution_count": 77,
   "metadata": {
    "colab": {
     "base_uri": "https://localhost:8080/"
    },
    "id": "EXrsy5_nH0ca",
    "outputId": "bef50ca2-0f9a-4c93-c1f9-a5fa5b5388ca"
   },
   "outputs": [
    {
     "name": "stdout",
     "output_type": "stream",
     "text": [
      "fileName                     date                 description                                       status    publicScore  privateScore  \n",
      "---------------------------  -------------------  ------------------------------------------------  --------  -----------  ------------  \n",
      "submission_new_hpo.csv       2022-07-28 18:41:54  new features with hyperparameters2_no_auto_stack  complete  0.55738      0.55738       \n",
      "submission_new_hpo.csv       2022-07-28 18:18:46  new features with hyperparameters2_no_auto_stack  complete  0.49484      0.49484       \n",
      "submission_new_hpo.csv       2022-07-28 17:44:47  new features with hyperparameters2                complete  0.48662      0.48662       \n",
      "submission_new_features.csv  2022-07-28 17:33:41  new features2                                     complete  0.67838      0.67838       \n"
     ]
    }
   ],
   "source": [
    "!kaggle competitions submissions -c bike-sharing-demand | tail -n +1 | head -n 6"
   ]
  },
  {
   "cell_type": "markdown",
   "metadata": {
    "id": "F1oAlAajH0ca"
   },
   "source": [
    "\n",
    "# ```\n",
    "#```\n",
    "\n",
    "#### New Score of `0.48`"
   ]
  },
  {
   "cell_type": "markdown",
   "metadata": {
    "id": "czxjK8m5H0cb"
   },
   "source": [
    "## Step 7: Write a Report\n",
    "### Refer to the markdown file for the full report\n",
    "### Creating plots and table for report"
   ]
  },
  {
   "cell_type": "code",
   "execution_count": 82,
   "metadata": {
    "colab": {
     "base_uri": "https://localhost:8080/",
     "height": 389
    },
    "id": "T8mrmfG1H0cb",
    "jupyter": {
     "source_hidden": true
    },
    "outputId": "94f27698-76ba-43fa-a87f-039d1e9677d5"
   },
   "outputs": [
    {
     "data": {
      "image/png": "[encoded data removed]",
      "text/plain": [
       "<Figure size 576x432 with 1 Axes>"
      ]
     },
     "metadata": {
      "needs_background": "light"
     },
     "output_type": "display_data"
    }
   ],
   "source": [
    "# Taking the top model score from each training run and creating a line plot to show improvement\n",
    "# You can create these in the notebook and save them to PNG or use some other tool (e.g. google sheets, excel)\n",
    "fig = pd.DataFrame(\n",
    "    {\n",
    "        \"model\": [\"initial\", \"add_features\", \"hpo\"],\n",
    "        \"score\": [-53.068087, -30.166332, -35.407]\n",
    "    }\n",
    ").plot(x=\"model\", y=\"score\", figsize=(8, 6)).get_figure()\n",
    "fig.savefig('model_train_score.png')"
   ]
  },
  {
   "cell_type": "code",
   "execution_count": 59,
   "metadata": {
    "colab": {
     "base_uri": "https://localhost:8080/",
     "height": 390
    },
    "id": "lLdqhXEiH0cc",
    "outputId": "297be7d7-7a67-4744-c065-bc4ea2a0d8d5"
   },
   "outputs": [
    {
     "data": {
      "image/png": "[encoded data removed]",
      "text/plain": [
       "<Figure size 576x432 with 1 Axes>"
      ]
     },
     "metadata": {
      "needs_background": "light"
     },
     "output_type": "display_data"
    }
   ],
   "source": [
    "# Take the 3 kaggle scores and creating a line plot to show improvement\n",
    "fig = pd.DataFrame(\n",
    "    {\n",
    "        \"test_eval\": [\"initial\", \"add_features\", \"hpo\"],\n",
    "        \"score\": [1.79, 0.67, 0.48]\n",
    "    }\n",
    ").plot(x=\"test_eval\", y=\"score\", figsize=(8, 6)).get_figure()\n",
    "fig.savefig('model_test_score.png')"
   ]
  },
  {
   "cell_type": "markdown",
   "metadata": {
    "id": "dv7MG8ONH0cc"
   },
   "source": [
    "### Hyperparameter table"
   ]
  },
  {
   "cell_type": "code",
   "execution_count": 84,
   "metadata": {
    "colab": {
     "base_uri": "https://localhost:8080/",
     "height": 143
    },
    "id": "_A7As0ALH0cc",
    "outputId": "eacf45b7-38b0-4252-c653-ddb8e5e2e4bd"
   },
   "outputs": [
    {
     "data": {
      "text/html": [
       "\n",
       "  <div id=\"df-cf4775f8-4019-44f8-b2cd-57525c9e5faf\">\n",
       "    <div class=\"colab-df-container\">\n",
       "      <div>\n",
       "<style scoped>\n",
       "    .dataframe tbody tr th:only-of-type {\n",
       "        vertical-align: middle;\n",
       "    }\n",
       "\n",
       "    .dataframe tbody tr th {\n",
       "        vertical-align: top;\n",
       "    }\n",
       "\n",
       "    .dataframe thead th {\n",
       "        text-align: right;\n",
       "    }\n",
       "</style>\n",
       "<table border=\"1\" class=\"dataframe\">\n",
       "  <thead>\n",
       "    <tr style=\"text-align: right;\">\n",
       "      <th></th>\n",
       "      <th>model</th>\n",
       "      <th>auto_stack</th>\n",
       "      <th>hyperparameters</th>\n",
       "      <th>hyperparameters kwargs</th>\n",
       "      <th>score</th>\n",
       "    </tr>\n",
       "  </thead>\n",
       "  <tbody>\n",
       "    <tr>\n",
       "      <th>0</th>\n",
       "      <td>initial</td>\n",
       "      <td>default</td>\n",
       "      <td>default</td>\n",
       "      <td>default</td>\n",
       "      <td>1.790</td>\n",
       "    </tr>\n",
       "    <tr>\n",
       "      <th>1</th>\n",
       "      <td>add_features</td>\n",
       "      <td>default</td>\n",
       "      <td>default</td>\n",
       "      <td>default</td>\n",
       "      <td>0.560</td>\n",
       "    </tr>\n",
       "    <tr>\n",
       "      <th>2</th>\n",
       "      <td>hpo</td>\n",
       "      <td>True</td>\n",
       "      <td>multimodal</td>\n",
       "      <td>auto</td>\n",
       "      <td>0.486</td>\n",
       "    </tr>\n",
       "  </tbody>\n",
       "</table>\n",
       "</div>\n",
       "      <button class=\"colab-df-convert\" onclick=\"convertToInteractive('df-cf4775f8-4019-44f8-b2cd-57525c9e5faf')\"\n",
       "              title=\"Convert this dataframe to an interactive table.\"\n",
       "              style=\"display:none;\">\n",
       "        \n",
       "  <svg xmlns=\"http://www.w3.org/2000/svg\" height=\"24px\"viewBox=\"0 0 24 24\"\n",
       "       width=\"24px\">\n",
       "    <path d=\"M0 0h24v24H0V0z\" fill=\"none\"/>\n",
       "    <path d=\"M18.56 5.44l.94 2.06.94-2.06 2.06-.94-2.06-.94-.94-2.06-.94 2.06-2.06.94zm-11 1L8.5 8.5l.94-2.06 2.06-.94-2.06-.94L8.5 2.5l-.94 2.06-2.06.94zm10 10l.94 2.06.94-2.06 2.06-.94-2.06-.94-.94-2.06-.94 2.06-2.06.94z\"/><path d=\"M17.41 7.96l-1.37-1.37c-.4-.4-.92-.59-1.43-.59-.52 0-1.04.2-1.43.59L10.3 9.45l-7.72 7.72c-.78.78-.78 2.05 0 2.83L4 21.41c.39.39.9.59 1.41.59.51 0 1.02-.2 1.41-.59l7.78-7.78 2.81-2.81c.8-.78.8-2.07 0-2.86zM5.41 20L4 18.59l7.72-7.72 1.47 1.35L5.41 20z\"/>\n",
       "  </svg>\n",
       "      </button>\n",
       "      \n",
       "  <style>\n",
       "    .colab-df-container {\n",
       "      display:flex;\n",
       "      flex-wrap:wrap;\n",
       "      gap: 12px;\n",
       "    }\n",
       "\n",
       "    .colab-df-convert {\n",
       "      background-color: #E8F0FE;\n",
       "      border: none;\n",
       "      border-radius: 50%;\n",
       "      cursor: pointer;\n",
       "      display: none;\n",
       "      fill: #1967D2;\n",
       "      height: 32px;\n",
       "      padding: 0 0 0 0;\n",
       "      width: 32px;\n",
       "    }\n",
       "\n",
       "    .colab-df-convert:hover {\n",
       "      background-color: #E2EBFA;\n",
       "      box-shadow: 0px 1px 2px rgba(60, 64, 67, 0.3), 0px 1px 3px 1px rgba(60, 64, 67, 0.15);\n",
       "      fill: #174EA6;\n",
       "    }\n",
       "\n",
       "    [theme=dark] .colab-df-convert {\n",
       "      background-color: #3B4455;\n",
       "      fill: #D2E3FC;\n",
       "    }\n",
       "\n",
       "    [theme=dark] .colab-df-convert:hover {\n",
       "      background-color: #434B5C;\n",
       "      box-shadow: 0px 1px 3px 1px rgba(0, 0, 0, 0.15);\n",
       "      filter: drop-shadow(0px 1px 2px rgba(0, 0, 0, 0.3));\n",
       "      fill: #FFFFFF;\n",
       "    }\n",
       "  </style>\n",
       "\n",
       "      <script>\n",
       "        const buttonEl =\n",
       "          document.querySelector('#df-cf4775f8-4019-44f8-b2cd-57525c9e5faf button.colab-df-convert');\n",
       "        buttonEl.style.display =\n",
       "          google.colab.kernel.accessAllowed ? 'block' : 'none';\n",
       "\n",
       "        async function convertToInteractive(key) {\n",
       "          const element = document.querySelector('#df-cf4775f8-4019-44f8-b2cd-57525c9e5faf');\n",
       "          const dataTable =\n",
       "            await google.colab.kernel.invokeFunction('convertToInteractive',\n",
       "                                                     [key], {});\n",
       "          if (!dataTable) return;\n",
       "\n",
       "          const docLinkHtml = 'Like what you see? Visit the ' +\n",
       "            '<a target=\"_blank\" href=https://colab.research.google.com/notebooks/data_table.ipynb>data table notebook</a>'\n",
       "            + ' to learn more about interactive tables.';\n",
       "          element.innerHTML = '';\n",
       "          dataTable['output_type'] = 'display_data';\n",
       "          await google.colab.output.renderOutput(dataTable, element);\n",
       "          const docLink = document.createElement('div');\n",
       "          docLink.innerHTML = docLinkHtml;\n",
       "          element.appendChild(docLink);\n",
       "        }\n",
       "      </script>\n",
       "    </div>\n",
       "  </div>\n",
       "  "
      ],
      "text/plain": [
       "          model auto_stack hyperparameters hyperparameters kwargs  score\n",
       "0       initial    default         default                default  1.790\n",
       "1  add_features    default         default                default  0.560\n",
       "2           hpo       True      multimodal                   auto  0.486"
      ]
     },
     "execution_count": 84,
     "metadata": {},
     "output_type": "execute_result"
    }
   ],
   "source": [
    "# The 3 hyperparameters we tuned with the kaggle score as the result\n",
    "pd.DataFrame({\n",
    "    \"model\": [\"initial\", \"add_features\", \"hpo\"],\n",
    "    \"auto_stack\": ['default', 'default', 'True'],\n",
    "    \"hyperparameters\": ['default', 'default', 'multimodal'],\n",
    "    \"hyperparameters kwargs\": ['default', 'default', 'auto'],\n",
    "    \"score\": [1.79, 0.56, 0.486]\n",
    "})"
   ]
  },
  {
   "cell_type": "code",
   "execution_count": null,
   "metadata": {
    "id": "Odhp2_YsHqNo"
   },
   "outputs": [],
   "source": []
  }
 ],
 "metadata": {
  "colab": {
   "collapsed_sections": [
    "k-K5FzULH0cQ",
    "1C3JJuzlH0cW"
   ],
   "name": "project-template.ipynb",
   "provenance": []
  },
  "kernelspec": {
   "display_name": "Python 3",
   "language": "python",
   "name": "python3"
  },
  "language_info": {
   "codemirror_mode": {
    "name": "ipython",
    "version": 3
   },
   "file_extension": ".py",
   "mimetype": "text/x-python",
   "name": "python",
   "nbconvert_exporter": "python",
   "pygments_lexer": "ipython3",
   "version": "3.8.8"
  }
 },
 "nbformat": 4,
 "nbformat_minor": 1
}
